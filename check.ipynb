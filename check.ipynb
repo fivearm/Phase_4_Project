{
 "cells": [
  {
   "cell_type": "code",
   "execution_count": 1,
   "id": "e0796d51",
   "metadata": {},
   "outputs": [],
   "source": [
    "import pandas as pd\n",
    "import numpy as np\n",
    "import seaborn as sns\n",
    "import matplotlib.pyplot as plt\n",
    "import math\n",
    "from statsmodels.tsa.stattools import adfuller, kpss\n",
    "from statsmodels.tsa.seasonal import seasonal_decompose\n",
    "from statsmodels.tsa.arima.model import ARIMA\n",
    "from keras.models import Sequential\n",
    "from keras.layers import LSTM, Dense, Dropout\n",
    "from sklearn.preprocessing import StandardScaler\n",
    "import warnings\n",
    "from fbprophet import Prophet\n",
    "\n",
    "%matplotlib inline\n",
    "warnings.simplefilter(action='ignore', category=FutureWarning)"
   ]
  },
  {
   "cell_type": "code",
   "execution_count": 2,
   "id": "e3358d33",
   "metadata": {},
   "outputs": [
    {
     "data": {
      "text/html": [
       "<div>\n",
       "<style scoped>\n",
       "    .dataframe tbody tr th:only-of-type {\n",
       "        vertical-align: middle;\n",
       "    }\n",
       "\n",
       "    .dataframe tbody tr th {\n",
       "        vertical-align: top;\n",
       "    }\n",
       "\n",
       "    .dataframe thead th {\n",
       "        text-align: right;\n",
       "    }\n",
       "</style>\n",
       "<table border=\"1\" class=\"dataframe\">\n",
       "  <thead>\n",
       "    <tr style=\"text-align: right;\">\n",
       "      <th></th>\n",
       "      <th>RegionID</th>\n",
       "      <th>RegionName</th>\n",
       "      <th>City</th>\n",
       "      <th>State</th>\n",
       "      <th>Metro</th>\n",
       "      <th>CountyName</th>\n",
       "      <th>SizeRank</th>\n",
       "      <th>1996-04</th>\n",
       "      <th>1996-05</th>\n",
       "      <th>1996-06</th>\n",
       "      <th>...</th>\n",
       "      <th>2017-07</th>\n",
       "      <th>2017-08</th>\n",
       "      <th>2017-09</th>\n",
       "      <th>2017-10</th>\n",
       "      <th>2017-11</th>\n",
       "      <th>2017-12</th>\n",
       "      <th>2018-01</th>\n",
       "      <th>2018-02</th>\n",
       "      <th>2018-03</th>\n",
       "      <th>2018-04</th>\n",
       "    </tr>\n",
       "  </thead>\n",
       "  <tbody>\n",
       "    <tr>\n",
       "      <th>0</th>\n",
       "      <td>84654</td>\n",
       "      <td>60657</td>\n",
       "      <td>Chicago</td>\n",
       "      <td>IL</td>\n",
       "      <td>Chicago</td>\n",
       "      <td>Cook</td>\n",
       "      <td>1</td>\n",
       "      <td>334200.0</td>\n",
       "      <td>335400.0</td>\n",
       "      <td>336500.0</td>\n",
       "      <td>...</td>\n",
       "      <td>1005500</td>\n",
       "      <td>1007500</td>\n",
       "      <td>1007800</td>\n",
       "      <td>1009600</td>\n",
       "      <td>1013300</td>\n",
       "      <td>1018700</td>\n",
       "      <td>1024400</td>\n",
       "      <td>1030700</td>\n",
       "      <td>1033800</td>\n",
       "      <td>1030600</td>\n",
       "    </tr>\n",
       "    <tr>\n",
       "      <th>1</th>\n",
       "      <td>90668</td>\n",
       "      <td>75070</td>\n",
       "      <td>McKinney</td>\n",
       "      <td>TX</td>\n",
       "      <td>Dallas-Fort Worth</td>\n",
       "      <td>Collin</td>\n",
       "      <td>2</td>\n",
       "      <td>235700.0</td>\n",
       "      <td>236900.0</td>\n",
       "      <td>236700.0</td>\n",
       "      <td>...</td>\n",
       "      <td>308000</td>\n",
       "      <td>310000</td>\n",
       "      <td>312500</td>\n",
       "      <td>314100</td>\n",
       "      <td>315000</td>\n",
       "      <td>316600</td>\n",
       "      <td>318100</td>\n",
       "      <td>319600</td>\n",
       "      <td>321100</td>\n",
       "      <td>321800</td>\n",
       "    </tr>\n",
       "    <tr>\n",
       "      <th>2</th>\n",
       "      <td>91982</td>\n",
       "      <td>77494</td>\n",
       "      <td>Katy</td>\n",
       "      <td>TX</td>\n",
       "      <td>Houston</td>\n",
       "      <td>Harris</td>\n",
       "      <td>3</td>\n",
       "      <td>210400.0</td>\n",
       "      <td>212200.0</td>\n",
       "      <td>212200.0</td>\n",
       "      <td>...</td>\n",
       "      <td>321000</td>\n",
       "      <td>320600</td>\n",
       "      <td>320200</td>\n",
       "      <td>320400</td>\n",
       "      <td>320800</td>\n",
       "      <td>321200</td>\n",
       "      <td>321200</td>\n",
       "      <td>323000</td>\n",
       "      <td>326900</td>\n",
       "      <td>329900</td>\n",
       "    </tr>\n",
       "    <tr>\n",
       "      <th>3</th>\n",
       "      <td>84616</td>\n",
       "      <td>60614</td>\n",
       "      <td>Chicago</td>\n",
       "      <td>IL</td>\n",
       "      <td>Chicago</td>\n",
       "      <td>Cook</td>\n",
       "      <td>4</td>\n",
       "      <td>498100.0</td>\n",
       "      <td>500900.0</td>\n",
       "      <td>503100.0</td>\n",
       "      <td>...</td>\n",
       "      <td>1289800</td>\n",
       "      <td>1287700</td>\n",
       "      <td>1287400</td>\n",
       "      <td>1291500</td>\n",
       "      <td>1296600</td>\n",
       "      <td>1299000</td>\n",
       "      <td>1302700</td>\n",
       "      <td>1306400</td>\n",
       "      <td>1308500</td>\n",
       "      <td>1307000</td>\n",
       "    </tr>\n",
       "    <tr>\n",
       "      <th>4</th>\n",
       "      <td>93144</td>\n",
       "      <td>79936</td>\n",
       "      <td>El Paso</td>\n",
       "      <td>TX</td>\n",
       "      <td>El Paso</td>\n",
       "      <td>El Paso</td>\n",
       "      <td>5</td>\n",
       "      <td>77300.0</td>\n",
       "      <td>77300.0</td>\n",
       "      <td>77300.0</td>\n",
       "      <td>...</td>\n",
       "      <td>119100</td>\n",
       "      <td>119400</td>\n",
       "      <td>120000</td>\n",
       "      <td>120300</td>\n",
       "      <td>120300</td>\n",
       "      <td>120300</td>\n",
       "      <td>120300</td>\n",
       "      <td>120500</td>\n",
       "      <td>121000</td>\n",
       "      <td>121500</td>\n",
       "    </tr>\n",
       "  </tbody>\n",
       "</table>\n",
       "<p>5 rows × 272 columns</p>\n",
       "</div>"
      ],
      "text/plain": [
       "   RegionID  RegionName      City State              Metro CountyName  \\\n",
       "0     84654       60657   Chicago    IL            Chicago       Cook   \n",
       "1     90668       75070  McKinney    TX  Dallas-Fort Worth     Collin   \n",
       "2     91982       77494      Katy    TX            Houston     Harris   \n",
       "3     84616       60614   Chicago    IL            Chicago       Cook   \n",
       "4     93144       79936   El Paso    TX            El Paso    El Paso   \n",
       "\n",
       "   SizeRank   1996-04   1996-05   1996-06  ...  2017-07  2017-08  2017-09  \\\n",
       "0         1  334200.0  335400.0  336500.0  ...  1005500  1007500  1007800   \n",
       "1         2  235700.0  236900.0  236700.0  ...   308000   310000   312500   \n",
       "2         3  210400.0  212200.0  212200.0  ...   321000   320600   320200   \n",
       "3         4  498100.0  500900.0  503100.0  ...  1289800  1287700  1287400   \n",
       "4         5   77300.0   77300.0   77300.0  ...   119100   119400   120000   \n",
       "\n",
       "   2017-10  2017-11  2017-12  2018-01  2018-02  2018-03  2018-04  \n",
       "0  1009600  1013300  1018700  1024400  1030700  1033800  1030600  \n",
       "1   314100   315000   316600   318100   319600   321100   321800  \n",
       "2   320400   320800   321200   321200   323000   326900   329900  \n",
       "3  1291500  1296600  1299000  1302700  1306400  1308500  1307000  \n",
       "4   120300   120300   120300   120300   120500   121000   121500  \n",
       "\n",
       "[5 rows x 272 columns]"
      ]
     },
     "execution_count": 2,
     "metadata": {},
     "output_type": "execute_result"
    }
   ],
   "source": [
    "df = pd.read_csv('data/zillow_data.csv')\n",
    "lumber = pd.read_csv('data/plywood_prices.csv')\n",
    "concrete = pd.read_csv('data/concrete_prices.csv')\n",
    "income = pd.read_csv('data/Median_household_income.csv')\n",
    "# df_1 = pd.read_csv('data/new_zillow_data.csv')\n",
    "df.head()"
   ]
  },
  {
   "cell_type": "code",
   "execution_count": 3,
   "id": "efc5ee79",
   "metadata": {},
   "outputs": [],
   "source": [
    "# try:\n",
    "#     df_1.drop(['StateName', 'RegionType'], axis = 1, inplace=True)\n",
    "# except:\n",
    "#     pass\n",
    "# df_1.head()"
   ]
  },
  {
   "cell_type": "code",
   "execution_count": 4,
   "id": "79f81b78",
   "metadata": {
    "scrolled": false
   },
   "outputs": [
    {
     "data": {
      "text/html": [
       "<div>\n",
       "<style scoped>\n",
       "    .dataframe tbody tr th:only-of-type {\n",
       "        vertical-align: middle;\n",
       "    }\n",
       "\n",
       "    .dataframe tbody tr th {\n",
       "        vertical-align: top;\n",
       "    }\n",
       "\n",
       "    .dataframe thead th {\n",
       "        text-align: right;\n",
       "    }\n",
       "</style>\n",
       "<table border=\"1\" class=\"dataframe\">\n",
       "  <thead>\n",
       "    <tr style=\"text-align: right;\">\n",
       "      <th></th>\n",
       "      <th>time</th>\n",
       "      <th>plywood prices</th>\n",
       "    </tr>\n",
       "  </thead>\n",
       "  <tbody>\n",
       "    <tr>\n",
       "      <th>0</th>\n",
       "      <td>2003-12-01</td>\n",
       "      <td>192.1</td>\n",
       "    </tr>\n",
       "    <tr>\n",
       "      <th>1</th>\n",
       "      <td>2004-01-01</td>\n",
       "      <td>174.4</td>\n",
       "    </tr>\n",
       "    <tr>\n",
       "      <th>2</th>\n",
       "      <td>2004-02-01</td>\n",
       "      <td>202.5</td>\n",
       "    </tr>\n",
       "    <tr>\n",
       "      <th>3</th>\n",
       "      <td>2004-03-01</td>\n",
       "      <td>218.5</td>\n",
       "    </tr>\n",
       "    <tr>\n",
       "      <th>4</th>\n",
       "      <td>2004-04-01</td>\n",
       "      <td>222.6</td>\n",
       "    </tr>\n",
       "    <tr>\n",
       "      <th>...</th>\n",
       "      <td>...</td>\n",
       "      <td>...</td>\n",
       "    </tr>\n",
       "    <tr>\n",
       "      <th>168</th>\n",
       "      <td>2017-12-01</td>\n",
       "      <td>218.1</td>\n",
       "    </tr>\n",
       "    <tr>\n",
       "      <th>169</th>\n",
       "      <td>2018-01-01</td>\n",
       "      <td>219.8</td>\n",
       "    </tr>\n",
       "    <tr>\n",
       "      <th>170</th>\n",
       "      <td>2018-02-01</td>\n",
       "      <td>227.9</td>\n",
       "    </tr>\n",
       "    <tr>\n",
       "      <th>171</th>\n",
       "      <td>2018-03-01</td>\n",
       "      <td>236.5</td>\n",
       "    </tr>\n",
       "    <tr>\n",
       "      <th>172</th>\n",
       "      <td>2018-04-01</td>\n",
       "      <td>236.6</td>\n",
       "    </tr>\n",
       "  </tbody>\n",
       "</table>\n",
       "<p>173 rows × 2 columns</p>\n",
       "</div>"
      ],
      "text/plain": [
       "           time  plywood prices\n",
       "0    2003-12-01           192.1\n",
       "1    2004-01-01           174.4\n",
       "2    2004-02-01           202.5\n",
       "3    2004-03-01           218.5\n",
       "4    2004-04-01           222.6\n",
       "..          ...             ...\n",
       "168  2017-12-01           218.1\n",
       "169  2018-01-01           219.8\n",
       "170  2018-02-01           227.9\n",
       "171  2018-03-01           236.5\n",
       "172  2018-04-01           236.6\n",
       "\n",
       "[173 rows x 2 columns]"
      ]
     },
     "execution_count": 4,
     "metadata": {},
     "output_type": "execute_result"
    }
   ],
   "source": [
    "lumber.rename({'WPU083': 'plywood prices', 'DATE': 'time'}, axis=1, inplace=True)\n",
    "lumber"
   ]
  },
  {
   "cell_type": "code",
   "execution_count": 5,
   "id": "fb1c1b48",
   "metadata": {
    "scrolled": true
   },
   "outputs": [
    {
     "data": {
      "text/html": [
       "<div>\n",
       "<style scoped>\n",
       "    .dataframe tbody tr th:only-of-type {\n",
       "        vertical-align: middle;\n",
       "    }\n",
       "\n",
       "    .dataframe tbody tr th {\n",
       "        vertical-align: top;\n",
       "    }\n",
       "\n",
       "    .dataframe thead th {\n",
       "        text-align: right;\n",
       "    }\n",
       "</style>\n",
       "<table border=\"1\" class=\"dataframe\">\n",
       "  <thead>\n",
       "    <tr style=\"text-align: right;\">\n",
       "      <th></th>\n",
       "      <th>time</th>\n",
       "      <th>concrete prices</th>\n",
       "    </tr>\n",
       "  </thead>\n",
       "  <tbody>\n",
       "    <tr>\n",
       "      <th>0</th>\n",
       "      <td>2003-12-01</td>\n",
       "      <td>100.0</td>\n",
       "    </tr>\n",
       "    <tr>\n",
       "      <th>1</th>\n",
       "      <td>2004-01-01</td>\n",
       "      <td>100.9</td>\n",
       "    </tr>\n",
       "    <tr>\n",
       "      <th>2</th>\n",
       "      <td>2004-02-01</td>\n",
       "      <td>101.7</td>\n",
       "    </tr>\n",
       "    <tr>\n",
       "      <th>3</th>\n",
       "      <td>2004-03-01</td>\n",
       "      <td>101.7</td>\n",
       "    </tr>\n",
       "    <tr>\n",
       "      <th>4</th>\n",
       "      <td>2004-04-01</td>\n",
       "      <td>102.4</td>\n",
       "    </tr>\n",
       "    <tr>\n",
       "      <th>...</th>\n",
       "      <td>...</td>\n",
       "      <td>...</td>\n",
       "    </tr>\n",
       "    <tr>\n",
       "      <th>168</th>\n",
       "      <td>2017-12-01</td>\n",
       "      <td>164.3</td>\n",
       "    </tr>\n",
       "    <tr>\n",
       "      <th>169</th>\n",
       "      <td>2018-01-01</td>\n",
       "      <td>165.8</td>\n",
       "    </tr>\n",
       "    <tr>\n",
       "      <th>170</th>\n",
       "      <td>2018-02-01</td>\n",
       "      <td>166.1</td>\n",
       "    </tr>\n",
       "    <tr>\n",
       "      <th>171</th>\n",
       "      <td>2018-03-01</td>\n",
       "      <td>168.9</td>\n",
       "    </tr>\n",
       "    <tr>\n",
       "      <th>172</th>\n",
       "      <td>2018-04-01</td>\n",
       "      <td>169.0</td>\n",
       "    </tr>\n",
       "  </tbody>\n",
       "</table>\n",
       "<p>173 rows × 2 columns</p>\n",
       "</div>"
      ],
      "text/plain": [
       "           time  concrete prices\n",
       "0    2003-12-01            100.0\n",
       "1    2004-01-01            100.9\n",
       "2    2004-02-01            101.7\n",
       "3    2004-03-01            101.7\n",
       "4    2004-04-01            102.4\n",
       "..          ...              ...\n",
       "168  2017-12-01            164.3\n",
       "169  2018-01-01            165.8\n",
       "170  2018-02-01            166.1\n",
       "171  2018-03-01            168.9\n",
       "172  2018-04-01            169.0\n",
       "\n",
       "[173 rows x 2 columns]"
      ]
     },
     "execution_count": 5,
     "metadata": {},
     "output_type": "execute_result"
    }
   ],
   "source": [
    "concrete.rename({'PCU32733273': 'concrete prices', 'DATE' : 'time'}, axis = 1, inplace = True)\n",
    "concrete"
   ]
  },
  {
   "cell_type": "code",
   "execution_count": 6,
   "id": "c51a01e2",
   "metadata": {
    "scrolled": true
   },
   "outputs": [
    {
     "data": {
      "text/html": [
       "<div>\n",
       "<style scoped>\n",
       "    .dataframe tbody tr th:only-of-type {\n",
       "        vertical-align: middle;\n",
       "    }\n",
       "\n",
       "    .dataframe tbody tr th {\n",
       "        vertical-align: top;\n",
       "    }\n",
       "\n",
       "    .dataframe thead th {\n",
       "        text-align: right;\n",
       "    }\n",
       "</style>\n",
       "<table border=\"1\" class=\"dataframe\">\n",
       "  <thead>\n",
       "    <tr style=\"text-align: right;\">\n",
       "      <th></th>\n",
       "      <th>time</th>\n",
       "      <th>median_house_inc</th>\n",
       "    </tr>\n",
       "  </thead>\n",
       "  <tbody>\n",
       "    <tr>\n",
       "      <th>0</th>\n",
       "      <td>1996-01-01</td>\n",
       "      <td>57772</td>\n",
       "    </tr>\n",
       "    <tr>\n",
       "      <th>1</th>\n",
       "      <td>1997-01-01</td>\n",
       "      <td>58961</td>\n",
       "    </tr>\n",
       "    <tr>\n",
       "      <th>2</th>\n",
       "      <td>1998-01-01</td>\n",
       "      <td>61128</td>\n",
       "    </tr>\n",
       "    <tr>\n",
       "      <th>3</th>\n",
       "      <td>1999-01-01</td>\n",
       "      <td>62641</td>\n",
       "    </tr>\n",
       "    <tr>\n",
       "      <th>4</th>\n",
       "      <td>2000-01-01</td>\n",
       "      <td>62512</td>\n",
       "    </tr>\n",
       "    <tr>\n",
       "      <th>5</th>\n",
       "      <td>2001-01-01</td>\n",
       "      <td>61126</td>\n",
       "    </tr>\n",
       "    <tr>\n",
       "      <th>6</th>\n",
       "      <td>2002-01-01</td>\n",
       "      <td>60435</td>\n",
       "    </tr>\n",
       "    <tr>\n",
       "      <th>7</th>\n",
       "      <td>2003-01-01</td>\n",
       "      <td>60360</td>\n",
       "    </tr>\n",
       "    <tr>\n",
       "      <th>8</th>\n",
       "      <td>2004-01-01</td>\n",
       "      <td>60150</td>\n",
       "    </tr>\n",
       "    <tr>\n",
       "      <th>9</th>\n",
       "      <td>2005-01-01</td>\n",
       "      <td>60794</td>\n",
       "    </tr>\n",
       "    <tr>\n",
       "      <th>10</th>\n",
       "      <td>2006-01-01</td>\n",
       "      <td>61268</td>\n",
       "    </tr>\n",
       "    <tr>\n",
       "      <th>11</th>\n",
       "      <td>2007-01-01</td>\n",
       "      <td>62090</td>\n",
       "    </tr>\n",
       "    <tr>\n",
       "      <th>12</th>\n",
       "      <td>2008-01-01</td>\n",
       "      <td>59877</td>\n",
       "    </tr>\n",
       "    <tr>\n",
       "      <th>13</th>\n",
       "      <td>2009-01-01</td>\n",
       "      <td>59458</td>\n",
       "    </tr>\n",
       "    <tr>\n",
       "      <th>14</th>\n",
       "      <td>2010-01-01</td>\n",
       "      <td>57904</td>\n",
       "    </tr>\n",
       "    <tr>\n",
       "      <th>15</th>\n",
       "      <td>2011-01-01</td>\n",
       "      <td>57021</td>\n",
       "    </tr>\n",
       "    <tr>\n",
       "      <th>16</th>\n",
       "      <td>2012-01-01</td>\n",
       "      <td>56912</td>\n",
       "    </tr>\n",
       "    <tr>\n",
       "      <th>17</th>\n",
       "      <td>2013-01-01</td>\n",
       "      <td>58904</td>\n",
       "    </tr>\n",
       "    <tr>\n",
       "      <th>18</th>\n",
       "      <td>2014-01-01</td>\n",
       "      <td>58001</td>\n",
       "    </tr>\n",
       "    <tr>\n",
       "      <th>19</th>\n",
       "      <td>2015-01-01</td>\n",
       "      <td>60987</td>\n",
       "    </tr>\n",
       "    <tr>\n",
       "      <th>20</th>\n",
       "      <td>2016-01-01</td>\n",
       "      <td>62898</td>\n",
       "    </tr>\n",
       "    <tr>\n",
       "      <th>21</th>\n",
       "      <td>2017-01-01</td>\n",
       "      <td>63761</td>\n",
       "    </tr>\n",
       "    <tr>\n",
       "      <th>22</th>\n",
       "      <td>2018-01-01</td>\n",
       "      <td>64324</td>\n",
       "    </tr>\n",
       "    <tr>\n",
       "      <th>23</th>\n",
       "      <td>2019-01-01</td>\n",
       "      <td>68703</td>\n",
       "    </tr>\n",
       "  </tbody>\n",
       "</table>\n",
       "</div>"
      ],
      "text/plain": [
       "          time  median_house_inc\n",
       "0   1996-01-01             57772\n",
       "1   1997-01-01             58961\n",
       "2   1998-01-01             61128\n",
       "3   1999-01-01             62641\n",
       "4   2000-01-01             62512\n",
       "5   2001-01-01             61126\n",
       "6   2002-01-01             60435\n",
       "7   2003-01-01             60360\n",
       "8   2004-01-01             60150\n",
       "9   2005-01-01             60794\n",
       "10  2006-01-01             61268\n",
       "11  2007-01-01             62090\n",
       "12  2008-01-01             59877\n",
       "13  2009-01-01             59458\n",
       "14  2010-01-01             57904\n",
       "15  2011-01-01             57021\n",
       "16  2012-01-01             56912\n",
       "17  2013-01-01             58904\n",
       "18  2014-01-01             58001\n",
       "19  2015-01-01             60987\n",
       "20  2016-01-01             62898\n",
       "21  2017-01-01             63761\n",
       "22  2018-01-01             64324\n",
       "23  2019-01-01             68703"
      ]
     },
     "execution_count": 6,
     "metadata": {},
     "output_type": "execute_result"
    }
   ],
   "source": [
    "income.rename({'MEHOINUSA672N': 'median_house_inc', 'DATE' : 'time'}, axis=1, inplace=True)\n",
    "income"
   ]
  },
  {
   "cell_type": "code",
   "execution_count": 7,
   "id": "cbf3d7e9",
   "metadata": {},
   "outputs": [],
   "source": [
    "def get_datetimes(df):\n",
    "    \"\"\"\n",
    "    Takes a dataframe:\n",
    "    returns only those column names that can be converted into datetime objects \n",
    "    as datetime objects.\n",
    "    NOTE number of returned columns may not match total number of columns in passed dataframe\n",
    "    \"\"\"\n",
    "    \n",
    "    return pd.to_datetime(df.columns.values[7:], format='%Y-%m')"
   ]
  },
  {
   "cell_type": "code",
   "execution_count": 8,
   "id": "fca1268a",
   "metadata": {},
   "outputs": [],
   "source": [
    "def melt_data(df, compress = False):\n",
    "    \"\"\"\n",
    "    Takes the zillow_data dataset in wide form or a subset of the zillow_dataset.  \n",
    "    Returns a long-form datetime dataframe \n",
    "    with the datetime column names as the index and the values as the 'values' column.\n",
    "    \n",
    "    If more than one row is passes in the wide-form dataset, the values column\n",
    "    will be the mean of the values from the datetime columns in all of the rows.\n",
    "    \n",
    "    If compress is True will compress data to only the value column.\n",
    "    \"\"\"\n",
    "    if compress == True:\n",
    "        melted = pd.melt(df, id_vars=['RegionName', 'RegionID', 'SizeRank', 'City', 'State', \n",
    "                                      'Metro', 'CountyName'], var_name='time')\n",
    "        melted['time'] = pd.to_datetime(melted['time'], infer_datetime_format=True)\n",
    "        melted = melted.dropna(subset=['value'])\n",
    "        return melted.groupby('time').aggregate({'value':'mean'})\n",
    "    else:\n",
    "        melted = pd.melt(df, id_vars=['RegionName', 'RegionID', 'SizeRank', 'City', 'State', \n",
    "                                      'Metro', 'CountyName'], var_name='time')\n",
    "        melted['time'] = pd.to_datetime(melted['time'], infer_datetime_format=True)\n",
    "        melted = melted.dropna(subset=['value'])\n",
    "        return melted"
   ]
  },
  {
   "cell_type": "code",
   "execution_count": 9,
   "id": "2fc7a94a",
   "metadata": {},
   "outputs": [],
   "source": [
    "def mean_absolute_percentage_error(y_true, y_pred):\n",
    "    \"\"\"\n",
    "    Takes in the y_true values and the y_pred and will\n",
    "    return the mean absolute error as a percent\n",
    "    \"\"\"\n",
    "    y_true, y_pred = np.array(y_true), np.array(y_pred)\n",
    "    return np.mean(np.abs((y_true - y_pred) / y_true)) * 100"
   ]
  },
  {
   "cell_type": "code",
   "execution_count": 10,
   "id": "b62af507",
   "metadata": {},
   "outputs": [],
   "source": [
    "def plot_series(df, name = None, window = None, X = None, y = None, x_label = None, y_label = None):\n",
    "    '''\n",
    "    Will plot dataframe, rolling mean, rolling std of a given dataframe\n",
    "    \n",
    "    Parameters\n",
    "    ------------\n",
    "    df : The dataframe you with to plot\n",
    "    name : The name of the plot\n",
    "    window : The window of the rolling values\n",
    "    X : length of the df\n",
    "    y : height of the df\n",
    "    x_label : The X-axis label\n",
    "    y_label : The y-axis label\n",
    "    \n",
    "    Returns\n",
    "    -----------\n",
    "    Plot of the Original data, the rolling mean, and the rolling standard deviation\n",
    "    '''\n",
    "    df_mean = df.rolling(window=window).mean()\n",
    "    df_std = df.rolling(window=window).std()\n",
    "\n",
    "    fig, ax = plt.subplots(figsize = (X,y))\n",
    "\n",
    "    orig = plt.plot(df, label = 'Original')\n",
    "    mean = plt.plot(df_mean, label = 'Rolling Mean')\n",
    "    std = plt.plot(df_std, label = 'Rolling Std')\n",
    "    plt.title(name)\n",
    "    plt.xlabel(x_label)\n",
    "    plt.ylabel(y_label)\n",
    "    plt.legend(loc = 'best')\n",
    "    plt.show();"
   ]
  },
  {
   "cell_type": "code",
   "execution_count": 11,
   "id": "cf2c915a",
   "metadata": {},
   "outputs": [],
   "source": [
    "def seasonal_plot(df, window = None, X = None, y = None):\n",
    "    '''\n",
    "    Plotting the seasonal decompose\n",
    "    \n",
    "    Parameters\n",
    "    -----------\n",
    "    df : The dataframe you wish to decompose\n",
    "    window : The rolling window\n",
    "    X : The length of the plot\n",
    "    y : The Height of the plot\n",
    "    \n",
    "    Return \n",
    "    -----------\n",
    "    A seasonal decompose of the dataframe. \n",
    "    '''\n",
    "    result = seasonal_decompose(df.rolling(window).mean().dropna())\n",
    "    plt.rcParams['figure.figsize'] = (X,y)\n",
    "    result.plot();"
   ]
  },
  {
   "cell_type": "code",
   "execution_count": 12,
   "id": "912213b5",
   "metadata": {},
   "outputs": [],
   "source": [
    "def adfuller_test(df, name = None):\n",
    "    '''\n",
    "    Take a dataframe or series and returns the adfuller test for it.\n",
    "    \n",
    "    Parameters\n",
    "    -----------\n",
    "    df : dataframe or series\n",
    "    name = Name of the variable you are testing\n",
    "    '''\n",
    "    df_test = adfuller(df)\n",
    "    print(f'Adfuller test for {name}')\n",
    "    print('-'*20)\n",
    "    print('Test Stastic = {:.3f}'.format(df_test[0]))\n",
    "    print('P-value = {:.3f}'.format(df_test[1]))\n",
    "    print('Critical values :')\n",
    "    for k, v in df_test[4].items():\n",
    "        print(f\"{k}: {v} - The data is {'not' if v < df_test[0] else ''} stationary with {100 - int(k[:-1])}% confidence\")"
   ]
  },
  {
   "cell_type": "code",
   "execution_count": 13,
   "id": "fee8f6c8",
   "metadata": {},
   "outputs": [],
   "source": [
    "def kpss_test(df, name = None):\n",
    "    '''\n",
    "    Will return the kpss test\n",
    "    \n",
    "    Parmeters\n",
    "    ----------\n",
    "    df = dataframe or series\n",
    "    name = Name of the variable you are testing\n",
    "    '''\n",
    "    df_test = kpss(np.log(df), nlags='auto')\n",
    "    print(f'Is {name} data stationary?')\n",
    "    print(f'Test stastic = {df_test[0]: .3f}')\n",
    "    print(f'P-value = {df_test[1]: .3f}')\n",
    "    print('Critical Values: ')\n",
    "    for k, v in df_test[3].items():\n",
    "        print(f'{k}: {v}')"
   ]
  },
  {
   "cell_type": "code",
   "execution_count": 16,
   "id": "c127e5ef",
   "metadata": {
    "scrolled": true
   },
   "outputs": [
    {
     "data": {
      "text/html": [
       "<div>\n",
       "<style scoped>\n",
       "    .dataframe tbody tr th:only-of-type {\n",
       "        vertical-align: middle;\n",
       "    }\n",
       "\n",
       "    .dataframe tbody tr th {\n",
       "        vertical-align: top;\n",
       "    }\n",
       "\n",
       "    .dataframe thead th {\n",
       "        text-align: right;\n",
       "    }\n",
       "</style>\n",
       "<table border=\"1\" class=\"dataframe\">\n",
       "  <thead>\n",
       "    <tr style=\"text-align: right;\">\n",
       "      <th></th>\n",
       "      <th>RegionName</th>\n",
       "      <th>RegionID</th>\n",
       "      <th>SizeRank</th>\n",
       "      <th>City</th>\n",
       "      <th>State</th>\n",
       "      <th>Metro</th>\n",
       "      <th>CountyName</th>\n",
       "      <th>time</th>\n",
       "      <th>value</th>\n",
       "    </tr>\n",
       "  </thead>\n",
       "  <tbody>\n",
       "    <tr>\n",
       "      <th>0</th>\n",
       "      <td>60657</td>\n",
       "      <td>84654</td>\n",
       "      <td>1</td>\n",
       "      <td>Chicago</td>\n",
       "      <td>IL</td>\n",
       "      <td>Chicago</td>\n",
       "      <td>Cook</td>\n",
       "      <td>1996-04-01</td>\n",
       "      <td>334200.0</td>\n",
       "    </tr>\n",
       "    <tr>\n",
       "      <th>1</th>\n",
       "      <td>75070</td>\n",
       "      <td>90668</td>\n",
       "      <td>2</td>\n",
       "      <td>McKinney</td>\n",
       "      <td>TX</td>\n",
       "      <td>Dallas-Fort Worth</td>\n",
       "      <td>Collin</td>\n",
       "      <td>1996-04-01</td>\n",
       "      <td>235700.0</td>\n",
       "    </tr>\n",
       "    <tr>\n",
       "      <th>2</th>\n",
       "      <td>77494</td>\n",
       "      <td>91982</td>\n",
       "      <td>3</td>\n",
       "      <td>Katy</td>\n",
       "      <td>TX</td>\n",
       "      <td>Houston</td>\n",
       "      <td>Harris</td>\n",
       "      <td>1996-04-01</td>\n",
       "      <td>210400.0</td>\n",
       "    </tr>\n",
       "    <tr>\n",
       "      <th>3</th>\n",
       "      <td>60614</td>\n",
       "      <td>84616</td>\n",
       "      <td>4</td>\n",
       "      <td>Chicago</td>\n",
       "      <td>IL</td>\n",
       "      <td>Chicago</td>\n",
       "      <td>Cook</td>\n",
       "      <td>1996-04-01</td>\n",
       "      <td>498100.0</td>\n",
       "    </tr>\n",
       "    <tr>\n",
       "      <th>4</th>\n",
       "      <td>79936</td>\n",
       "      <td>93144</td>\n",
       "      <td>5</td>\n",
       "      <td>El Paso</td>\n",
       "      <td>TX</td>\n",
       "      <td>El Paso</td>\n",
       "      <td>El Paso</td>\n",
       "      <td>1996-04-01</td>\n",
       "      <td>77300.0</td>\n",
       "    </tr>\n",
       "    <tr>\n",
       "      <th>...</th>\n",
       "      <td>...</td>\n",
       "      <td>...</td>\n",
       "      <td>...</td>\n",
       "      <td>...</td>\n",
       "      <td>...</td>\n",
       "      <td>...</td>\n",
       "      <td>...</td>\n",
       "      <td>...</td>\n",
       "      <td>...</td>\n",
       "    </tr>\n",
       "    <tr>\n",
       "      <th>3901590</th>\n",
       "      <td>1338</td>\n",
       "      <td>58333</td>\n",
       "      <td>14719</td>\n",
       "      <td>Ashfield</td>\n",
       "      <td>MA</td>\n",
       "      <td>Greenfield Town</td>\n",
       "      <td>Franklin</td>\n",
       "      <td>2018-04-01</td>\n",
       "      <td>209300.0</td>\n",
       "    </tr>\n",
       "    <tr>\n",
       "      <th>3901591</th>\n",
       "      <td>3293</td>\n",
       "      <td>59107</td>\n",
       "      <td>14720</td>\n",
       "      <td>Woodstock</td>\n",
       "      <td>NH</td>\n",
       "      <td>Claremont</td>\n",
       "      <td>Grafton</td>\n",
       "      <td>2018-04-01</td>\n",
       "      <td>225800.0</td>\n",
       "    </tr>\n",
       "    <tr>\n",
       "      <th>3901592</th>\n",
       "      <td>40404</td>\n",
       "      <td>75672</td>\n",
       "      <td>14721</td>\n",
       "      <td>Berea</td>\n",
       "      <td>KY</td>\n",
       "      <td>Richmond</td>\n",
       "      <td>Madison</td>\n",
       "      <td>2018-04-01</td>\n",
       "      <td>133400.0</td>\n",
       "    </tr>\n",
       "    <tr>\n",
       "      <th>3901593</th>\n",
       "      <td>81225</td>\n",
       "      <td>93733</td>\n",
       "      <td>14722</td>\n",
       "      <td>Mount Crested Butte</td>\n",
       "      <td>CO</td>\n",
       "      <td>NaN</td>\n",
       "      <td>Gunnison</td>\n",
       "      <td>2018-04-01</td>\n",
       "      <td>664400.0</td>\n",
       "    </tr>\n",
       "    <tr>\n",
       "      <th>3901594</th>\n",
       "      <td>89155</td>\n",
       "      <td>95851</td>\n",
       "      <td>14723</td>\n",
       "      <td>Mesquite</td>\n",
       "      <td>NV</td>\n",
       "      <td>Las Vegas</td>\n",
       "      <td>Clark</td>\n",
       "      <td>2018-04-01</td>\n",
       "      <td>357200.0</td>\n",
       "    </tr>\n",
       "  </tbody>\n",
       "</table>\n",
       "<p>3744704 rows × 9 columns</p>\n",
       "</div>"
      ],
      "text/plain": [
       "         RegionName  RegionID  SizeRank                 City State  \\\n",
       "0             60657     84654         1              Chicago    IL   \n",
       "1             75070     90668         2             McKinney    TX   \n",
       "2             77494     91982         3                 Katy    TX   \n",
       "3             60614     84616         4              Chicago    IL   \n",
       "4             79936     93144         5              El Paso    TX   \n",
       "...             ...       ...       ...                  ...   ...   \n",
       "3901590        1338     58333     14719             Ashfield    MA   \n",
       "3901591        3293     59107     14720            Woodstock    NH   \n",
       "3901592       40404     75672     14721                Berea    KY   \n",
       "3901593       81225     93733     14722  Mount Crested Butte    CO   \n",
       "3901594       89155     95851     14723             Mesquite    NV   \n",
       "\n",
       "                     Metro CountyName       time     value  \n",
       "0                  Chicago       Cook 1996-04-01  334200.0  \n",
       "1        Dallas-Fort Worth     Collin 1996-04-01  235700.0  \n",
       "2                  Houston     Harris 1996-04-01  210400.0  \n",
       "3                  Chicago       Cook 1996-04-01  498100.0  \n",
       "4                  El Paso    El Paso 1996-04-01   77300.0  \n",
       "...                    ...        ...        ...       ...  \n",
       "3901590    Greenfield Town   Franklin 2018-04-01  209300.0  \n",
       "3901591          Claremont    Grafton 2018-04-01  225800.0  \n",
       "3901592           Richmond    Madison 2018-04-01  133400.0  \n",
       "3901593                NaN   Gunnison 2018-04-01  664400.0  \n",
       "3901594          Las Vegas      Clark 2018-04-01  357200.0  \n",
       "\n",
       "[3744704 rows x 9 columns]"
      ]
     },
     "execution_count": 16,
     "metadata": {},
     "output_type": "execute_result"
    }
   ],
   "source": [
    "df_melt = melt_data(df)\n",
    "df_melt"
   ]
  },
  {
   "cell_type": "code",
   "execution_count": 15,
   "id": "5e286311",
   "metadata": {},
   "outputs": [
    {
     "data": {
      "text/html": [
       "<div>\n",
       "<style scoped>\n",
       "    .dataframe tbody tr th:only-of-type {\n",
       "        vertical-align: middle;\n",
       "    }\n",
       "\n",
       "    .dataframe tbody tr th {\n",
       "        vertical-align: top;\n",
       "    }\n",
       "\n",
       "    .dataframe thead th {\n",
       "        text-align: right;\n",
       "    }\n",
       "</style>\n",
       "<table border=\"1\" class=\"dataframe\">\n",
       "  <thead>\n",
       "    <tr style=\"text-align: right;\">\n",
       "      <th></th>\n",
       "      <th>RegionName</th>\n",
       "      <th>RegionID</th>\n",
       "      <th>SizeRank</th>\n",
       "      <th>City</th>\n",
       "      <th>State</th>\n",
       "      <th>Metro</th>\n",
       "      <th>CountyName</th>\n",
       "      <th>time</th>\n",
       "      <th>value</th>\n",
       "    </tr>\n",
       "  </thead>\n",
       "  <tbody>\n",
       "    <tr>\n",
       "      <th>3901590</th>\n",
       "      <td>1338</td>\n",
       "      <td>58333</td>\n",
       "      <td>14719</td>\n",
       "      <td>Ashfield</td>\n",
       "      <td>MA</td>\n",
       "      <td>Greenfield Town</td>\n",
       "      <td>Franklin</td>\n",
       "      <td>2018-04-01</td>\n",
       "      <td>209300.0</td>\n",
       "    </tr>\n",
       "    <tr>\n",
       "      <th>3901591</th>\n",
       "      <td>3293</td>\n",
       "      <td>59107</td>\n",
       "      <td>14720</td>\n",
       "      <td>Woodstock</td>\n",
       "      <td>NH</td>\n",
       "      <td>Claremont</td>\n",
       "      <td>Grafton</td>\n",
       "      <td>2018-04-01</td>\n",
       "      <td>225800.0</td>\n",
       "    </tr>\n",
       "    <tr>\n",
       "      <th>3901592</th>\n",
       "      <td>40404</td>\n",
       "      <td>75672</td>\n",
       "      <td>14721</td>\n",
       "      <td>Berea</td>\n",
       "      <td>KY</td>\n",
       "      <td>Richmond</td>\n",
       "      <td>Madison</td>\n",
       "      <td>2018-04-01</td>\n",
       "      <td>133400.0</td>\n",
       "    </tr>\n",
       "    <tr>\n",
       "      <th>3901593</th>\n",
       "      <td>81225</td>\n",
       "      <td>93733</td>\n",
       "      <td>14722</td>\n",
       "      <td>Mount Crested Butte</td>\n",
       "      <td>CO</td>\n",
       "      <td>NaN</td>\n",
       "      <td>Gunnison</td>\n",
       "      <td>2018-04-01</td>\n",
       "      <td>664400.0</td>\n",
       "    </tr>\n",
       "    <tr>\n",
       "      <th>3901594</th>\n",
       "      <td>89155</td>\n",
       "      <td>95851</td>\n",
       "      <td>14723</td>\n",
       "      <td>Mesquite</td>\n",
       "      <td>NV</td>\n",
       "      <td>Las Vegas</td>\n",
       "      <td>Clark</td>\n",
       "      <td>2018-04-01</td>\n",
       "      <td>357200.0</td>\n",
       "    </tr>\n",
       "  </tbody>\n",
       "</table>\n",
       "</div>"
      ],
      "text/plain": [
       "         RegionName  RegionID  SizeRank                 City State  \\\n",
       "3901590        1338     58333     14719             Ashfield    MA   \n",
       "3901591        3293     59107     14720            Woodstock    NH   \n",
       "3901592       40404     75672     14721                Berea    KY   \n",
       "3901593       81225     93733     14722  Mount Crested Butte    CO   \n",
       "3901594       89155     95851     14723             Mesquite    NV   \n",
       "\n",
       "                   Metro CountyName       time     value  \n",
       "3901590  Greenfield Town   Franklin 2018-04-01  209300.0  \n",
       "3901591        Claremont    Grafton 2018-04-01  225800.0  \n",
       "3901592         Richmond    Madison 2018-04-01  133400.0  \n",
       "3901593              NaN   Gunnison 2018-04-01  664400.0  \n",
       "3901594        Las Vegas      Clark 2018-04-01  357200.0  "
      ]
     },
     "execution_count": 15,
     "metadata": {},
     "output_type": "execute_result"
    }
   ],
   "source": [
    "df_melt.tail()"
   ]
  },
  {
   "cell_type": "code",
   "execution_count": 16,
   "id": "1e22bb3a",
   "metadata": {},
   "outputs": [
    {
     "name": "stdout",
     "output_type": "stream",
     "text": [
      "<class 'pandas.core.frame.DataFrame'>\n",
      "Int64Index: 3744704 entries, 0 to 3901594\n",
      "Data columns (total 9 columns):\n",
      " #   Column      Dtype         \n",
      "---  ------      -----         \n",
      " 0   RegionName  int64         \n",
      " 1   RegionID    int64         \n",
      " 2   SizeRank    int64         \n",
      " 3   City        object        \n",
      " 4   State       object        \n",
      " 5   Metro       object        \n",
      " 6   CountyName  object        \n",
      " 7   time        datetime64[ns]\n",
      " 8   value       float64       \n",
      "dtypes: datetime64[ns](1), float64(1), int64(3), object(4)\n",
      "memory usage: 285.7+ MB\n"
     ]
    }
   ],
   "source": [
    "df_melt.info()"
   ]
  },
  {
   "cell_type": "code",
   "execution_count": 17,
   "id": "f73e1e21",
   "metadata": {},
   "outputs": [
    {
     "data": {
      "text/plain": [
       "(Timestamp('1996-04-01 00:00:00'), Timestamp('2018-04-01 00:00:00'))"
      ]
     },
     "execution_count": 17,
     "metadata": {},
     "output_type": "execute_result"
    }
   ],
   "source": [
    "df_melt.time.min(), df_melt.time.max()"
   ]
  },
  {
   "cell_type": "code",
   "execution_count": 18,
   "id": "bd385e13",
   "metadata": {},
   "outputs": [],
   "source": [
    "# df_melt_1 = melt_data(df_1)\n",
    "# df_melt_1.head()"
   ]
  },
  {
   "cell_type": "code",
   "execution_count": 19,
   "id": "2e1f24ae",
   "metadata": {},
   "outputs": [],
   "source": [
    "# df_melt_1.info()"
   ]
  },
  {
   "cell_type": "code",
   "execution_count": 20,
   "id": "8cd1d202",
   "metadata": {},
   "outputs": [],
   "source": [
    "# df_melt_1.time.min(), df_melt_1.time.max()"
   ]
  },
  {
   "cell_type": "markdown",
   "id": "4dd0f02a",
   "metadata": {},
   "source": [
    "### Merging the data together"
   ]
  },
  {
   "cell_type": "code",
   "execution_count": 21,
   "id": "3a64db58",
   "metadata": {},
   "outputs": [],
   "source": [
    "melt_df= melt_data(df, compress=False)"
   ]
  },
  {
   "cell_type": "code",
   "execution_count": 22,
   "id": "c407d822",
   "metadata": {},
   "outputs": [],
   "source": [
    "melt_df.set_index('time', inplace=True)"
   ]
  },
  {
   "cell_type": "code",
   "execution_count": 23,
   "id": "c648d8b2",
   "metadata": {},
   "outputs": [],
   "source": [
    "melt_df = melt_df[melt_df.index >= '2003-12-01']"
   ]
  },
  {
   "cell_type": "code",
   "execution_count": 24,
   "id": "9169d28b",
   "metadata": {},
   "outputs": [
    {
     "data": {
      "text/html": [
       "<div>\n",
       "<style scoped>\n",
       "    .dataframe tbody tr th:only-of-type {\n",
       "        vertical-align: middle;\n",
       "    }\n",
       "\n",
       "    .dataframe tbody tr th {\n",
       "        vertical-align: top;\n",
       "    }\n",
       "\n",
       "    .dataframe thead th {\n",
       "        text-align: right;\n",
       "    }\n",
       "</style>\n",
       "<table border=\"1\" class=\"dataframe\">\n",
       "  <thead>\n",
       "    <tr style=\"text-align: right;\">\n",
       "      <th></th>\n",
       "      <th>RegionName</th>\n",
       "      <th>RegionID</th>\n",
       "      <th>SizeRank</th>\n",
       "      <th>City</th>\n",
       "      <th>State</th>\n",
       "      <th>Metro</th>\n",
       "      <th>CountyName</th>\n",
       "      <th>value</th>\n",
       "    </tr>\n",
       "    <tr>\n",
       "      <th>time</th>\n",
       "      <th></th>\n",
       "      <th></th>\n",
       "      <th></th>\n",
       "      <th></th>\n",
       "      <th></th>\n",
       "      <th></th>\n",
       "      <th></th>\n",
       "      <th></th>\n",
       "    </tr>\n",
       "  </thead>\n",
       "  <tbody>\n",
       "    <tr>\n",
       "      <th>2003-12-01</th>\n",
       "      <td>60657</td>\n",
       "      <td>84654</td>\n",
       "      <td>1</td>\n",
       "      <td>Chicago</td>\n",
       "      <td>IL</td>\n",
       "      <td>Chicago</td>\n",
       "      <td>Cook</td>\n",
       "      <td>752300.0</td>\n",
       "    </tr>\n",
       "    <tr>\n",
       "      <th>2003-12-01</th>\n",
       "      <td>75070</td>\n",
       "      <td>90668</td>\n",
       "      <td>2</td>\n",
       "      <td>McKinney</td>\n",
       "      <td>TX</td>\n",
       "      <td>Dallas-Fort Worth</td>\n",
       "      <td>Collin</td>\n",
       "      <td>187100.0</td>\n",
       "    </tr>\n",
       "    <tr>\n",
       "      <th>2003-12-01</th>\n",
       "      <td>77494</td>\n",
       "      <td>91982</td>\n",
       "      <td>3</td>\n",
       "      <td>Katy</td>\n",
       "      <td>TX</td>\n",
       "      <td>Houston</td>\n",
       "      <td>Harris</td>\n",
       "      <td>229600.0</td>\n",
       "    </tr>\n",
       "    <tr>\n",
       "      <th>2003-12-01</th>\n",
       "      <td>60614</td>\n",
       "      <td>84616</td>\n",
       "      <td>4</td>\n",
       "      <td>Chicago</td>\n",
       "      <td>IL</td>\n",
       "      <td>Chicago</td>\n",
       "      <td>Cook</td>\n",
       "      <td>1012600.0</td>\n",
       "    </tr>\n",
       "    <tr>\n",
       "      <th>2003-12-01</th>\n",
       "      <td>79936</td>\n",
       "      <td>93144</td>\n",
       "      <td>5</td>\n",
       "      <td>El Paso</td>\n",
       "      <td>TX</td>\n",
       "      <td>El Paso</td>\n",
       "      <td>El Paso</td>\n",
       "      <td>83400.0</td>\n",
       "    </tr>\n",
       "    <tr>\n",
       "      <th>...</th>\n",
       "      <td>...</td>\n",
       "      <td>...</td>\n",
       "      <td>...</td>\n",
       "      <td>...</td>\n",
       "      <td>...</td>\n",
       "      <td>...</td>\n",
       "      <td>...</td>\n",
       "      <td>...</td>\n",
       "    </tr>\n",
       "    <tr>\n",
       "      <th>2018-04-01</th>\n",
       "      <td>1338</td>\n",
       "      <td>58333</td>\n",
       "      <td>14719</td>\n",
       "      <td>Ashfield</td>\n",
       "      <td>MA</td>\n",
       "      <td>Greenfield Town</td>\n",
       "      <td>Franklin</td>\n",
       "      <td>209300.0</td>\n",
       "    </tr>\n",
       "    <tr>\n",
       "      <th>2018-04-01</th>\n",
       "      <td>3293</td>\n",
       "      <td>59107</td>\n",
       "      <td>14720</td>\n",
       "      <td>Woodstock</td>\n",
       "      <td>NH</td>\n",
       "      <td>Claremont</td>\n",
       "      <td>Grafton</td>\n",
       "      <td>225800.0</td>\n",
       "    </tr>\n",
       "    <tr>\n",
       "      <th>2018-04-01</th>\n",
       "      <td>40404</td>\n",
       "      <td>75672</td>\n",
       "      <td>14721</td>\n",
       "      <td>Berea</td>\n",
       "      <td>KY</td>\n",
       "      <td>Richmond</td>\n",
       "      <td>Madison</td>\n",
       "      <td>133400.0</td>\n",
       "    </tr>\n",
       "    <tr>\n",
       "      <th>2018-04-01</th>\n",
       "      <td>81225</td>\n",
       "      <td>93733</td>\n",
       "      <td>14722</td>\n",
       "      <td>Mount Crested Butte</td>\n",
       "      <td>CO</td>\n",
       "      <td>NaN</td>\n",
       "      <td>Gunnison</td>\n",
       "      <td>664400.0</td>\n",
       "    </tr>\n",
       "    <tr>\n",
       "      <th>2018-04-01</th>\n",
       "      <td>89155</td>\n",
       "      <td>95851</td>\n",
       "      <td>14723</td>\n",
       "      <td>Mesquite</td>\n",
       "      <td>NV</td>\n",
       "      <td>Las Vegas</td>\n",
       "      <td>Clark</td>\n",
       "      <td>357200.0</td>\n",
       "    </tr>\n",
       "  </tbody>\n",
       "</table>\n",
       "<p>2484967 rows × 8 columns</p>\n",
       "</div>"
      ],
      "text/plain": [
       "            RegionName  RegionID  SizeRank                 City State  \\\n",
       "time                                                                    \n",
       "2003-12-01       60657     84654         1              Chicago    IL   \n",
       "2003-12-01       75070     90668         2             McKinney    TX   \n",
       "2003-12-01       77494     91982         3                 Katy    TX   \n",
       "2003-12-01       60614     84616         4              Chicago    IL   \n",
       "2003-12-01       79936     93144         5              El Paso    TX   \n",
       "...                ...       ...       ...                  ...   ...   \n",
       "2018-04-01        1338     58333     14719             Ashfield    MA   \n",
       "2018-04-01        3293     59107     14720            Woodstock    NH   \n",
       "2018-04-01       40404     75672     14721                Berea    KY   \n",
       "2018-04-01       81225     93733     14722  Mount Crested Butte    CO   \n",
       "2018-04-01       89155     95851     14723             Mesquite    NV   \n",
       "\n",
       "                        Metro CountyName      value  \n",
       "time                                                 \n",
       "2003-12-01            Chicago       Cook   752300.0  \n",
       "2003-12-01  Dallas-Fort Worth     Collin   187100.0  \n",
       "2003-12-01            Houston     Harris   229600.0  \n",
       "2003-12-01            Chicago       Cook  1012600.0  \n",
       "2003-12-01            El Paso    El Paso    83400.0  \n",
       "...                       ...        ...        ...  \n",
       "2018-04-01    Greenfield Town   Franklin   209300.0  \n",
       "2018-04-01          Claremont    Grafton   225800.0  \n",
       "2018-04-01           Richmond    Madison   133400.0  \n",
       "2018-04-01                NaN   Gunnison   664400.0  \n",
       "2018-04-01          Las Vegas      Clark   357200.0  \n",
       "\n",
       "[2484967 rows x 8 columns]"
      ]
     },
     "execution_count": 24,
     "metadata": {},
     "output_type": "execute_result"
    }
   ],
   "source": [
    "melt_df"
   ]
  },
  {
   "cell_type": "code",
   "execution_count": 25,
   "id": "6bb49cfd",
   "metadata": {},
   "outputs": [
    {
     "data": {
      "text/plain": [
       "time              0\n",
       "plywood prices    0\n",
       "dtype: int64"
      ]
     },
     "execution_count": 25,
     "metadata": {},
     "output_type": "execute_result"
    }
   ],
   "source": [
    "lumber.isna().sum()"
   ]
  },
  {
   "cell_type": "code",
   "execution_count": 26,
   "id": "6fbff484",
   "metadata": {},
   "outputs": [
    {
     "data": {
      "text/plain": [
       "time               0\n",
       "concrete prices    0\n",
       "dtype: int64"
      ]
     },
     "execution_count": 26,
     "metadata": {},
     "output_type": "execute_result"
    }
   ],
   "source": [
    "concrete.isna().sum()"
   ]
  },
  {
   "cell_type": "code",
   "execution_count": 27,
   "id": "46cba2ce",
   "metadata": {
    "scrolled": true
   },
   "outputs": [
    {
     "data": {
      "text/plain": [
       "time               0\n",
       "concrete prices    0\n",
       "plywood prices     0\n",
       "dtype: int64"
      ]
     },
     "execution_count": 27,
     "metadata": {},
     "output_type": "execute_result"
    }
   ],
   "source": [
    "try:\n",
    "    con_lum = concrete.merge(lumber, on = 'time')\n",
    "except:\n",
    "    pass\n",
    "con_lum['time'] = pd.to_datetime(con_lum['time'])\n",
    "con_lum.isna().sum()"
   ]
  },
  {
   "cell_type": "code",
   "execution_count": 28,
   "id": "41d7e788",
   "metadata": {
    "scrolled": true
   },
   "outputs": [
    {
     "data": {
      "text/plain": [
       "0    1996-01-01\n",
       "1    1997-01-01\n",
       "2    1998-01-01\n",
       "3    1999-01-01\n",
       "4    2000-01-01\n",
       "5    2001-01-01\n",
       "6    2002-01-01\n",
       "7    2003-01-01\n",
       "8    2004-01-01\n",
       "9    2005-01-01\n",
       "10   2006-01-01\n",
       "11   2007-01-01\n",
       "12   2008-01-01\n",
       "13   2009-01-01\n",
       "14   2010-01-01\n",
       "15   2011-01-01\n",
       "16   2012-01-01\n",
       "17   2013-01-01\n",
       "18   2014-01-01\n",
       "19   2015-01-01\n",
       "20   2016-01-01\n",
       "21   2017-01-01\n",
       "22   2018-01-01\n",
       "23   2019-01-01\n",
       "Name: time, dtype: datetime64[ns]"
      ]
     },
     "execution_count": 28,
     "metadata": {},
     "output_type": "execute_result"
    }
   ],
   "source": [
    "income['time'] = pd.to_datetime(income['time'])\n",
    "income.time"
   ]
  },
  {
   "cell_type": "code",
   "execution_count": 29,
   "id": "32a5bec2",
   "metadata": {
    "scrolled": true
   },
   "outputs": [
    {
     "data": {
      "text/plain": [
       "time                0\n",
       "median_house_inc    0\n",
       "dtype: int64"
      ]
     },
     "execution_count": 29,
     "metadata": {},
     "output_type": "execute_result"
    }
   ],
   "source": [
    "try:\n",
    "    income.set_index('time', inplace=True)\n",
    "except:\n",
    "    pass\n",
    "income = income.resample('MS').ffill()\n",
    "income = income.reset_index()\n",
    "income.isna().sum()"
   ]
  },
  {
   "cell_type": "code",
   "execution_count": 30,
   "id": "60e1cdbc",
   "metadata": {
    "scrolled": true
   },
   "outputs": [
    {
     "data": {
      "text/plain": [
       "time                0\n",
       "concrete prices     0\n",
       "plywood prices      0\n",
       "median_house_inc    0\n",
       "dtype: int64"
      ]
     },
     "execution_count": 30,
     "metadata": {},
     "output_type": "execute_result"
    }
   ],
   "source": [
    "try:\n",
    "    final_3 = con_lum.merge(income, on='time')\n",
    "except:\n",
    "    pass\n",
    "final_3.isna().sum()"
   ]
  },
  {
   "cell_type": "code",
   "execution_count": 31,
   "id": "b82745da",
   "metadata": {},
   "outputs": [
    {
     "data": {
      "text/html": [
       "<div>\n",
       "<style scoped>\n",
       "    .dataframe tbody tr th:only-of-type {\n",
       "        vertical-align: middle;\n",
       "    }\n",
       "\n",
       "    .dataframe tbody tr th {\n",
       "        vertical-align: top;\n",
       "    }\n",
       "\n",
       "    .dataframe thead th {\n",
       "        text-align: right;\n",
       "    }\n",
       "</style>\n",
       "<table border=\"1\" class=\"dataframe\">\n",
       "  <thead>\n",
       "    <tr style=\"text-align: right;\">\n",
       "      <th></th>\n",
       "      <th>concrete prices</th>\n",
       "      <th>plywood prices</th>\n",
       "      <th>median_house_inc</th>\n",
       "    </tr>\n",
       "    <tr>\n",
       "      <th>time</th>\n",
       "      <th></th>\n",
       "      <th></th>\n",
       "      <th></th>\n",
       "    </tr>\n",
       "  </thead>\n",
       "  <tbody>\n",
       "    <tr>\n",
       "      <th>2003-12-01</th>\n",
       "      <td>100.0</td>\n",
       "      <td>192.1</td>\n",
       "      <td>60360</td>\n",
       "    </tr>\n",
       "    <tr>\n",
       "      <th>2004-01-01</th>\n",
       "      <td>100.9</td>\n",
       "      <td>174.4</td>\n",
       "      <td>60150</td>\n",
       "    </tr>\n",
       "    <tr>\n",
       "      <th>2004-02-01</th>\n",
       "      <td>101.7</td>\n",
       "      <td>202.5</td>\n",
       "      <td>60150</td>\n",
       "    </tr>\n",
       "    <tr>\n",
       "      <th>2004-03-01</th>\n",
       "      <td>101.7</td>\n",
       "      <td>218.5</td>\n",
       "      <td>60150</td>\n",
       "    </tr>\n",
       "    <tr>\n",
       "      <th>2004-04-01</th>\n",
       "      <td>102.4</td>\n",
       "      <td>222.6</td>\n",
       "      <td>60150</td>\n",
       "    </tr>\n",
       "    <tr>\n",
       "      <th>...</th>\n",
       "      <td>...</td>\n",
       "      <td>...</td>\n",
       "      <td>...</td>\n",
       "    </tr>\n",
       "    <tr>\n",
       "      <th>2017-12-01</th>\n",
       "      <td>164.3</td>\n",
       "      <td>218.1</td>\n",
       "      <td>63761</td>\n",
       "    </tr>\n",
       "    <tr>\n",
       "      <th>2018-01-01</th>\n",
       "      <td>165.8</td>\n",
       "      <td>219.8</td>\n",
       "      <td>64324</td>\n",
       "    </tr>\n",
       "    <tr>\n",
       "      <th>2018-02-01</th>\n",
       "      <td>166.1</td>\n",
       "      <td>227.9</td>\n",
       "      <td>64324</td>\n",
       "    </tr>\n",
       "    <tr>\n",
       "      <th>2018-03-01</th>\n",
       "      <td>168.9</td>\n",
       "      <td>236.5</td>\n",
       "      <td>64324</td>\n",
       "    </tr>\n",
       "    <tr>\n",
       "      <th>2018-04-01</th>\n",
       "      <td>169.0</td>\n",
       "      <td>236.6</td>\n",
       "      <td>64324</td>\n",
       "    </tr>\n",
       "  </tbody>\n",
       "</table>\n",
       "<p>173 rows × 3 columns</p>\n",
       "</div>"
      ],
      "text/plain": [
       "            concrete prices  plywood prices  median_house_inc\n",
       "time                                                         \n",
       "2003-12-01            100.0           192.1             60360\n",
       "2004-01-01            100.9           174.4             60150\n",
       "2004-02-01            101.7           202.5             60150\n",
       "2004-03-01            101.7           218.5             60150\n",
       "2004-04-01            102.4           222.6             60150\n",
       "...                     ...             ...               ...\n",
       "2017-12-01            164.3           218.1             63761\n",
       "2018-01-01            165.8           219.8             64324\n",
       "2018-02-01            166.1           227.9             64324\n",
       "2018-03-01            168.9           236.5             64324\n",
       "2018-04-01            169.0           236.6             64324\n",
       "\n",
       "[173 rows x 3 columns]"
      ]
     },
     "execution_count": 31,
     "metadata": {},
     "output_type": "execute_result"
    }
   ],
   "source": [
    "final_3.set_index('time', inplace=True)\n",
    "final_3"
   ]
  },
  {
   "cell_type": "code",
   "execution_count": 32,
   "id": "9b098adf",
   "metadata": {
    "scrolled": false
   },
   "outputs": [
    {
     "data": {
      "text/html": [
       "<div>\n",
       "<style scoped>\n",
       "    .dataframe tbody tr th:only-of-type {\n",
       "        vertical-align: middle;\n",
       "    }\n",
       "\n",
       "    .dataframe tbody tr th {\n",
       "        vertical-align: top;\n",
       "    }\n",
       "\n",
       "    .dataframe thead th {\n",
       "        text-align: right;\n",
       "    }\n",
       "</style>\n",
       "<table border=\"1\" class=\"dataframe\">\n",
       "  <thead>\n",
       "    <tr style=\"text-align: right;\">\n",
       "      <th></th>\n",
       "      <th>RegionName</th>\n",
       "      <th>RegionID</th>\n",
       "      <th>SizeRank</th>\n",
       "      <th>City</th>\n",
       "      <th>State</th>\n",
       "      <th>Metro</th>\n",
       "      <th>CountyName</th>\n",
       "      <th>value</th>\n",
       "      <th>concrete prices</th>\n",
       "      <th>plywood prices</th>\n",
       "      <th>median_house_inc</th>\n",
       "    </tr>\n",
       "    <tr>\n",
       "      <th>time</th>\n",
       "      <th></th>\n",
       "      <th></th>\n",
       "      <th></th>\n",
       "      <th></th>\n",
       "      <th></th>\n",
       "      <th></th>\n",
       "      <th></th>\n",
       "      <th></th>\n",
       "      <th></th>\n",
       "      <th></th>\n",
       "      <th></th>\n",
       "    </tr>\n",
       "  </thead>\n",
       "  <tbody>\n",
       "    <tr>\n",
       "      <th>2003-12-01</th>\n",
       "      <td>60657</td>\n",
       "      <td>84654</td>\n",
       "      <td>1</td>\n",
       "      <td>Chicago</td>\n",
       "      <td>IL</td>\n",
       "      <td>Chicago</td>\n",
       "      <td>Cook</td>\n",
       "      <td>752300.0</td>\n",
       "      <td>100.0</td>\n",
       "      <td>192.1</td>\n",
       "      <td>60360</td>\n",
       "    </tr>\n",
       "    <tr>\n",
       "      <th>2003-12-01</th>\n",
       "      <td>75070</td>\n",
       "      <td>90668</td>\n",
       "      <td>2</td>\n",
       "      <td>McKinney</td>\n",
       "      <td>TX</td>\n",
       "      <td>Dallas-Fort Worth</td>\n",
       "      <td>Collin</td>\n",
       "      <td>187100.0</td>\n",
       "      <td>100.0</td>\n",
       "      <td>192.1</td>\n",
       "      <td>60360</td>\n",
       "    </tr>\n",
       "    <tr>\n",
       "      <th>2003-12-01</th>\n",
       "      <td>77494</td>\n",
       "      <td>91982</td>\n",
       "      <td>3</td>\n",
       "      <td>Katy</td>\n",
       "      <td>TX</td>\n",
       "      <td>Houston</td>\n",
       "      <td>Harris</td>\n",
       "      <td>229600.0</td>\n",
       "      <td>100.0</td>\n",
       "      <td>192.1</td>\n",
       "      <td>60360</td>\n",
       "    </tr>\n",
       "    <tr>\n",
       "      <th>2003-12-01</th>\n",
       "      <td>60614</td>\n",
       "      <td>84616</td>\n",
       "      <td>4</td>\n",
       "      <td>Chicago</td>\n",
       "      <td>IL</td>\n",
       "      <td>Chicago</td>\n",
       "      <td>Cook</td>\n",
       "      <td>1012600.0</td>\n",
       "      <td>100.0</td>\n",
       "      <td>192.1</td>\n",
       "      <td>60360</td>\n",
       "    </tr>\n",
       "    <tr>\n",
       "      <th>2003-12-01</th>\n",
       "      <td>79936</td>\n",
       "      <td>93144</td>\n",
       "      <td>5</td>\n",
       "      <td>El Paso</td>\n",
       "      <td>TX</td>\n",
       "      <td>El Paso</td>\n",
       "      <td>El Paso</td>\n",
       "      <td>83400.0</td>\n",
       "      <td>100.0</td>\n",
       "      <td>192.1</td>\n",
       "      <td>60360</td>\n",
       "    </tr>\n",
       "    <tr>\n",
       "      <th>...</th>\n",
       "      <td>...</td>\n",
       "      <td>...</td>\n",
       "      <td>...</td>\n",
       "      <td>...</td>\n",
       "      <td>...</td>\n",
       "      <td>...</td>\n",
       "      <td>...</td>\n",
       "      <td>...</td>\n",
       "      <td>...</td>\n",
       "      <td>...</td>\n",
       "      <td>...</td>\n",
       "    </tr>\n",
       "    <tr>\n",
       "      <th>2018-04-01</th>\n",
       "      <td>1338</td>\n",
       "      <td>58333</td>\n",
       "      <td>14719</td>\n",
       "      <td>Ashfield</td>\n",
       "      <td>MA</td>\n",
       "      <td>Greenfield Town</td>\n",
       "      <td>Franklin</td>\n",
       "      <td>209300.0</td>\n",
       "      <td>169.0</td>\n",
       "      <td>236.6</td>\n",
       "      <td>64324</td>\n",
       "    </tr>\n",
       "    <tr>\n",
       "      <th>2018-04-01</th>\n",
       "      <td>3293</td>\n",
       "      <td>59107</td>\n",
       "      <td>14720</td>\n",
       "      <td>Woodstock</td>\n",
       "      <td>NH</td>\n",
       "      <td>Claremont</td>\n",
       "      <td>Grafton</td>\n",
       "      <td>225800.0</td>\n",
       "      <td>169.0</td>\n",
       "      <td>236.6</td>\n",
       "      <td>64324</td>\n",
       "    </tr>\n",
       "    <tr>\n",
       "      <th>2018-04-01</th>\n",
       "      <td>40404</td>\n",
       "      <td>75672</td>\n",
       "      <td>14721</td>\n",
       "      <td>Berea</td>\n",
       "      <td>KY</td>\n",
       "      <td>Richmond</td>\n",
       "      <td>Madison</td>\n",
       "      <td>133400.0</td>\n",
       "      <td>169.0</td>\n",
       "      <td>236.6</td>\n",
       "      <td>64324</td>\n",
       "    </tr>\n",
       "    <tr>\n",
       "      <th>2018-04-01</th>\n",
       "      <td>81225</td>\n",
       "      <td>93733</td>\n",
       "      <td>14722</td>\n",
       "      <td>Mount Crested Butte</td>\n",
       "      <td>CO</td>\n",
       "      <td>NaN</td>\n",
       "      <td>Gunnison</td>\n",
       "      <td>664400.0</td>\n",
       "      <td>169.0</td>\n",
       "      <td>236.6</td>\n",
       "      <td>64324</td>\n",
       "    </tr>\n",
       "    <tr>\n",
       "      <th>2018-04-01</th>\n",
       "      <td>89155</td>\n",
       "      <td>95851</td>\n",
       "      <td>14723</td>\n",
       "      <td>Mesquite</td>\n",
       "      <td>NV</td>\n",
       "      <td>Las Vegas</td>\n",
       "      <td>Clark</td>\n",
       "      <td>357200.0</td>\n",
       "      <td>169.0</td>\n",
       "      <td>236.6</td>\n",
       "      <td>64324</td>\n",
       "    </tr>\n",
       "  </tbody>\n",
       "</table>\n",
       "<p>2484967 rows × 11 columns</p>\n",
       "</div>"
      ],
      "text/plain": [
       "            RegionName  RegionID  SizeRank                 City State  \\\n",
       "time                                                                    \n",
       "2003-12-01       60657     84654         1              Chicago    IL   \n",
       "2003-12-01       75070     90668         2             McKinney    TX   \n",
       "2003-12-01       77494     91982         3                 Katy    TX   \n",
       "2003-12-01       60614     84616         4              Chicago    IL   \n",
       "2003-12-01       79936     93144         5              El Paso    TX   \n",
       "...                ...       ...       ...                  ...   ...   \n",
       "2018-04-01        1338     58333     14719             Ashfield    MA   \n",
       "2018-04-01        3293     59107     14720            Woodstock    NH   \n",
       "2018-04-01       40404     75672     14721                Berea    KY   \n",
       "2018-04-01       81225     93733     14722  Mount Crested Butte    CO   \n",
       "2018-04-01       89155     95851     14723             Mesquite    NV   \n",
       "\n",
       "                        Metro CountyName      value  concrete prices  \\\n",
       "time                                                                   \n",
       "2003-12-01            Chicago       Cook   752300.0            100.0   \n",
       "2003-12-01  Dallas-Fort Worth     Collin   187100.0            100.0   \n",
       "2003-12-01            Houston     Harris   229600.0            100.0   \n",
       "2003-12-01            Chicago       Cook  1012600.0            100.0   \n",
       "2003-12-01            El Paso    El Paso    83400.0            100.0   \n",
       "...                       ...        ...        ...              ...   \n",
       "2018-04-01    Greenfield Town   Franklin   209300.0            169.0   \n",
       "2018-04-01          Claremont    Grafton   225800.0            169.0   \n",
       "2018-04-01           Richmond    Madison   133400.0            169.0   \n",
       "2018-04-01                NaN   Gunnison   664400.0            169.0   \n",
       "2018-04-01          Las Vegas      Clark   357200.0            169.0   \n",
       "\n",
       "            plywood prices  median_house_inc  \n",
       "time                                          \n",
       "2003-12-01           192.1             60360  \n",
       "2003-12-01           192.1             60360  \n",
       "2003-12-01           192.1             60360  \n",
       "2003-12-01           192.1             60360  \n",
       "2003-12-01           192.1             60360  \n",
       "...                    ...               ...  \n",
       "2018-04-01           236.6             64324  \n",
       "2018-04-01           236.6             64324  \n",
       "2018-04-01           236.6             64324  \n",
       "2018-04-01           236.6             64324  \n",
       "2018-04-01           236.6             64324  \n",
       "\n",
       "[2484967 rows x 11 columns]"
      ]
     },
     "execution_count": 32,
     "metadata": {},
     "output_type": "execute_result"
    }
   ],
   "source": [
    "final_df = melt_df.join(final_3)#pd.concat([melt_df, final_3], axis=1)\n",
    "final_df"
   ]
  },
  {
   "cell_type": "markdown",
   "id": "5ecf2a8a",
   "metadata": {},
   "source": [
    "# TIme Series Analysis - LSTM"
   ]
  },
  {
   "cell_type": "code",
   "execution_count": 33,
   "id": "c15e047e",
   "metadata": {},
   "outputs": [],
   "source": [
    "Denver_df = final_df[final_df['RegionName'] == 80216]\n",
    "Vallejo_df = final_df[final_df['RegionName'] == 94590]\n",
    "Atlanta_df = final_df[final_df['RegionName'] == 30316]\n",
    "Miami_gard_df = final_df[final_df['RegionName'] == 33055]\n",
    "Miami_df = final_df[final_df['RegionName'] == 33135]"
   ]
  },
  {
   "cell_type": "markdown",
   "id": "ac5500a8",
   "metadata": {},
   "source": [
    "## Denver"
   ]
  },
  {
   "cell_type": "code",
   "execution_count": 34,
   "id": "f133e46e",
   "metadata": {},
   "outputs": [
    {
     "data": {
      "text/html": [
       "<div>\n",
       "<style scoped>\n",
       "    .dataframe tbody tr th:only-of-type {\n",
       "        vertical-align: middle;\n",
       "    }\n",
       "\n",
       "    .dataframe tbody tr th {\n",
       "        vertical-align: top;\n",
       "    }\n",
       "\n",
       "    .dataframe thead th {\n",
       "        text-align: right;\n",
       "    }\n",
       "</style>\n",
       "<table border=\"1\" class=\"dataframe\">\n",
       "  <thead>\n",
       "    <tr style=\"text-align: right;\">\n",
       "      <th></th>\n",
       "      <th>RegionName</th>\n",
       "      <th>RegionID</th>\n",
       "      <th>SizeRank</th>\n",
       "      <th>City</th>\n",
       "      <th>State</th>\n",
       "      <th>Metro</th>\n",
       "      <th>CountyName</th>\n",
       "      <th>value</th>\n",
       "      <th>concrete prices</th>\n",
       "      <th>plywood prices</th>\n",
       "      <th>median_house_inc</th>\n",
       "    </tr>\n",
       "    <tr>\n",
       "      <th>time</th>\n",
       "      <th></th>\n",
       "      <th></th>\n",
       "      <th></th>\n",
       "      <th></th>\n",
       "      <th></th>\n",
       "      <th></th>\n",
       "      <th></th>\n",
       "      <th></th>\n",
       "      <th></th>\n",
       "      <th></th>\n",
       "      <th></th>\n",
       "    </tr>\n",
       "  </thead>\n",
       "  <tbody>\n",
       "    <tr>\n",
       "      <th>2013-01-01</th>\n",
       "      <td>80216</td>\n",
       "      <td>93292</td>\n",
       "      <td>7303</td>\n",
       "      <td>Denver</td>\n",
       "      <td>CO</td>\n",
       "      <td>Denver</td>\n",
       "      <td>Denver</td>\n",
       "      <td>91800.0</td>\n",
       "      <td>140.0</td>\n",
       "      <td>198.2</td>\n",
       "      <td>58904</td>\n",
       "    </tr>\n",
       "    <tr>\n",
       "      <th>2013-02-01</th>\n",
       "      <td>80216</td>\n",
       "      <td>93292</td>\n",
       "      <td>7303</td>\n",
       "      <td>Denver</td>\n",
       "      <td>CO</td>\n",
       "      <td>Denver</td>\n",
       "      <td>Denver</td>\n",
       "      <td>93300.0</td>\n",
       "      <td>140.1</td>\n",
       "      <td>200.7</td>\n",
       "      <td>58904</td>\n",
       "    </tr>\n",
       "    <tr>\n",
       "      <th>2013-03-01</th>\n",
       "      <td>80216</td>\n",
       "      <td>93292</td>\n",
       "      <td>7303</td>\n",
       "      <td>Denver</td>\n",
       "      <td>CO</td>\n",
       "      <td>Denver</td>\n",
       "      <td>Denver</td>\n",
       "      <td>95000.0</td>\n",
       "      <td>140.2</td>\n",
       "      <td>204.7</td>\n",
       "      <td>58904</td>\n",
       "    </tr>\n",
       "    <tr>\n",
       "      <th>2013-04-01</th>\n",
       "      <td>80216</td>\n",
       "      <td>93292</td>\n",
       "      <td>7303</td>\n",
       "      <td>Denver</td>\n",
       "      <td>CO</td>\n",
       "      <td>Denver</td>\n",
       "      <td>Denver</td>\n",
       "      <td>97600.0</td>\n",
       "      <td>141.4</td>\n",
       "      <td>207.9</td>\n",
       "      <td>58904</td>\n",
       "    </tr>\n",
       "    <tr>\n",
       "      <th>2013-05-01</th>\n",
       "      <td>80216</td>\n",
       "      <td>93292</td>\n",
       "      <td>7303</td>\n",
       "      <td>Denver</td>\n",
       "      <td>CO</td>\n",
       "      <td>Denver</td>\n",
       "      <td>Denver</td>\n",
       "      <td>100900.0</td>\n",
       "      <td>141.5</td>\n",
       "      <td>206.8</td>\n",
       "      <td>58904</td>\n",
       "    </tr>\n",
       "    <tr>\n",
       "      <th>...</th>\n",
       "      <td>...</td>\n",
       "      <td>...</td>\n",
       "      <td>...</td>\n",
       "      <td>...</td>\n",
       "      <td>...</td>\n",
       "      <td>...</td>\n",
       "      <td>...</td>\n",
       "      <td>...</td>\n",
       "      <td>...</td>\n",
       "      <td>...</td>\n",
       "      <td>...</td>\n",
       "    </tr>\n",
       "    <tr>\n",
       "      <th>2017-12-01</th>\n",
       "      <td>80216</td>\n",
       "      <td>93292</td>\n",
       "      <td>7303</td>\n",
       "      <td>Denver</td>\n",
       "      <td>CO</td>\n",
       "      <td>Denver</td>\n",
       "      <td>Denver</td>\n",
       "      <td>251200.0</td>\n",
       "      <td>164.3</td>\n",
       "      <td>218.1</td>\n",
       "      <td>63761</td>\n",
       "    </tr>\n",
       "    <tr>\n",
       "      <th>2018-01-01</th>\n",
       "      <td>80216</td>\n",
       "      <td>93292</td>\n",
       "      <td>7303</td>\n",
       "      <td>Denver</td>\n",
       "      <td>CO</td>\n",
       "      <td>Denver</td>\n",
       "      <td>Denver</td>\n",
       "      <td>253800.0</td>\n",
       "      <td>165.8</td>\n",
       "      <td>219.8</td>\n",
       "      <td>64324</td>\n",
       "    </tr>\n",
       "    <tr>\n",
       "      <th>2018-02-01</th>\n",
       "      <td>80216</td>\n",
       "      <td>93292</td>\n",
       "      <td>7303</td>\n",
       "      <td>Denver</td>\n",
       "      <td>CO</td>\n",
       "      <td>Denver</td>\n",
       "      <td>Denver</td>\n",
       "      <td>258100.0</td>\n",
       "      <td>166.1</td>\n",
       "      <td>227.9</td>\n",
       "      <td>64324</td>\n",
       "    </tr>\n",
       "    <tr>\n",
       "      <th>2018-03-01</th>\n",
       "      <td>80216</td>\n",
       "      <td>93292</td>\n",
       "      <td>7303</td>\n",
       "      <td>Denver</td>\n",
       "      <td>CO</td>\n",
       "      <td>Denver</td>\n",
       "      <td>Denver</td>\n",
       "      <td>263700.0</td>\n",
       "      <td>168.9</td>\n",
       "      <td>236.5</td>\n",
       "      <td>64324</td>\n",
       "    </tr>\n",
       "    <tr>\n",
       "      <th>2018-04-01</th>\n",
       "      <td>80216</td>\n",
       "      <td>93292</td>\n",
       "      <td>7303</td>\n",
       "      <td>Denver</td>\n",
       "      <td>CO</td>\n",
       "      <td>Denver</td>\n",
       "      <td>Denver</td>\n",
       "      <td>267300.0</td>\n",
       "      <td>169.0</td>\n",
       "      <td>236.6</td>\n",
       "      <td>64324</td>\n",
       "    </tr>\n",
       "  </tbody>\n",
       "</table>\n",
       "<p>64 rows × 11 columns</p>\n",
       "</div>"
      ],
      "text/plain": [
       "            RegionName  RegionID  SizeRank    City State   Metro CountyName  \\\n",
       "time                                                                          \n",
       "2013-01-01       80216     93292      7303  Denver    CO  Denver     Denver   \n",
       "2013-02-01       80216     93292      7303  Denver    CO  Denver     Denver   \n",
       "2013-03-01       80216     93292      7303  Denver    CO  Denver     Denver   \n",
       "2013-04-01       80216     93292      7303  Denver    CO  Denver     Denver   \n",
       "2013-05-01       80216     93292      7303  Denver    CO  Denver     Denver   \n",
       "...                ...       ...       ...     ...   ...     ...        ...   \n",
       "2017-12-01       80216     93292      7303  Denver    CO  Denver     Denver   \n",
       "2018-01-01       80216     93292      7303  Denver    CO  Denver     Denver   \n",
       "2018-02-01       80216     93292      7303  Denver    CO  Denver     Denver   \n",
       "2018-03-01       80216     93292      7303  Denver    CO  Denver     Denver   \n",
       "2018-04-01       80216     93292      7303  Denver    CO  Denver     Denver   \n",
       "\n",
       "               value  concrete prices  plywood prices  median_house_inc  \n",
       "time                                                                     \n",
       "2013-01-01   91800.0            140.0           198.2             58904  \n",
       "2013-02-01   93300.0            140.1           200.7             58904  \n",
       "2013-03-01   95000.0            140.2           204.7             58904  \n",
       "2013-04-01   97600.0            141.4           207.9             58904  \n",
       "2013-05-01  100900.0            141.5           206.8             58904  \n",
       "...              ...              ...             ...               ...  \n",
       "2017-12-01  251200.0            164.3           218.1             63761  \n",
       "2018-01-01  253800.0            165.8           219.8             64324  \n",
       "2018-02-01  258100.0            166.1           227.9             64324  \n",
       "2018-03-01  263700.0            168.9           236.5             64324  \n",
       "2018-04-01  267300.0            169.0           236.6             64324  \n",
       "\n",
       "[64 rows x 11 columns]"
      ]
     },
     "execution_count": 34,
     "metadata": {},
     "output_type": "execute_result"
    }
   ],
   "source": [
    "Denver_df"
   ]
  },
  {
   "cell_type": "code",
   "execution_count": 35,
   "id": "33d59c0a",
   "metadata": {
    "scrolled": true
   },
   "outputs": [
    {
     "data": {
      "image/png": "[encoded data removed]",
      "text/plain": [
       "<Figure size 1080x360 with 1 Axes>"
      ]
     },
     "metadata": {
      "needs_background": "light"
     },
     "output_type": "display_data"
    }
   ],
   "source": [
    "denver = Denver_df[['value']]\n",
    "plot_series(denver, name='House Prices in the Denver', window=12,\n",
    "            X = 15,\n",
    "            y = 5,\n",
    "            x_label= 'Year',\n",
    "            y_label='House Price')"
   ]
  },
  {
   "cell_type": "code",
   "execution_count": 36,
   "id": "75a3a00c",
   "metadata": {},
   "outputs": [
    {
     "data": {
      "image/png": "[encoded data removed]",
      "text/plain": [
       "<Figure size 1080x720 with 4 Axes>"
      ]
     },
     "metadata": {
      "needs_background": "light"
     },
     "output_type": "display_data"
    }
   ],
   "source": [
    "seasonal_plot(denver, window=12, X = 15, y = 10)"
   ]
  },
  {
   "cell_type": "code",
   "execution_count": 37,
   "id": "006c2978",
   "metadata": {
    "scrolled": true
   },
   "outputs": [
    {
     "name": "stdout",
     "output_type": "stream",
     "text": [
      "Adfuller test for Denver Prices\n",
      "--------------------\n",
      "Test Stastic = 0.221\n",
      "P-value = 0.973\n",
      "Critical values :\n",
      "1%: -3.5443688564814813 - The data is not stationary with 99% confidence\n",
      "5%: -2.9110731481481484 - The data is not stationary with 95% confidence\n",
      "10%: -2.5931902777777776 - The data is not stationary with 90% confidence\n"
     ]
    }
   ],
   "source": [
    "adfuller_test(denver, name='Denver Prices')"
   ]
  },
  {
   "cell_type": "code",
   "execution_count": 38,
   "id": "48870136",
   "metadata": {
    "scrolled": false
   },
   "outputs": [
    {
     "name": "stdout",
     "output_type": "stream",
     "text": [
      "Is Denver Prices data stationary?\n",
      "Test stastic =  1.167\n",
      "P-value =  0.010\n",
      "Critical Values: \n",
      "10%: 0.347\n",
      "5%: 0.463\n",
      "2.5%: 0.574\n",
      "1%: 0.739\n"
     ]
    },
    {
     "name": "stderr",
     "output_type": "stream",
     "text": [
      "C:\\Users\\Manav Kahlon\\anaconda3\\envs\\learn-env\\lib\\site-packages\\statsmodels\\tsa\\stattools.py:1906: InterpolationWarning: The test statistic is outside of the range of p-values available in the\n",
      "look-up table. The actual p-value is smaller than the p-value returned.\n",
      "\n",
      "  warnings.warn(\n"
     ]
    }
   ],
   "source": [
    "kpss_test(denver, name = 'Denver Prices')"
   ]
  },
  {
   "cell_type": "code",
   "execution_count": 39,
   "id": "26df3aff",
   "metadata": {},
   "outputs": [],
   "source": [
    "Denver_lstm = Denver_df.drop(['RegionName', 'RegionID', 'SizeRank', 'City', 'Metro',\n",
    "                              'CountyName', 'State'], axis=1)\n",
    "Denver_lstm.reset_index(inplace=True)"
   ]
  },
  {
   "cell_type": "code",
   "execution_count": 40,
   "id": "b53390f6",
   "metadata": {},
   "outputs": [],
   "source": [
    "Denver_lstm = Denver_df.drop(['RegionName', 'RegionID', 'SizeRank', 'City', 'Metro',\n",
    "                              'CountyName', 'State'], axis=1)\n",
    "Denver_lstm.reset_index(inplace=True)"
   ]
  },
  {
   "cell_type": "code",
   "execution_count": 41,
   "id": "24352281",
   "metadata": {},
   "outputs": [
    {
     "ename": "NameError",
     "evalue": "name 'train' is not defined",
     "output_type": "error",
     "traceback": [
      "\u001b[1;31m---------------------------------------------------------------------------\u001b[0m",
      "\u001b[1;31mNameError\u001b[0m                                 Traceback (most recent call last)",
      "\u001b[1;32m<ipython-input-41-98763c1ea339>\u001b[0m in \u001b[0;36m<module>\u001b[1;34m\u001b[0m\n\u001b[0;32m      1\u001b[0m \u001b[0mtrain_dates\u001b[0m \u001b[1;33m=\u001b[0m \u001b[0mDenver_lstm\u001b[0m\u001b[1;33m.\u001b[0m\u001b[0mtime\u001b[0m\u001b[1;33m\u001b[0m\u001b[1;33m\u001b[0m\u001b[0m\n\u001b[1;32m----> 2\u001b[1;33m \u001b[0mcols\u001b[0m \u001b[1;33m=\u001b[0m \u001b[0mlist\u001b[0m\u001b[1;33m(\u001b[0m\u001b[0mtrain\u001b[0m\u001b[1;33m)\u001b[0m\u001b[1;33m[\u001b[0m\u001b[1;36m1\u001b[0m\u001b[1;33m:\u001b[0m\u001b[1;33m]\u001b[0m\u001b[1;33m\u001b[0m\u001b[1;33m\u001b[0m\u001b[0m\n\u001b[0m\u001b[0;32m      3\u001b[0m \u001b[0mdenver_for_train\u001b[0m \u001b[1;33m=\u001b[0m \u001b[0mDenver_lstm\u001b[0m\u001b[1;33m[\u001b[0m\u001b[0mcols\u001b[0m\u001b[1;33m]\u001b[0m\u001b[1;33m.\u001b[0m\u001b[0mastype\u001b[0m\u001b[1;33m(\u001b[0m\u001b[0mfloat\u001b[0m\u001b[1;33m)\u001b[0m\u001b[1;33m\u001b[0m\u001b[1;33m\u001b[0m\u001b[0m\n\u001b[0;32m      4\u001b[0m \u001b[0mscaler\u001b[0m \u001b[1;33m=\u001b[0m \u001b[0mStandardScaler\u001b[0m\u001b[1;33m(\u001b[0m\u001b[1;33m)\u001b[0m\u001b[1;33m\u001b[0m\u001b[1;33m\u001b[0m\u001b[0m\n\u001b[0;32m      5\u001b[0m \u001b[0mdenver_for_train_scaled\u001b[0m \u001b[1;33m=\u001b[0m \u001b[0mscaler\u001b[0m\u001b[1;33m.\u001b[0m\u001b[0mfit_transform\u001b[0m\u001b[1;33m(\u001b[0m\u001b[0mdenver_for_train\u001b[0m\u001b[1;33m)\u001b[0m\u001b[1;33m\u001b[0m\u001b[1;33m\u001b[0m\u001b[0m\n",
      "\u001b[1;31mNameError\u001b[0m: name 'train' is not defined"
     ]
    }
   ],
   "source": [
    "train_dates = Denver_lstm.time\n",
    "cols = list(train)[1:]\n",
    "denver_for_train = Denver_lstm[cols].astype(float)\n",
    "scaler = StandardScaler()\n",
    "denver_for_train_scaled = scaler.fit_transform(denver_for_train)\n",
    "\n",
    "trainX = []\n",
    "trainY = []\n",
    "\n",
    "n_future = 1\n",
    "n_past = 3\n",
    "\n",
    "for i in range(n_past, len(denver_for_train_scaled) - n_future + 1):\n",
    "    trainX.append(denver_for_train_scaled[i - n_past:i, 0:denver_for_train.shape[1]])\n",
    "    trainY.append(denver_for_train_scaled[i + n_future - 1:i + n_future, 0])\n",
    "\n",
    "trainX, trainY = np.array(trainX), np.array(trainY)\n",
    "print(f'trainX shape == {trainX.shape}')\n",
    "print(f'trainY shape == {trainY.shape}')"
   ]
  },
  {
   "cell_type": "code",
   "execution_count": null,
   "id": "9eac2ee1",
   "metadata": {},
   "outputs": [],
   "source": [
    "trainX.shape"
   ]
  },
  {
   "cell_type": "code",
   "execution_count": null,
   "id": "7be68e2c",
   "metadata": {},
   "outputs": [],
   "source": [
    "# model = Sequential()\n",
    "model.add(LSTM(64, activation = 'relu', input_shape = (trainX.shape[1], trainX.shape[2]), return_sequences=True))\n",
    "model.add(LSTM(32, activation = 'relu', return_sequences=True))\n",
    "model.add(LSTM(16, activation = 'relu', return_sequences = False))\n",
    "model.add(Dropout(0.2))\n",
    "model.add(Dense(trainY.shape[1]))\n",
    "\n",
    "model.compile(optimizer='adam', loss = 'mse')\n",
    "model.summary()"
   ]
  },
  {
   "cell_type": "code",
   "execution_count": null,
   "id": "d55f7942",
   "metadata": {},
   "outputs": [],
   "source": [
    "# n_past = 6\n",
    "# n_days_for_predictions = 58\n",
    "# forecast_period_dates = pd.date_range(list(train_dates)[n_past], periods=n_days_for_predictions, freq='MS').to_list()\n",
    "# forecast = model.predict(trainX[-n_days_for_predictions:])\n",
    "\n",
    "# forecast_copies = np.repeat(forecast, denver_for_train.shape[1], axis=-1)\n",
    "# y_pred_future = scaler.inverse_transform(forecast_copies)[:,0]\n",
    "\n",
    "# forecast_dates = []\n",
    "# for time_i in forecast_period_dates:\n",
    "#     forecast_dates.append(time_i.date())\n",
    "    \n",
    "# df_forecast = pd.DataFrame({'time' : np.array(forecast_dates), 'value': y_pred_future})\n",
    "# df_forecast['time'] = pd.to_datetime(df_forecast['time'])\n",
    "\n",
    "# original = Denver_lstm[['time', 'value']]"
   ]
  },
  {
   "cell_type": "code",
   "execution_count": null,
   "id": "70021213",
   "metadata": {
    "scrolled": true
   },
   "outputs": [],
   "source": [
    "history = model.fit(trainX, trainY, epochs=200, batch_size = 5, validation_split=.1, verbose = 0, use_multiprocessing=True)"
   ]
  },
  {
   "cell_type": "code",
   "execution_count": null,
   "id": "a43305b0",
   "metadata": {
    "scrolled": false
   },
   "outputs": [],
   "source": [
    "plt.plot(history.history['loss'], label = 'Training loss')\n",
    "plt.plot(history.history['val_loss'], label = 'Validation loss')\n",
    "plt.legend();"
   ]
  },
  {
   "cell_type": "code",
   "execution_count": null,
   "id": "fea4715f",
   "metadata": {
    "scrolled": true
   },
   "outputs": [],
   "source": [
    "n_past = 6\n",
    "n_days_for_predictions = 58\n",
    "forecast_period_dates = pd.date_range(list(train_dates)[n_past], periods=n_days_for_predictions, freq='MS').to_list()\n",
    "forecast = model.predict(trainX[-n_days_for_predictions:])\n",
    "\n",
    "forecast_copies = np.repeat(forecast, denver_for_train.shape[1], axis=-1)\n",
    "y_pred_future = scaler.inverse_transform(forecast_copies)[:,0]\n",
    "\n",
    "forecast_dates = []\n",
    "for time_i in forecast_period_dates:\n",
    "    forecast_dates.append(time_i.date())\n",
    "    \n",
    "df_forecast = pd.DataFrame({'time' : np.array(forecast_dates), 'value': y_pred_future})\n",
    "df_forecast['time'] = pd.to_datetime(df_forecast['time'])\n",
    "\n",
    "original = Denver_lstm[['time', 'value']]"
   ]
  },
  {
   "cell_type": "code",
   "execution_count": null,
   "id": "75b719a7",
   "metadata": {
    "scrolled": false
   },
   "outputs": [],
   "source": [
    "sns.lineplot(original['time'], original['value'], label = 'Original')\n",
    "sns.lineplot(df_forecast['time'], df_forecast['value'], label = 'Predictions')\n",
    "plt.legend();"
   ]
  },
  {
   "cell_type": "code",
   "execution_count": null,
   "id": "89b9384b",
   "metadata": {},
   "outputs": [],
   "source": [
    "df_prophet = Denver_lstm.rename({'time': 'ds', 'value': 'y'}, axis=1)\n",
    "df_prophet.drop(['concrete prices', 'plywood prices',\n",
    "                 'median_house_inc'], inplace=True, axis=1)"
   ]
  },
  {
   "cell_type": "code",
   "execution_count": null,
   "id": "882943ff",
   "metadata": {},
   "outputs": [],
   "source": [
    "def fbprophet_func(df, train_size=.8, periods=13):\n",
    "    '''\n",
    "    The input dataframe must only have two columns called ds and y\n",
    "\n",
    "    Returns the Original and Predictions along with the RMSE of the test data\n",
    "\n",
    "    Will split the data into a train, test for you.\n",
    "\n",
    "    Height is for the height of the arrow\n",
    "\n",
    "    periods is for the periods you wish to predict\n",
    "    '''\n",
    "    df_prophet = df\n",
    "    cutoff = round(df_prophet.shape[0] * train_size)\n",
    "    train = df_prophet[:cutoff]\n",
    "    test = df_prophet[cutoff:]\n",
    "\n",
    "    model = Prophet()\n",
    "    model.fit(train)\n",
    "    forecast = model.predict(train)\n",
    "\n",
    "    future = model.make_future_dataframe(periods=periods, freq='MS')\n",
    "    future_forecast = model.predict(future)\n",
    "\n",
    "    fig, ax = plt.subplots()\n",
    "\n",
    "    sns.lineplot(original['time'], original['value'],\n",
    "                 label='Original', color='r', linewidth=4)\n",
    "    sns.lineplot(\n",
    "        future_forecast['ds'], future_forecast['yhat'], label='Predictions', color='b')\n",
    "    model.plot(future_forecast, ax=ax)\n",
    "    plt.vlines(x=train['ds'].max(), ymin=future_forecast['yhat'].min(\n",
    "    ) - 5, ymax=future_forecast['yhat'].max() + 5, linestyles='dashed')\n",
    "    ax.set_title('Denver House Prices')\n",
    "    ax.set_ylabel('House Prices')\n",
    "    ax.set_xlabel('Time')\n",
    "    plt.legend(loc='best')\n",
    "\n",
    "    MSE = np.square(np.subtract(train.y, future_forecast.yhat)).mean()\n",
    "\n",
    "    RMSE = math.sqrt(MSE)\n",
    "    print(f'RMSE for the test data: {RMSE}')\n",
    "    print(\"%RMSE: \", RMSE / original.mean())"
   ]
  },
  {
   "cell_type": "code",
   "execution_count": null,
   "id": "dd273a75",
   "metadata": {},
   "outputs": [],
   "source": [
    "fbprophet_func(df_prophet)"
   ]
  },
  {
   "cell_type": "code",
   "execution_count": null,
   "id": "0b0ed918",
   "metadata": {},
   "outputs": [],
   "source": [
    "cutoff = round(df_prophet.shape[0] * .8)\n",
    "train = df_prophet[:cutoff]\n",
    "test = df_prophet[cutoff:]"
   ]
  },
  {
   "cell_type": "code",
   "execution_count": null,
   "id": "b15de533",
   "metadata": {
    "scrolled": true
   },
   "outputs": [],
   "source": [
    "model = Prophet()\n",
    "model.fit(train)\n",
    "forecast = model.predict(train)"
   ]
  },
  {
   "cell_type": "code",
   "execution_count": null,
   "id": "a979a5f2",
   "metadata": {},
   "outputs": [],
   "source": [
    "sns.lineplot(original['time'], original['value'], label = 'Original')\n",
    "sns.lineplot(forecast['ds'], forecast['yhat'], label = 'Predictions');"
   ]
  },
  {
   "cell_type": "code",
   "execution_count": null,
   "id": "5a6e0d02",
   "metadata": {},
   "outputs": [],
   "source": [
    "MSE = np.square(np.subtract(original.value,forecast.yhat)).mean() \n",
    " \n",
    "RMSE = math.sqrt(MSE)\n",
    "print(f'RMSE: {RMSE}')\n",
    "print(\"%RMSE: \", RMSE/original.mean())"
   ]
  },
  {
   "cell_type": "code",
   "execution_count": null,
   "id": "1b1731a5",
   "metadata": {},
   "outputs": [],
   "source": [
    "future = model.make_future_dataframe(periods=13, freq='MS')\n",
    "future_forecast = model.predict(future)"
   ]
  },
  {
   "cell_type": "code",
   "execution_count": null,
   "id": "33edff2d",
   "metadata": {
    "scrolled": true
   },
   "outputs": [],
   "source": [
    "# future = df_melt_1[df_melt_1['RegionName'] == 80216]\n",
    "# # future = future[future['time'] >= '2018-03-01']\n",
    "# future.head()"
   ]
  },
  {
   "cell_type": "code",
   "execution_count": null,
   "id": "538cad1d",
   "metadata": {},
   "outputs": [],
   "source": [
    "fig, ax = plt.subplots()\n",
    "\n",
    "# x = future_forecast[future_forecast['ds'] == '2018-06-01']['ds']\n",
    "# x_1 = future_forecast[future_forecast['ds'] == '2018-12-01']['ds']\n",
    "\n",
    "sns.lineplot(original['time'], original['value'],\n",
    "             label='Original', color='r', linewidth = 4)\n",
    "sns.lineplot(\n",
    "    future_forecast['ds'], future_forecast['yhat'], label='Predictions', color='b')\n",
    "model.plot(future_forecast, ax = ax)\n",
    "# sns.lineplot(future['time'], future['value'], label = 'New Data', color = 'Green')\n",
    "plt.vlines(x=original['time'].max(), ymin=future_forecast['yhat'].min(\n",
    ") - 5, ymax=future_forecast['yhat'].max() + 5, linestyles='dashed')\n",
    "ax.set_title('Denver House Prices')\n",
    "ax.set_ylabel('House Prices')\n",
    "ax.set_xlabel('Time')\n",
    "plt.legend(loc='best');\n",
    "# ax.text(x, 200000, 'Predicted Values', fontsize=15)\n",
    "# ax.annotate('', xy=(x_1, 265000), xytext=(x, 205000),\n",
    "#             arrowprops=dict(facecolor='black', shrink=0.05));"
   ]
  },
  {
   "cell_type": "code",
   "execution_count": null,
   "id": "dccbb823",
   "metadata": {},
   "outputs": [],
   "source": [
    "def fbprophet_func(df, height = None, train_size = .8, periods = 13):\n",
    "    '''\n",
    "    The input dataframe must only have two columns called ds and y\n",
    "\n",
    "    Returns the Original and Predictions along with the RMSE of the test data\n",
    "    \n",
    "    Will split the data into a train, test for you\n",
    "    '''\n",
    "    df_prophet = df\n",
    "    cutoff = round(df_prophet.shape[0] * train_size)\n",
    "    train = df_prophet[:cutoff]\n",
    "    test = df_prophet[cutoff:]\n",
    "\n",
    "    model = Prophet()\n",
    "    model.fit(train)\n",
    "    forecast = model.predict(train)\n",
    "\n",
    "    future = model.make_future_dataframe(periods=periods, freq='MS')\n",
    "    future_forecast = model.predict(future)\n",
    "\n",
    "    fig, ax = plt.subplots()\n",
    "    \n",
    "    x = test[test['ds'] == '2017-06-01']['ds']\n",
    "    x_1 = test[test['ds'] == '2017-06-01']['ds']\n",
    "\n",
    "    sns.lineplot(original['time'], original['value'],\n",
    "                 label='Original', color='r', linewidth=4)\n",
    "    sns.lineplot(\n",
    "        future_forecast['ds'], future_forecast['yhat'], label='Predictions', color='b')\n",
    "    model.plot(future_forecast, ax=ax)\n",
    "    plt.vlines(x = train['ds'].max(), ymin=future_forecast['yhat'].min(\n",
    "    ) - 5, ymax=future_forecast['yhat'].max() + 5, linestyles='dashed')\n",
    "    ax.set_title('Denver House Prices')\n",
    "    ax.set_ylabel('House Prices')\n",
    "    ax.set_xlabel('Time')\n",
    "    plt.legend(loc='best')\n",
    "    ax.text(x, 200000, 'Predicted Values', fontsize=15)\n",
    "    ax.annotate('', xy=(x_1, int(height)), xytext=(x, 205000),\n",
    "            arrowprops=dict(facecolor='black', shrink=0.05));\n",
    "    \n",
    "    MSE = np.square(np.subtract(test.y,future_forecast.yhat)).mean() \n",
    "\n",
    "    RMSE = math.sqrt(MSE)\n",
    "    print(f'RMSE for the test data: {RMSE}')\n",
    "    print(\"%RMSE: \", RMSE/original.mean())"
   ]
  },
  {
   "cell_type": "code",
   "execution_count": null,
   "id": "07c3a3bc",
   "metadata": {},
   "outputs": [],
   "source": [
    "MSE = np.square(np.subtract(test.y,future_forecast.yhat)).mean() \n",
    " \n",
    "RMSE = math.sqrt(MSE)\n",
    "print(f'RMSE: {RMSE}')\n",
    "print(\"%RMSE: \", RMSE/original.mean())"
   ]
  },
  {
   "cell_type": "markdown",
   "id": "09b9da7f",
   "metadata": {},
   "source": [
    "## Vallejo"
   ]
  },
  {
   "cell_type": "code",
   "execution_count": 42,
   "id": "b208aeb3",
   "metadata": {},
   "outputs": [
    {
     "data": {
      "image/png": "[encoded data removed]",
      "text/plain": [
       "<Figure size 1080x360 with 1 Axes>"
      ]
     },
     "metadata": {
      "needs_background": "light"
     },
     "output_type": "display_data"
    }
   ],
   "source": [
    "Vallejo = Vallejo_df[['value']]\n",
    "plot_series(Vallejo, name = 'House Prices in Vallejo',\n",
    "            window=12,\n",
    "            X = 15, y = 5,\n",
    "            x_label= 'Year',\n",
    "            y_label= 'House Prices')"
   ]
  },
  {
   "cell_type": "code",
   "execution_count": 43,
   "id": "a9a4616e",
   "metadata": {},
   "outputs": [
    {
     "data": {
      "image/png": "[encoded data removed]",
      "text/plain": [
       "<Figure size 1080x720 with 4 Axes>"
      ]
     },
     "metadata": {
      "needs_background": "light"
     },
     "output_type": "display_data"
    }
   ],
   "source": [
    "seasonal_plot(Vallejo, window=13, X = 15, y = 10)"
   ]
  },
  {
   "cell_type": "code",
   "execution_count": 44,
   "id": "76290029",
   "metadata": {},
   "outputs": [
    {
     "name": "stdout",
     "output_type": "stream",
     "text": [
      "Adfuller test for Vallejo Prices\n",
      "--------------------\n",
      "Test Stastic = -2.391\n",
      "P-value = 0.144\n",
      "Critical values :\n",
      "1%: -3.472161410886292 - The data is not stationary with 99% confidence\n",
      "5%: -2.8798954259680936 - The data is not stationary with 95% confidence\n",
      "10%: -2.5765565828092245 - The data is not stationary with 90% confidence\n"
     ]
    }
   ],
   "source": [
    "adfuller_test(Vallejo, 'Vallejo Prices')"
   ]
  },
  {
   "cell_type": "code",
   "execution_count": 45,
   "id": "149f1440",
   "metadata": {},
   "outputs": [
    {
     "name": "stdout",
     "output_type": "stream",
     "text": [
      "Is Vallejo Prices data stationary?\n",
      "Test stastic =  0.534\n",
      "P-value =  0.034\n",
      "Critical Values: \n",
      "10%: 0.347\n",
      "5%: 0.463\n",
      "2.5%: 0.574\n",
      "1%: 0.739\n"
     ]
    }
   ],
   "source": [
    "kpss_test(Vallejo, 'Vallejo Prices')"
   ]
  },
  {
   "cell_type": "code",
   "execution_count": 46,
   "id": "3a69a4c1",
   "metadata": {
    "scrolled": true
   },
   "outputs": [
    {
     "name": "stdout",
     "output_type": "stream",
     "text": [
      "trainX shape == (167, 6, 4)\n",
      "trainY shape == (167, 1)\n"
     ]
    }
   ],
   "source": [
    "Vallejo_lstm = Vallejo_df.drop(\n",
    "    ['RegionName', 'RegionID', 'SizeRank', 'City', 'Metro', 'CountyName', 'State'], axis=1)\n",
    "Vallejo_lstm.reset_index(inplace=True)\n",
    "train_dates = Vallejo_lstm.time\n",
    "cols = list(Vallejo_lstm)[1:]\n",
    "vallejo_for_train = Vallejo_df[cols].astype(float)\n",
    "scaler = StandardScaler()\n",
    "vallejo_for_train_scaled = scaler.fit_transform(vallejo_for_train)\n",
    "\n",
    "trainX = []\n",
    "trainY = []\n",
    "\n",
    "n_future = 1\n",
    "n_past = 6\n",
    "\n",
    "for i in range(n_past, len(vallejo_for_train_scaled) - n_future + 1):\n",
    "    trainX.append(\n",
    "        vallejo_for_train_scaled[i - n_past:i, 0:vallejo_for_train.shape[1]])\n",
    "    trainY.append(vallejo_for_train_scaled[i + n_future - 1:i + n_future, 0])\n",
    "\n",
    "trainX, trainY = np.array(trainX), np.array(trainY)\n",
    "print(f'trainX shape == {trainX.shape}')\n",
    "print(f'trainY shape == {trainY.shape}')"
   ]
  },
  {
   "cell_type": "code",
   "execution_count": 47,
   "id": "d27b2f98",
   "metadata": {},
   "outputs": [
    {
     "name": "stdout",
     "output_type": "stream",
     "text": [
      "Model: \"sequential\"\n",
      "_________________________________________________________________\n",
      "Layer (type)                 Output Shape              Param #   \n",
      "=================================================================\n",
      "lstm (LSTM)                  (None, 6, 64)             17664     \n",
      "_________________________________________________________________\n",
      "lstm_1 (LSTM)                (None, 32)                12416     \n",
      "_________________________________________________________________\n",
      "dropout (Dropout)            (None, 32)                0         \n",
      "_________________________________________________________________\n",
      "dense (Dense)                (None, 1)                 33        \n",
      "=================================================================\n",
      "Total params: 30,113\n",
      "Trainable params: 30,113\n",
      "Non-trainable params: 0\n",
      "_________________________________________________________________\n"
     ]
    }
   ],
   "source": [
    "model = Sequential()\n",
    "model.add(LSTM(64, activation = 'relu', input_shape = (trainX.shape[1], trainX.shape[2]), return_sequences=True))\n",
    "model.add(LSTM(32, activation = 'relu', return_sequences=False))\n",
    "model.add(Dropout(0.2))\n",
    "model.add(Dense(trainY.shape[1]))\n",
    "\n",
    "model.compile(optimizer='adam', loss = 'mse')\n",
    "model.summary()"
   ]
  },
  {
   "cell_type": "code",
   "execution_count": 48,
   "id": "21d36073",
   "metadata": {},
   "outputs": [],
   "source": [
    "history = model.fit(trainX, trainY, epochs=200, batch_size = 5, validation_split=.1, verbose = 0, use_multiprocessing=True)"
   ]
  },
  {
   "cell_type": "code",
   "execution_count": 49,
   "id": "ee3167f3",
   "metadata": {
    "scrolled": false
   },
   "outputs": [
    {
     "data": {
      "image/png": "[encoded data removed]",
      "text/plain": [
       "<Figure size 1080x720 with 1 Axes>"
      ]
     },
     "metadata": {
      "needs_background": "light"
     },
     "output_type": "display_data"
    }
   ],
   "source": [
    "plt.plot(history.history['loss'], label = 'Training loss')\n",
    "plt.plot(history.history['val_loss'], label = 'Validation loss')\n",
    "plt.legend();"
   ]
  },
  {
   "cell_type": "code",
   "execution_count": 50,
   "id": "a2f2f707",
   "metadata": {},
   "outputs": [],
   "source": [
    "future_val = 167\n",
    "forecast_period_dates = pd.date_range(list(train_dates)[0], periods=future_val, freq='MS').to_list()\n",
    "forecast = model.predict(trainX[-future_val:])\n",
    "\n",
    "forecast_copies = np.repeat(forecast, vallejo_for_train.shape[1], axis=-1)\n",
    "y_pred_future = scaler.inverse_transform(forecast_copies)[:,0]\n",
    "\n",
    "forecast_dates = []\n",
    "for time_i in forecast_period_dates:\n",
    "    forecast_dates.append(time_i.date())\n",
    "    \n",
    "df_forecast = pd.DataFrame({'time' : np.array(forecast_dates), 'value': y_pred_future})\n",
    "df_forecast['time'] = pd.to_datetime(df_forecast['time'])\n",
    "\n",
    "original = Vallejo_lstm[['time', 'value']]"
   ]
  },
  {
   "cell_type": "code",
   "execution_count": 51,
   "id": "5dc213a8",
   "metadata": {},
   "outputs": [
    {
     "data": {
      "image/png": "[encoded data removed]",
      "text/plain": [
       "<Figure size 1080x720 with 1 Axes>"
      ]
     },
     "metadata": {
      "needs_background": "light"
     },
     "output_type": "display_data"
    }
   ],
   "source": [
    "sns.lineplot(original['time'], original['value'], label = 'Original')\n",
    "sns.lineplot(df_forecast['time'], df_forecast['value'], label = 'Predictions')\n",
    "plt.legend();"
   ]
  },
  {
   "cell_type": "code",
   "execution_count": 52,
   "id": "befefb09",
   "metadata": {},
   "outputs": [],
   "source": [
    "df_prophet = Vallejo_lstm.rename({'time': 'ds', 'value': 'y'}, axis=1)\n",
    "df_prophet.drop(['concrete prices', 'plywood prices',\n",
    "                 'median_house_inc'], inplace=True, axis=1)"
   ]
  },
  {
   "cell_type": "code",
   "execution_count": 53,
   "id": "f3e6e146",
   "metadata": {},
   "outputs": [
    {
     "name": "stderr",
     "output_type": "stream",
     "text": [
      "INFO:fbprophet:Disabling weekly seasonality. Run prophet with weekly_seasonality=True to override this.\n",
      "INFO:fbprophet:Disabling daily seasonality. Run prophet with daily_seasonality=True to override this.\n"
     ]
    }
   ],
   "source": [
    "model = Prophet()\n",
    "model.fit(df_prophet)\n",
    "forecast = model.predict(df_prophet)"
   ]
  },
  {
   "cell_type": "code",
   "execution_count": 54,
   "id": "b940becf",
   "metadata": {},
   "outputs": [
    {
     "data": {
      "image/png": "[encoded data removed]",
      "text/plain": [
       "<Figure size 1080x720 with 1 Axes>"
      ]
     },
     "metadata": {
      "needs_background": "light"
     },
     "output_type": "display_data"
    }
   ],
   "source": [
    "sns.lineplot(original['time'], original['value'], label='Original')\n",
    "sns.lineplot(forecast['ds'], forecast['yhat'], label='Predictions');"
   ]
  },
  {
   "cell_type": "code",
   "execution_count": 55,
   "id": "96c1282a",
   "metadata": {},
   "outputs": [],
   "source": [
    "MSE = np.square(np.subtract(original.value, forecast.yhat)).mean()"
   ]
  },
  {
   "cell_type": "code",
   "execution_count": 56,
   "id": "791b4412",
   "metadata": {
    "scrolled": true
   },
   "outputs": [
    {
     "name": "stdout",
     "output_type": "stream",
     "text": [
      "RMSE: 2369.266747363605\n",
      "%RMSE:  value    0.009152\n",
      "dtype: float64\n"
     ]
    }
   ],
   "source": [
    "RMSE = math.sqrt(MSE)\n",
    "print(f'RMSE: {RMSE}')\n",
    "print(\"%RMSE: \", RMSE / original.mean())"
   ]
  },
  {
   "cell_type": "code",
   "execution_count": 57,
   "id": "a1429ba3",
   "metadata": {},
   "outputs": [],
   "source": [
    "future = model.make_future_dataframe(periods=36, freq='MS')\n",
    "future_forecast = model.predict(future)"
   ]
  },
  {
   "cell_type": "code",
   "execution_count": 58,
   "id": "2028e877",
   "metadata": {
    "scrolled": false
   },
   "outputs": [
    {
     "data": {
      "image/png": "[encoded data removed]",
      "text/plain": [
       "<Figure size 1080x720 with 1 Axes>"
      ]
     },
     "metadata": {
      "needs_background": "light"
     },
     "output_type": "display_data"
    }
   ],
   "source": [
    "fig, ax = plt.subplots()\n",
    "\n",
    "x = future_forecast[future_forecast['ds'] == '2018-06-01']['ds']\n",
    "x_1 = future_forecast[future_forecast['ds'] == '2018-12-01']['ds']\n",
    "\n",
    "sns.lineplot(original['time'], original['value'],\n",
    "             label='Original', color='r', linewidth = 4)\n",
    "sns.lineplot(\n",
    "    future_forecast['ds'], future_forecast['yhat'], label='Predictions', color='b')\n",
    "model.plot(future_forecast, ax = ax)\n",
    "plt.vlines(x=original['time'].max(), ymin=future_forecast['yhat'].min(\n",
    ") - 5, ymax=future_forecast['yhat'].max() + 5, linestyles='dashed')\n",
    "ax.set_title('Vallejo House Prices')\n",
    "ax.set_ylabel('House Prices')\n",
    "ax.set_xlabel('Time')\n",
    "plt.legend(loc='best')\n",
    "ax.text(x, 300000, 'Predicted Values', fontsize=15)\n",
    "ax.annotate('', xy=(x_1, 380000), xytext=(x, 310000),\n",
    "            arrowprops=dict(facecolor='black', shrink=0.05));"
   ]
  },
  {
   "cell_type": "code",
   "execution_count": null,
   "id": "b9c29477",
   "metadata": {},
   "outputs": [],
   "source": [
    "from sklearn.model_selection import TimeSeriesSplit\n",
    "from sklearn.neural_network import MLPRegressor\n",
    "\n",
    "def segment_data(data,train_index, test_index):\n",
    "    X_train, X_test = data[0].iloc[train_index], data[0].iloc[test_index]\n",
    "    if len(data)==1:\n",
    "        return (X_train), (X_test,None)\n",
    "    else:\n",
    "        y_train, y_test = y.iloc[train_index], y.iloc[test_index]\n",
    "        return (X_train, y_train), (X_test, y_test)\n",
    "\n",
    "def cross_validate(model, data, sklearn=True, model_kwargs={}):\n",
    "    '''\n",
    "    Resamples dataframe using aggregate mean\n",
    "    Preforms cross validation of the input model. \n",
    "    ---------------------------------------------------------------------\n",
    "    model: uninitalized model- no parantheses \n",
    "    train_data: data to train the model on. in the form of (X,y) or (X)\n",
    "    test_data: *optional* data to make predictions on. in the form of (X,y) or (X)\n",
    "    sklearn: whether to fit model with sklearn syntax\n",
    "    model_kwargs: keyword arguments to pass into the model before fitting\n",
    "    ---------------------------------------------------------------------\n",
    "    Returns: means of train and test rmse\n",
    "    '''\n",
    "    scaler = StandardScaler()\n",
    "    all_rmse = []\n",
    "    # Create and loop through 4 different train and validation sets\n",
    "    split = TimeSeriesSplit(n_splits=1)\n",
    "    for train_index, test_index in split.split(data[0]):(X_train, y_train), (X_test,y_test) = segment_data(data, train_index, test_index)\n",
    "    X_train_scaled = scaler.fit_transform(X_train)\n",
    "    X_test_scaled = scaler.transform(X_test)\n",
    "    if sklearn:\n",
    "        regr = model(random_state=1, max_iter=1000).fit(X_train, y_train)\n",
    "        predictions = regr.predict(X_test)\n",
    "        predictions = _model.predict(X_test)\n",
    "\n",
    "    else:\n",
    "        _model = model(train, **model_kwargs).fit()\n",
    "        predictions = _model.predict(typ='levels', start=test__index[0], end=test_index[-1])\n",
    "    if y_train:\n",
    "        all_rmse.append(rmse(y_train, predictions))\n",
    "    return np.mean(all_rmse)"
   ]
  },
  {
   "cell_type": "code",
   "execution_count": 73,
   "id": "7d17d4ec",
   "metadata": {},
   "outputs": [],
   "source": [
    "X = Vallejo_df.index\n",
    "y = Vallejo_df.value"
   ]
  },
  {
   "cell_type": "code",
   "execution_count": 74,
   "id": "a6826e76",
   "metadata": {},
   "outputs": [
    {
     "ename": "ValueError",
     "evalue": "k-fold cross-validation requires at least one train/test split by setting n_splits=2 or more, got n_splits=1.",
     "output_type": "error",
     "traceback": [
      "\u001b[1;31m---------------------------------------------------------------------------\u001b[0m",
      "\u001b[1;31mValueError\u001b[0m                                Traceback (most recent call last)",
      "\u001b[1;32m<ipython-input-74-8c44b504c9e1>\u001b[0m in \u001b[0;36m<module>\u001b[1;34m\u001b[0m\n\u001b[1;32m----> 1\u001b[1;33m cross_validate(MLPRegressor,(X,y), {'learning_rate':'adaptive'\n\u001b[0m\u001b[0;32m      2\u001b[0m                                           \u001b[1;33m,\u001b[0m\u001b[1;34m'max_iter'\u001b[0m\u001b[1;33m:\u001b[0m \u001b[1;36m300\u001b[0m\u001b[1;33m\u001b[0m\u001b[1;33m\u001b[0m\u001b[0m\n\u001b[0;32m      3\u001b[0m                                            \u001b[1;33m,\u001b[0m\u001b[1;34m'solver'\u001b[0m\u001b[1;33m:\u001b[0m\u001b[1;34m'adam'\u001b[0m\u001b[1;33m\u001b[0m\u001b[1;33m\u001b[0m\u001b[0m\n\u001b[0;32m      4\u001b[0m                                            ,'shuffle':False} )\n",
      "\u001b[1;32m<ipython-input-67-8ee1b2b86769>\u001b[0m in \u001b[0;36mcross_validate\u001b[1;34m(model, data, sklearn, model_kwargs)\u001b[0m\n\u001b[0;32m     26\u001b[0m     \u001b[0mall_rmse\u001b[0m \u001b[1;33m=\u001b[0m \u001b[1;33m[\u001b[0m\u001b[1;33m]\u001b[0m\u001b[1;33m\u001b[0m\u001b[1;33m\u001b[0m\u001b[0m\n\u001b[0;32m     27\u001b[0m     \u001b[1;31m# Create and loop through 4 different train and validation sets\u001b[0m\u001b[1;33m\u001b[0m\u001b[1;33m\u001b[0m\u001b[1;33m\u001b[0m\u001b[0m\n\u001b[1;32m---> 28\u001b[1;33m     \u001b[0msplit\u001b[0m \u001b[1;33m=\u001b[0m \u001b[0mTimeSeriesSplit\u001b[0m\u001b[1;33m(\u001b[0m\u001b[0mn_splits\u001b[0m\u001b[1;33m=\u001b[0m\u001b[1;36m1\u001b[0m\u001b[1;33m)\u001b[0m\u001b[1;33m\u001b[0m\u001b[1;33m\u001b[0m\u001b[0m\n\u001b[0m\u001b[0;32m     29\u001b[0m     \u001b[1;32mfor\u001b[0m \u001b[0mtrain_index\u001b[0m\u001b[1;33m,\u001b[0m \u001b[0mtest_index\u001b[0m \u001b[1;32min\u001b[0m \u001b[0msplit\u001b[0m\u001b[1;33m.\u001b[0m\u001b[0msplit\u001b[0m\u001b[1;33m(\u001b[0m\u001b[0mdata\u001b[0m\u001b[1;33m[\u001b[0m\u001b[1;36m0\u001b[0m\u001b[1;33m]\u001b[0m\u001b[1;33m)\u001b[0m\u001b[1;33m:\u001b[0m\u001b[1;33m(\u001b[0m\u001b[0mX_train\u001b[0m\u001b[1;33m,\u001b[0m \u001b[0my_train\u001b[0m\u001b[1;33m)\u001b[0m\u001b[1;33m,\u001b[0m \u001b[1;33m(\u001b[0m\u001b[0mX_test\u001b[0m\u001b[1;33m,\u001b[0m\u001b[0my_test\u001b[0m\u001b[1;33m)\u001b[0m \u001b[1;33m=\u001b[0m \u001b[0msegment_data\u001b[0m\u001b[1;33m(\u001b[0m\u001b[0mdata\u001b[0m\u001b[1;33m,\u001b[0m \u001b[0mtrain_index\u001b[0m\u001b[1;33m,\u001b[0m \u001b[0mtest_index\u001b[0m\u001b[1;33m)\u001b[0m\u001b[1;33m\u001b[0m\u001b[1;33m\u001b[0m\u001b[0m\n\u001b[0;32m     30\u001b[0m     \u001b[0mX_train_scaled\u001b[0m \u001b[1;33m=\u001b[0m \u001b[0mscaler\u001b[0m\u001b[1;33m.\u001b[0m\u001b[0mfit_transform\u001b[0m\u001b[1;33m(\u001b[0m\u001b[0mX_train\u001b[0m\u001b[1;33m)\u001b[0m\u001b[1;33m\u001b[0m\u001b[1;33m\u001b[0m\u001b[0m\n",
      "\u001b[1;32m~\\anaconda3\\envs\\learn-env\\lib\\site-packages\\sklearn\\utils\\validation.py\u001b[0m in \u001b[0;36minner_f\u001b[1;34m(*args, **kwargs)\u001b[0m\n\u001b[0;32m     61\u001b[0m             \u001b[0mextra_args\u001b[0m \u001b[1;33m=\u001b[0m \u001b[0mlen\u001b[0m\u001b[1;33m(\u001b[0m\u001b[0margs\u001b[0m\u001b[1;33m)\u001b[0m \u001b[1;33m-\u001b[0m \u001b[0mlen\u001b[0m\u001b[1;33m(\u001b[0m\u001b[0mall_args\u001b[0m\u001b[1;33m)\u001b[0m\u001b[1;33m\u001b[0m\u001b[1;33m\u001b[0m\u001b[0m\n\u001b[0;32m     62\u001b[0m             \u001b[1;32mif\u001b[0m \u001b[0mextra_args\u001b[0m \u001b[1;33m<=\u001b[0m \u001b[1;36m0\u001b[0m\u001b[1;33m:\u001b[0m\u001b[1;33m\u001b[0m\u001b[1;33m\u001b[0m\u001b[0m\n\u001b[1;32m---> 63\u001b[1;33m                 \u001b[1;32mreturn\u001b[0m \u001b[0mf\u001b[0m\u001b[1;33m(\u001b[0m\u001b[1;33m*\u001b[0m\u001b[0margs\u001b[0m\u001b[1;33m,\u001b[0m \u001b[1;33m**\u001b[0m\u001b[0mkwargs\u001b[0m\u001b[1;33m)\u001b[0m\u001b[1;33m\u001b[0m\u001b[1;33m\u001b[0m\u001b[0m\n\u001b[0m\u001b[0;32m     64\u001b[0m \u001b[1;33m\u001b[0m\u001b[0m\n\u001b[0;32m     65\u001b[0m             \u001b[1;31m# extra_args > 0\u001b[0m\u001b[1;33m\u001b[0m\u001b[1;33m\u001b[0m\u001b[1;33m\u001b[0m\u001b[0m\n",
      "\u001b[1;32m~\\anaconda3\\envs\\learn-env\\lib\\site-packages\\sklearn\\model_selection\\_split.py\u001b[0m in \u001b[0;36m__init__\u001b[1;34m(self, n_splits, max_train_size, test_size, gap)\u001b[0m\n\u001b[0;32m    829\u001b[0m                  \u001b[0mtest_size\u001b[0m\u001b[1;33m=\u001b[0m\u001b[1;32mNone\u001b[0m\u001b[1;33m,\u001b[0m\u001b[1;33m\u001b[0m\u001b[1;33m\u001b[0m\u001b[0m\n\u001b[0;32m    830\u001b[0m                  gap=0):\n\u001b[1;32m--> 831\u001b[1;33m         \u001b[0msuper\u001b[0m\u001b[1;33m(\u001b[0m\u001b[1;33m)\u001b[0m\u001b[1;33m.\u001b[0m\u001b[0m__init__\u001b[0m\u001b[1;33m(\u001b[0m\u001b[0mn_splits\u001b[0m\u001b[1;33m,\u001b[0m \u001b[0mshuffle\u001b[0m\u001b[1;33m=\u001b[0m\u001b[1;32mFalse\u001b[0m\u001b[1;33m,\u001b[0m \u001b[0mrandom_state\u001b[0m\u001b[1;33m=\u001b[0m\u001b[1;32mNone\u001b[0m\u001b[1;33m)\u001b[0m\u001b[1;33m\u001b[0m\u001b[1;33m\u001b[0m\u001b[0m\n\u001b[0m\u001b[0;32m    832\u001b[0m         \u001b[0mself\u001b[0m\u001b[1;33m.\u001b[0m\u001b[0mmax_train_size\u001b[0m \u001b[1;33m=\u001b[0m \u001b[0mmax_train_size\u001b[0m\u001b[1;33m\u001b[0m\u001b[1;33m\u001b[0m\u001b[0m\n\u001b[0;32m    833\u001b[0m         \u001b[0mself\u001b[0m\u001b[1;33m.\u001b[0m\u001b[0mtest_size\u001b[0m \u001b[1;33m=\u001b[0m \u001b[0mtest_size\u001b[0m\u001b[1;33m\u001b[0m\u001b[1;33m\u001b[0m\u001b[0m\n",
      "\u001b[1;32m~\\anaconda3\\envs\\learn-env\\lib\\site-packages\\sklearn\\utils\\validation.py\u001b[0m in \u001b[0;36minner_f\u001b[1;34m(*args, **kwargs)\u001b[0m\n\u001b[0;32m     61\u001b[0m             \u001b[0mextra_args\u001b[0m \u001b[1;33m=\u001b[0m \u001b[0mlen\u001b[0m\u001b[1;33m(\u001b[0m\u001b[0margs\u001b[0m\u001b[1;33m)\u001b[0m \u001b[1;33m-\u001b[0m \u001b[0mlen\u001b[0m\u001b[1;33m(\u001b[0m\u001b[0mall_args\u001b[0m\u001b[1;33m)\u001b[0m\u001b[1;33m\u001b[0m\u001b[1;33m\u001b[0m\u001b[0m\n\u001b[0;32m     62\u001b[0m             \u001b[1;32mif\u001b[0m \u001b[0mextra_args\u001b[0m \u001b[1;33m<=\u001b[0m \u001b[1;36m0\u001b[0m\u001b[1;33m:\u001b[0m\u001b[1;33m\u001b[0m\u001b[1;33m\u001b[0m\u001b[0m\n\u001b[1;32m---> 63\u001b[1;33m                 \u001b[1;32mreturn\u001b[0m \u001b[0mf\u001b[0m\u001b[1;33m(\u001b[0m\u001b[1;33m*\u001b[0m\u001b[0margs\u001b[0m\u001b[1;33m,\u001b[0m \u001b[1;33m**\u001b[0m\u001b[0mkwargs\u001b[0m\u001b[1;33m)\u001b[0m\u001b[1;33m\u001b[0m\u001b[1;33m\u001b[0m\u001b[0m\n\u001b[0m\u001b[0;32m     64\u001b[0m \u001b[1;33m\u001b[0m\u001b[0m\n\u001b[0;32m     65\u001b[0m             \u001b[1;31m# extra_args > 0\u001b[0m\u001b[1;33m\u001b[0m\u001b[1;33m\u001b[0m\u001b[1;33m\u001b[0m\u001b[0m\n",
      "\u001b[1;32m~\\anaconda3\\envs\\learn-env\\lib\\site-packages\\sklearn\\model_selection\\_split.py\u001b[0m in \u001b[0;36m__init__\u001b[1;34m(self, n_splits, shuffle, random_state)\u001b[0m\n\u001b[0;32m    278\u001b[0m \u001b[1;33m\u001b[0m\u001b[0m\n\u001b[0;32m    279\u001b[0m         \u001b[1;32mif\u001b[0m \u001b[0mn_splits\u001b[0m \u001b[1;33m<=\u001b[0m \u001b[1;36m1\u001b[0m\u001b[1;33m:\u001b[0m\u001b[1;33m\u001b[0m\u001b[1;33m\u001b[0m\u001b[0m\n\u001b[1;32m--> 280\u001b[1;33m             raise ValueError(\n\u001b[0m\u001b[0;32m    281\u001b[0m                 \u001b[1;34m\"k-fold cross-validation requires at least one\"\u001b[0m\u001b[1;33m\u001b[0m\u001b[1;33m\u001b[0m\u001b[0m\n\u001b[0;32m    282\u001b[0m                 \u001b[1;34m\" train/test split by setting n_splits=2 or more,\"\u001b[0m\u001b[1;33m\u001b[0m\u001b[1;33m\u001b[0m\u001b[0m\n",
      "\u001b[1;31mValueError\u001b[0m: k-fold cross-validation requires at least one train/test split by setting n_splits=2 or more, got n_splits=1."
     ]
    }
   ],
   "source": [
    "cross_validate(MLPRegressor,(X,y), {'learning_rate':'adaptive'\n",
    "                                          ,'max_iter': 300\n",
    "                                           ,'solver':'adam'\n",
    "                                           ,'shuffle':False} )"
   ]
  },
  {
   "cell_type": "code",
   "execution_count": null,
   "id": "113527ee",
   "metadata": {},
   "outputs": [],
   "source": []
  },
  {
   "cell_type": "markdown",
   "id": "2cea3b20",
   "metadata": {},
   "source": [
    "## Atlanta"
   ]
  },
  {
   "cell_type": "code",
   "execution_count": null,
   "id": "78caee56",
   "metadata": {},
   "outputs": [],
   "source": [
    "Atlanta = Atlanta_df[['value']]\n",
    "plot_series(Atlanta, name = 'House Prices in Atlanta',\n",
    "            window=12,\n",
    "            X= 15, y = 5,\n",
    "            x_label= 'Year',\n",
    "            y_label= 'House Prices')"
   ]
  },
  {
   "cell_type": "code",
   "execution_count": null,
   "id": "ce733738",
   "metadata": {},
   "outputs": [],
   "source": [
    "seasonal_plot(Atlanta, window=12, X = 15, y = 10)"
   ]
  },
  {
   "cell_type": "code",
   "execution_count": null,
   "id": "4d7bf79a",
   "metadata": {},
   "outputs": [],
   "source": [
    "adfuller_test(Atlanta, 'Atlanta Prices')"
   ]
  },
  {
   "cell_type": "code",
   "execution_count": null,
   "id": "296b6887",
   "metadata": {},
   "outputs": [],
   "source": [
    "kpss_test(Atlanta, 'Atlanta Prices')"
   ]
  },
  {
   "cell_type": "code",
   "execution_count": null,
   "id": "319d16ba",
   "metadata": {},
   "outputs": [],
   "source": [
    "atlanta_lstm = Atlanta_df.drop(\n",
    "    ['RegionName', 'RegionID', 'SizeRank', 'City', 'Metro', 'CountyName', 'State'], axis=1)\n",
    "atlanta_lstm.reset_index(inplace=True)\n",
    "train_dates = atlanta_lstm.time\n",
    "cols = list(atlanta_lstm)[1:]\n",
    "atlanta_for_train = Atlanta_df[cols].astype(float)\n",
    "scaler = StandardScaler()\n",
    "atlanta_for_train_scaled = scaler.fit_transform(atlanta_for_train)\n",
    "\n",
    "trainX = []\n",
    "trainY = []\n",
    "\n",
    "n_future = 1\n",
    "n_past = 6\n",
    "\n",
    "for i in range(n_past, len(atlanta_for_train_scaled) - n_future + 1):\n",
    "    trainX.append(\n",
    "        atlanta_for_train_scaled[i - n_past:i, 0:atlanta_for_train.shape[1]])\n",
    "    trainY.append(atlanta_for_train_scaled[i + n_future - 1:i + n_future, 0])\n",
    "\n",
    "trainX, trainY = np.array(trainX), np.array(trainY)\n",
    "print(f'trainX shape == {trainX.shape}')\n",
    "print(f'trainY shape == {trainY.shape}')"
   ]
  },
  {
   "cell_type": "code",
   "execution_count": null,
   "id": "8b7edd43",
   "metadata": {},
   "outputs": [],
   "source": [
    "model = Sequential()\n",
    "model.add(LSTM(64, activation = 'relu', input_shape = (trainX.shape[1], trainX.shape[2]), return_sequences=True))\n",
    "model.add(LSTM(32, activation = 'relu', return_sequences=False))\n",
    "model.add(Dropout(0.2))\n",
    "model.add(Dense(trainY.shape[1]))\n",
    "\n",
    "model.compile(optimizer='adam', loss = 'mse')\n",
    "model.summary()"
   ]
  },
  {
   "cell_type": "code",
   "execution_count": null,
   "id": "fe48fe72",
   "metadata": {},
   "outputs": [],
   "source": [
    "history = model.fit(trainX, trainY, epochs=200, batch_size = 5, validation_split=.1, verbose = 0, use_multiprocessing=True)"
   ]
  },
  {
   "cell_type": "code",
   "execution_count": null,
   "id": "569a370e",
   "metadata": {},
   "outputs": [],
   "source": [
    "plt.plot(history.history['loss'], label = 'Training loss')\n",
    "plt.plot(history.history['val_loss'], label = 'Validation loss')\n",
    "plt.legend();"
   ]
  },
  {
   "cell_type": "code",
   "execution_count": null,
   "id": "c8d8c5a4",
   "metadata": {},
   "outputs": [],
   "source": [
    "future_val = 167\n",
    "forecast_period_dates = pd.date_range(\n",
    "    list(train_dates)[0], periods=future_val, freq='MS').to_list()\n",
    "forecast = model.predict(trainX[-future_val:])\n",
    "\n",
    "forecast_copies = np.repeat(forecast, atlanta_for_train.shape[1], axis=-1)\n",
    "y_pred_future = scaler.inverse_transform(forecast_copies)[:, 0]\n",
    "\n",
    "forecast_dates = []\n",
    "for time_i in forecast_period_dates:\n",
    "    forecast_dates.append(time_i.date())\n",
    "\n",
    "df_forecast = pd.DataFrame(\n",
    "    {'time': np.array(forecast_dates), 'value': y_pred_future})\n",
    "df_forecast['time'] = pd.to_datetime(df_forecast['time'])\n",
    "\n",
    "original = atlanta_lstm[['time', 'value']]"
   ]
  },
  {
   "cell_type": "code",
   "execution_count": null,
   "id": "e09be70b",
   "metadata": {},
   "outputs": [],
   "source": [
    "sns.lineplot(original['time'], original['value'], label = 'Original')\n",
    "sns.lineplot(df_forecast['time'], df_forecast['value'], label = 'Predictions')\n",
    "plt.legend();"
   ]
  },
  {
   "cell_type": "code",
   "execution_count": null,
   "id": "59d4564f",
   "metadata": {},
   "outputs": [],
   "source": [
    "df_prophet = atlanta_lstm.rename({'time': 'ds', 'value': 'y'}, axis=1)\n",
    "df_prophet.drop(['concrete prices', 'plywood prices',\n",
    "                 'median_house_inc'], inplace=True, axis=1)"
   ]
  },
  {
   "cell_type": "code",
   "execution_count": null,
   "id": "41f3a066",
   "metadata": {},
   "outputs": [],
   "source": [
    "model = Prophet()\n",
    "model.fit(df_prophet)\n",
    "forecast = model.predict(df_prophet)"
   ]
  },
  {
   "cell_type": "code",
   "execution_count": null,
   "id": "51056491",
   "metadata": {},
   "outputs": [],
   "source": [
    "sns.lineplot(original['time'], original['value'], label='Original')\n",
    "sns.lineplot(forecast['ds'], forecast['yhat'], label='Predictions');"
   ]
  },
  {
   "cell_type": "code",
   "execution_count": null,
   "id": "bb4a3937",
   "metadata": {},
   "outputs": [],
   "source": [
    "MSE = np.square(np.subtract(original.value, forecast.yhat)).mean()\n",
    "\n",
    "RMSE = math.sqrt(MSE)\n",
    "print(f'RMSE: {RMSE}')\n",
    "print(\"%RMSE: \", RMSE / original.mean())"
   ]
  },
  {
   "cell_type": "code",
   "execution_count": null,
   "id": "2828b912",
   "metadata": {},
   "outputs": [],
   "source": [
    "future = model.make_future_dataframe(periods=36, freq='MS')\n",
    "future_forecast = model.predict(future)"
   ]
  },
  {
   "cell_type": "code",
   "execution_count": null,
   "id": "2fd80203",
   "metadata": {},
   "outputs": [],
   "source": [
    "fig, ax = plt.subplots()\n",
    "\n",
    "x = future_forecast[future_forecast['ds'] == '2018-06-01']['ds']\n",
    "x_1 = future_forecast[future_forecast['ds'] == '2018-12-01']['ds']\n",
    "\n",
    "sns.lineplot(original['time'], original['value'],\n",
    "             label='Original', color='blue')\n",
    "sns.lineplot(\n",
    "    future_forecast['ds'], future_forecast['yhat'], label='Predictions', color='r')\n",
    "plt.vlines(x=original['time'].max(), ymin=future_forecast['yhat'].min(\n",
    ") - 5, ymax=future_forecast['yhat'].max() + 5, linestyles='dashed')\n",
    "ax.set_title('Denver House Prices')\n",
    "ax.set_ylabel('House Prices')\n",
    "ax.set_xlabel('Time')\n",
    "plt.legend(loc='best')\n",
    "ax.text(x, 200000, 'Predicted Values', fontsize=15)\n",
    "ax.annotate('', xy=(x_1, 265000), xytext=(x, 205000),\n",
    "            arrowprops=dict(facecolor='black', shrink=0.05));"
   ]
  },
  {
   "cell_type": "markdown",
   "id": "485b0654",
   "metadata": {},
   "source": [
    "### Miami Gardens"
   ]
  },
  {
   "cell_type": "code",
   "execution_count": null,
   "id": "1a69d90d",
   "metadata": {},
   "outputs": [],
   "source": [
    "Miami_gard = Miami_gard_df[['value']]\n",
    "plot_series(Miami_gard, name = 'House Prices in Miami Garden',\n",
    "            X = 15,\n",
    "            y = 5,\n",
    "            x_label= 'Year',\n",
    "            y_label='House Prices',\n",
    "            window = 12)"
   ]
  },
  {
   "cell_type": "code",
   "execution_count": null,
   "id": "c703292c",
   "metadata": {},
   "outputs": [],
   "source": [
    "seasonal_plot(Miami_gard, window=12, X = 15, y = 10)"
   ]
  },
  {
   "cell_type": "code",
   "execution_count": null,
   "id": "b9e04a1c",
   "metadata": {},
   "outputs": [],
   "source": [
    "adfuller_test(Miami_gard, name = 'Miami Garden Prices')"
   ]
  },
  {
   "cell_type": "code",
   "execution_count": null,
   "id": "2d7216e2",
   "metadata": {},
   "outputs": [],
   "source": [
    "kpss_test(Miami_gard, name = 'Miami Garden Prices')"
   ]
  },
  {
   "cell_type": "code",
   "execution_count": null,
   "id": "a363d07a",
   "metadata": {},
   "outputs": [],
   "source": [
    "miami_gard_lstm = Miami_gard_df.drop(\n",
    "    ['RegionName', 'RegionID', 'SizeRank', 'City', 'Metro', 'CountyName', 'State'], axis=1)\n",
    "miami_gard_lstm.reset_index(inplace=True)\n",
    "train_dates = miami_gard_lstm.time\n",
    "cols = list(miami_gard_lstm)[1:]\n",
    "miami_gard_for_train = Miami_gard_df[cols].astype(float)\n",
    "scaler = StandardScaler()\n",
    "miami_gard_for_train_scaled = scaler.fit_transform(miami_gard_for_train)\n",
    "\n",
    "trainX = []\n",
    "trainY = []\n",
    "\n",
    "n_future = 1\n",
    "n_past = 6\n",
    "\n",
    "for i in range(n_past, len(miami_gard_for_train_scaled) - n_future + 1):\n",
    "    trainX.append(\n",
    "        miami_gard_for_train_scaled[i - n_past:i, 0:miami_gard_for_train.shape[1]])\n",
    "    trainY.append(miami_gard_for_train_scaled[i + n_future - 1:i + n_future, 0])\n",
    "\n",
    "trainX, trainY = np.array(trainX), np.array(trainY)\n",
    "print(f'trainX shape == {trainX.shape}')\n",
    "print(f'trainY shape == {trainY.shape}')"
   ]
  },
  {
   "cell_type": "code",
   "execution_count": null,
   "id": "285574e0",
   "metadata": {},
   "outputs": [],
   "source": [
    "model = Sequential()\n",
    "model.add(LSTM(64, activation = 'relu', input_shape = (trainX.shape[1], trainX.shape[2]), return_sequences=True))\n",
    "model.add(LSTM(32, activation = 'relu', return_sequences=False))\n",
    "model.add(Dropout(0.2))\n",
    "model.add(Dense(trainY.shape[1]))\n",
    "\n",
    "model.compile(optimizer='adam', loss = 'mse')\n",
    "model.summary()"
   ]
  },
  {
   "cell_type": "code",
   "execution_count": null,
   "id": "6886b461",
   "metadata": {},
   "outputs": [],
   "source": [
    "history = model.fit(trainX, trainY, epochs=200, batch_size = 5, validation_split=.1, verbose = 0, use_multiprocessing=True)"
   ]
  },
  {
   "cell_type": "code",
   "execution_count": null,
   "id": "27aba5ba",
   "metadata": {
    "scrolled": false
   },
   "outputs": [],
   "source": [
    "plt.plot(history.history['loss'], label = 'Training loss')\n",
    "plt.plot(history.history['val_loss'], label = 'Validation loss')\n",
    "plt.legend();"
   ]
  },
  {
   "cell_type": "code",
   "execution_count": null,
   "id": "296a16a8",
   "metadata": {},
   "outputs": [],
   "source": [
    "future_val = 167\n",
    "forecast_period_dates = pd.date_range(\n",
    "    list(train_dates)[0], periods=future_val, freq='MS').to_list()\n",
    "forecast = model.predict(trainX[-future_val:])\n",
    "\n",
    "forecast_copies = np.repeat(forecast, miami_gard_for_train.shape[1], axis=-1)\n",
    "y_pred_future = scaler.inverse_transform(forecast_copies)[:, 0]\n",
    "\n",
    "forecast_dates = []\n",
    "for time_i in forecast_period_dates:\n",
    "    forecast_dates.append(time_i.date())\n",
    "\n",
    "df_forecast = pd.DataFrame(\n",
    "    {'time': np.array(forecast_dates), 'value': y_pred_future})\n",
    "df_forecast['time'] = pd.to_datetime(df_forecast['time'])\n",
    "\n",
    "original = miami_gard_lstm[['time', 'value']]"
   ]
  },
  {
   "cell_type": "code",
   "execution_count": null,
   "id": "817c4002",
   "metadata": {},
   "outputs": [],
   "source": [
    "sns.lineplot(original['time'], original['value'], label = 'Original')\n",
    "sns.lineplot(df_forecast['time'], df_forecast['value'], label = 'Predictions')\n",
    "plt.legend();"
   ]
  },
  {
   "cell_type": "code",
   "execution_count": null,
   "id": "eaf6c438",
   "metadata": {},
   "outputs": [],
   "source": [
    "df_prophet = miami_gard_lstm.rename({'time': 'ds', 'value': 'y'}, axis=1)\n",
    "df_prophet.drop(['concrete prices', 'plywood prices',\n",
    "                 'median_house_inc'], inplace=True, axis=1)"
   ]
  },
  {
   "cell_type": "code",
   "execution_count": null,
   "id": "ab637a90",
   "metadata": {},
   "outputs": [],
   "source": [
    "model = Prophet()\n",
    "model.fit(df_prophet)\n",
    "forecast = model.predict(df_prophet)"
   ]
  },
  {
   "cell_type": "code",
   "execution_count": null,
   "id": "359269c2",
   "metadata": {},
   "outputs": [],
   "source": [
    "sns.lineplot(original['time'], original['value'], label='Original')\n",
    "sns.lineplot(forecast['ds'], forecast['yhat'], label='Predictions');"
   ]
  },
  {
   "cell_type": "code",
   "execution_count": null,
   "id": "26d2389d",
   "metadata": {},
   "outputs": [],
   "source": [
    "MSE = np.square(np.subtract(original.value, forecast.yhat)).mean()\n",
    "\n",
    "RMSE = math.sqrt(MSE)\n",
    "print(f'RMSE: {RMSE}')\n",
    "print(\"%RMSE: \", RMSE / original.mean())"
   ]
  },
  {
   "cell_type": "code",
   "execution_count": null,
   "id": "7a551dc5",
   "metadata": {},
   "outputs": [],
   "source": [
    "future = model.make_future_dataframe(periods=36, freq='MS')\n",
    "future_forecast = model.predict(future)"
   ]
  },
  {
   "cell_type": "code",
   "execution_count": null,
   "id": "26782a8b",
   "metadata": {},
   "outputs": [],
   "source": [
    "fig, ax = plt.subplots()\n",
    "\n",
    "x = future_forecast[future_forecast['ds'] == '2018-06-01']['ds']\n",
    "x_1 = future_forecast[future_forecast['ds'] == '2018-12-01']['ds']\n",
    "\n",
    "sns.lineplot(original['time'], original['value'],\n",
    "             label='Original', color='blue')\n",
    "sns.lineplot(\n",
    "    future_forecast['ds'], future_forecast['yhat'], label='Predictions', color='r')\n",
    "plt.vlines(x=original['time'].max(), ymin=future_forecast['yhat'].min(\n",
    ") - 5, ymax=future_forecast['yhat'].max() + 5, linestyles='dashed')\n",
    "ax.set_title('Denver House Prices')\n",
    "ax.set_ylabel('House Prices')\n",
    "ax.set_xlabel('Time')\n",
    "plt.legend(loc='best')\n",
    "ax.text(x, 200000, 'Predicted Values', fontsize=15)\n",
    "ax.annotate('', xy=(x_1, 265000), xytext=(x, 205000),\n",
    "            arrowprops=dict(facecolor='black', shrink=0.05));"
   ]
  },
  {
   "cell_type": "markdown",
   "id": "d708c686",
   "metadata": {},
   "source": [
    "### Miami"
   ]
  },
  {
   "cell_type": "code",
   "execution_count": null,
   "id": "0d1e3d7a",
   "metadata": {},
   "outputs": [],
   "source": [
    "Miami_df.value"
   ]
  },
  {
   "cell_type": "code",
   "execution_count": null,
   "id": "1e74f730",
   "metadata": {},
   "outputs": [],
   "source": [
    "Miami = Miami_df[['value']]\n",
    "plot_series(Miami, name = 'House Prices in Miami', window=12, X = 15, y = 5, x_label= 'Year', y_label= 'House Prices')"
   ]
  },
  {
   "cell_type": "code",
   "execution_count": null,
   "id": "3ab778a9",
   "metadata": {},
   "outputs": [],
   "source": [
    "seasonal_plot(Miami, window=12, X = 15, y = 10)"
   ]
  },
  {
   "cell_type": "code",
   "execution_count": null,
   "id": "967b84ed",
   "metadata": {},
   "outputs": [],
   "source": [
    "adfuller_test(Miami, name = 'Miami Prices')"
   ]
  },
  {
   "cell_type": "code",
   "execution_count": null,
   "id": "bb543106",
   "metadata": {},
   "outputs": [],
   "source": [
    "kpss_test(Miami, name = 'Miami Prices')"
   ]
  },
  {
   "cell_type": "code",
   "execution_count": null,
   "id": "4aac5649",
   "metadata": {},
   "outputs": [],
   "source": [
    "miami_lstm = Miami_df.drop(\n",
    "    ['RegionName', 'RegionID', 'SizeRank', 'City', 'Metro', 'CountyName', 'State'], axis=1)\n",
    "miami_lstm.reset_index(inplace=True)\n",
    "train_dates = miami_lstm.time\n",
    "cols = list(miami_lstm)[1:]\n",
    "miami_for_train = Miami_df[cols].astype(float)\n",
    "scaler = StandardScaler()\n",
    "miami_for_train_scaled = scaler.fit_transform(miami_for_train)\n",
    "\n",
    "trainX = []\n",
    "trainY = []\n",
    "\n",
    "n_future = 1\n",
    "n_past = 6\n",
    "\n",
    "for i in range(n_past, len(miami_for_train_scaled) - n_future + 1):\n",
    "    trainX.append(\n",
    "        miami_for_train_scaled[i - n_past:i, 0:miami_for_train.shape[1]])\n",
    "    trainY.append(\n",
    "        miami_for_train_scaled[i + n_future - 1:i + n_future, 0])\n",
    "\n",
    "trainX, trainY = np.array(trainX), np.array(trainY)\n",
    "print(f'trainX shape == {trainX.shape}')\n",
    "print(f'trainY shape == {trainY.shape}')"
   ]
  },
  {
   "cell_type": "code",
   "execution_count": null,
   "id": "872bf4fd",
   "metadata": {},
   "outputs": [],
   "source": [
    "model = Sequential()\n",
    "model.add(LSTM(64, activation = 'relu', input_shape = (trainX.shape[1], trainX.shape[2]), return_sequences=True))\n",
    "model.add(LSTM(32, activation = 'relu', return_sequences=True))\n",
    "model.add(LSTM(16, activation = 'relu', return_sequences = False))\n",
    "model.add(Dropout(0.2))\n",
    "model.add(Dense(8))\n",
    "model.add(Dense(trainY.shape[1]))\n",
    "\n",
    "model.compile(optimizer='adam', loss = 'mse')\n",
    "model.summary()"
   ]
  },
  {
   "cell_type": "code",
   "execution_count": null,
   "id": "69f4979e",
   "metadata": {
    "scrolled": true
   },
   "outputs": [],
   "source": [
    "history = model.fit(trainX, trainY, epochs=200, batch_size = 5, validation_split=.1, verbose = 0, use_multiprocessing=True)"
   ]
  },
  {
   "cell_type": "code",
   "execution_count": null,
   "id": "57160a30",
   "metadata": {},
   "outputs": [],
   "source": [
    "plt.plot(history.history['loss'], label = 'Training loss')\n",
    "plt.plot(history.history['val_loss'], label = 'Validation loss')\n",
    "plt.legend();"
   ]
  },
  {
   "cell_type": "code",
   "execution_count": null,
   "id": "c65382e9",
   "metadata": {},
   "outputs": [],
   "source": [
    "future_val = 167\n",
    "forecast_period_dates = pd.date_range(\n",
    "    list(train_dates)[0], periods=future_val, freq='MS').to_list()\n",
    "forecast = model.predict(trainX[-future_val:])\n",
    "\n",
    "forecast_copies = np.repeat(forecast, miami_gard_for_train.shape[1], axis=-1)\n",
    "y_pred_future = scaler.inverse_transform(forecast_copies)[:, 0]\n",
    "\n",
    "forecast_dates = []\n",
    "for time_i in forecast_period_dates:\n",
    "    forecast_dates.append(time_i.date())\n",
    "\n",
    "df_forecast = pd.DataFrame(\n",
    "    {'time': np.array(forecast_dates), 'value': y_pred_future})\n",
    "df_forecast['time'] = pd.to_datetime(df_forecast['time'])\n",
    "\n",
    "original = miami_gard_lstm[['time', 'value']]"
   ]
  },
  {
   "cell_type": "code",
   "execution_count": null,
   "id": "b5a206b6",
   "metadata": {
    "scrolled": false
   },
   "outputs": [],
   "source": [
    "sns.lineplot(original['time'], original['value'], label = 'Original')\n",
    "sns.lineplot(df_forecast['time'], df_forecast['value'], label = 'Predictions')\n",
    "plt.legend();"
   ]
  },
  {
   "cell_type": "code",
   "execution_count": null,
   "id": "e05b2f1b",
   "metadata": {},
   "outputs": [],
   "source": [
    "df_prophet = miami_lstm.rename({'time': 'ds', 'value': 'y'}, axis=1)\n",
    "df_prophet.drop(['concrete prices', 'plywood prices',\n",
    "                 'median_house_inc'], inplace=True, axis=1)"
   ]
  },
  {
   "cell_type": "code",
   "execution_count": null,
   "id": "c2e728c0",
   "metadata": {},
   "outputs": [],
   "source": [
    "model = Prophet()\n",
    "model.fit(df_prophet)\n",
    "forecast = model.predict(df_prophet)"
   ]
  },
  {
   "cell_type": "code",
   "execution_count": null,
   "id": "b8f0e610",
   "metadata": {},
   "outputs": [],
   "source": [
    "sns.lineplot(original['time'], original['value'], label='Original')\n",
    "sns.lineplot(forecast['ds'], forecast['yhat'], label='Predictions');"
   ]
  },
  {
   "cell_type": "code",
   "execution_count": null,
   "id": "77d6d374",
   "metadata": {},
   "outputs": [],
   "source": [
    "MSE = np.square(np.subtract(original.value, forecast.yhat)).mean()\n",
    "\n",
    "RMSE = math.sqrt(MSE)\n",
    "print(f'RMSE: {RMSE}')\n",
    "print(\"%RMSE: \", RMSE / original.mean())"
   ]
  },
  {
   "cell_type": "code",
   "execution_count": null,
   "id": "27eaced7",
   "metadata": {},
   "outputs": [],
   "source": [
    "future = model.make_future_dataframe(periods=36, freq='MS')\n",
    "future_forecast = model.predict(future)"
   ]
  },
  {
   "cell_type": "code",
   "execution_count": null,
   "id": "4992fd89",
   "metadata": {},
   "outputs": [],
   "source": [
    "fig, ax = plt.subplots()\n",
    "\n",
    "x = future_forecast[future_forecast['ds'] == '2018-06-01']['ds']\n",
    "x_1 = future_forecast[future_forecast['ds'] == '2018-12-01']['ds']\n",
    "\n",
    "sns.lineplot(original['time'], original['value'],\n",
    "             label='Original', color='blue')\n",
    "sns.lineplot(\n",
    "    future_forecast['ds'], future_forecast['yhat'], label='Predictions', color='r')\n",
    "model.plot(future_forecast, ax = ax)\n",
    "plt.vlines(x=original['time'].max(), ymin=future_forecast['yhat'].min(\n",
    ") - 5, ymax=future_forecast['yhat'].max() + 5, linestyles='dashed')\n",
    "ax.set_title('Denver House Prices')\n",
    "ax.set_ylabel('House Prices')\n",
    "ax.set_xlabel('Time')\n",
    "plt.legend(loc='best')\n",
    "ax.text(x, 200000, 'Predicted Values', fontsize=15)\n",
    "ax.annotate('', xy=(x_1, 265000), xytext=(x, 205000),\n",
    "            arrowprops=dict(facecolor='black', shrink=0.05));"
   ]
  },
  {
   "cell_type": "code",
   "execution_count": null,
   "id": "147ac9d5",
   "metadata": {},
   "outputs": [],
   "source": []
  }
 ],
 "metadata": {
  "kernelspec": {
   "display_name": "Python (learn-env)",
   "language": "python",
   "name": "learn-env"
  },
  "language_info": {
   "codemirror_mode": {
    "name": "ipython",
    "version": 3
   },
   "file_extension": ".py",
   "mimetype": "text/x-python",
   "name": "python",
   "nbconvert_exporter": "python",
   "pygments_lexer": "ipython3",
   "version": "3.8.11"
  }
 },
 "nbformat": 4,
 "nbformat_minor": 5
}
