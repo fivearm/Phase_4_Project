{
 "cells": [
  {
   "cell_type": "code",
   "execution_count": 1,
   "id": "daa6d90c",
   "metadata": {},
   "outputs": [],
   "source": [
    "import pandas as pd\n",
    "import numpy as np\n",
    "import seaborn as sns\n",
    "import matplotlib.pyplot as plt\n",
    "import math\n",
    "from statsmodels.tsa.stattools import adfuller, kpss\n",
    "from statsmodels.tsa.seasonal import seasonal_decompose\n",
    "from statsmodels.tsa.arima.model import ARIMA\n",
    "from keras.models import Sequential\n",
    "from keras.layers import LSTM, Dense, Dropout\n",
    "from sklearn.preprocessing import StandardScaler\n",
    "from sklearn.model_selection import TimeSeriesSplit\n",
    "\n",
    "%matplotlib inline"
   ]
  },
  {
   "cell_type": "code",
   "execution_count": 2,
   "id": "3d4322af",
   "metadata": {},
   "outputs": [],
   "source": [
    "df = pd.read_csv('data/zillow_data.csv')\n",
    "lumber = pd.read_csv('data/plywood_prices.csv')\n",
    "concrete = pd.read_csv('data/concrete_prices.csv')\n",
    "\n",
    "lumber = lumber.rename({'WPU083': 'plywood prices', 'DATE': 'time'}, axis=1).set_index('time')\n",
    "concrete = concrete.rename({'PCU32733273': 'concrete prices', 'DATE' : 'time'}, axis = 1).set_index('time')"
   ]
  },
  {
   "cell_type": "code",
   "execution_count": 3,
   "id": "95792b22",
   "metadata": {},
   "outputs": [],
   "source": [
    "def get_datetimes(df):\n",
    "    \"\"\"\n",
    "    Takes a dataframe:\n",
    "    returns only those column names that can be converted into datetime objects \n",
    "    as datetime objects.\n",
    "    NOTE number of returned columns may not match total number of columns in passed dataframe\n",
    "    \"\"\"\n",
    "    \n",
    "    return pd.to_datetime(df.columns.values[7:], format='%Y-%m')"
   ]
  },
  {
   "cell_type": "code",
   "execution_count": 4,
   "id": "64d43e30",
   "metadata": {},
   "outputs": [],
   "source": [
    "def melt_data(df, compress = False):\n",
    "    \"\"\"\n",
    "    Takes the zillow_data dataset in wide form or a subset of the zillow_dataset.  \n",
    "    Returns a long-form datetime dataframe \n",
    "    with the datetime column names as the index and the values as the 'values' column.\n",
    "    \n",
    "    If more than one row is passes in the wide-form dataset, the values column\n",
    "    will be the mean of the values from the datetime columns in all of the rows.\n",
    "    \n",
    "    If compress is True will compress data to only the value column.\n",
    "    \"\"\"\n",
    "    if compress == True:\n",
    "        melted = pd.melt(df, id_vars=['RegionName', 'RegionID', 'SizeRank', 'City', 'State', \n",
    "                                      'Metro', 'CountyName'], var_name='time')\n",
    "        melted['time'] = pd.to_datetime(melted['time'], infer_datetime_format=True)\n",
    "        melted = melted.dropna(subset=['value'])\n",
    "        return melted.groupby('time').aggregate({'value':'mean'})\n",
    "    else:\n",
    "        melted = pd.melt(df, id_vars=['RegionName', 'RegionID', 'SizeRank', 'City', 'State', \n",
    "                                      'Metro', 'CountyName'], var_name='time')\n",
    "        melted['time'] = pd.to_datetime(melted['time'], infer_datetime_format=True)\n",
    "        melted = melted.dropna(subset=['value'])\n",
    "        return melted"
   ]
  },
  {
   "cell_type": "code",
   "execution_count": 5,
   "id": "a7856f87",
   "metadata": {},
   "outputs": [],
   "source": [
    "def mean_absolute_percentage_error(y_true, y_pred):\n",
    "    \"\"\"\n",
    "    Takes in the y_true values and the y_pred and will\n",
    "    return the mean absolute error as a percent\n",
    "    \"\"\"\n",
    "    y_true, y_pred = np.array(y_true), np.array(y_pred)\n",
    "    return np.mean(np.abs((y_true - y_pred) / y_true)) * 100"
   ]
  },
  {
   "cell_type": "code",
   "execution_count": 6,
   "id": "07ae8bd6",
   "metadata": {},
   "outputs": [],
   "source": [
    "def plot_series(df, name = None, window = None, X = None, y = None, x_label = None, y_label = None):\n",
    "    '''\n",
    "    Will plot dataframe, rolling mean, rolling std of a given dataframe\n",
    "    \n",
    "    Parameters\n",
    "    ------------\n",
    "    df : The dataframe you with to plot\n",
    "    name : The name of the plot\n",
    "    window : The window of the rolling values\n",
    "    X : length of the df\n",
    "    y : height of the df\n",
    "    x_label : The X-axis label\n",
    "    y_label : The y-axis label\n",
    "    \n",
    "    Returns\n",
    "    -----------\n",
    "    Plot of the Original data, the rolling mean, and the rolling standard deviation\n",
    "    '''\n",
    "    df_mean = df.rolling(window=window).mean()\n",
    "    df_std = df.rolling(window=window).std()\n",
    "\n",
    "    fig, ax = plt.subplots(figsize = (X,y))\n",
    "\n",
    "    orig = plt.plot(df, label = 'Original')\n",
    "    mean = plt.plot(df_mean, label = 'Rolling Mean')\n",
    "    std = plt.plot(df_std, label = 'Rolling Std')\n",
    "    plt.title(name)\n",
    "    plt.xlabel(x_label)\n",
    "    plt.ylabel(y_label)\n",
    "    plt.legend(loc = 'best')\n",
    "    plt.show();"
   ]
  },
  {
   "cell_type": "code",
   "execution_count": 7,
   "id": "ac20ebf5",
   "metadata": {},
   "outputs": [],
   "source": [
    "def seasonal_plot(df, window = None, X = None, y = None):\n",
    "    '''\n",
    "    Plotting the seasonal decompose\n",
    "    \n",
    "    Parameters\n",
    "    -----------\n",
    "    df : The dataframe you wish to decompose\n",
    "    window : The rolling window\n",
    "    X : The length of the plot\n",
    "    y : The Height of the plot\n",
    "    \n",
    "    Return \n",
    "    -----------\n",
    "    A seasonal decompose of the dataframe. \n",
    "    '''\n",
    "    result = seasonal_decompose(df.rolling(window).mean().dropna())\n",
    "    plt.rcParams['figure.figsize'] = (X,y)\n",
    "    result.plot();"
   ]
  },
  {
   "cell_type": "code",
   "execution_count": 8,
   "id": "186725b3",
   "metadata": {},
   "outputs": [],
   "source": [
    "def adfuller_test(df, name = None):\n",
    "    '''\n",
    "    Take a dataframe or series and returns the adfuller test for it.\n",
    "    \n",
    "    Parameters\n",
    "    -----------\n",
    "    df : dataframe or series\n",
    "    name = Name of the variable you are testing\n",
    "    '''\n",
    "    df_test = adfuller(df)\n",
    "    print(f'Adfuller test for {name}')\n",
    "    print('-'*20)\n",
    "    print('Test Stastic = {:.3f}'.format(df_test[0]))\n",
    "    print('P-value = {:.3f}'.format(df_test[1]))\n",
    "    print('Critical values :')\n",
    "    for k, v in df_test[4].items():\n",
    "        print(f\"{k}: {v} - The data is {'not' if v < df_test[0] else ''} stationary with {100 - int(k[:-1])}% confidence\")"
   ]
  },
  {
   "cell_type": "code",
   "execution_count": 9,
   "id": "c7977010",
   "metadata": {},
   "outputs": [],
   "source": [
    "def kpss_test(df, name = None):\n",
    "    '''\n",
    "    Will return the kpss test\n",
    "    \n",
    "    Parmeters\n",
    "    ----------\n",
    "    df = dataframe or series\n",
    "    name = Name of the variable you are testing\n",
    "    '''\n",
    "    df_test = kpss(np.log(df), nlags='auto')\n",
    "    print(f'Is {name} data stationary?')\n",
    "    print(f'Test stastic = {df_test[0]: .3f}')\n",
    "    print(f'P-value = {df_test[1]: .3f}')\n",
    "    print('Critical Values: ')\n",
    "    for k, v in df_test[3].items():\n",
    "        print(f'{k}: {v}')"
   ]
  },
  {
   "cell_type": "markdown",
   "id": "5fcbbccd",
   "metadata": {},
   "source": [
    "#### HOLD"
   ]
  },
  {
   "cell_type": "code",
   "execution_count": null,
   "id": "81a1c7a7",
   "metadata": {},
   "outputs": [],
   "source": [
    "df_melt = melt_data(df)\n",
    "melt_df= melt_data(df, compress=False).set_index('time')\n",
    "melt_df = melt_df[melt_df.index >= '2003-12-01']"
   ]
  },
  {
   "cell_type": "code",
   "execution_count": null,
   "id": "853787cf",
   "metadata": {
    "scrolled": false
   },
   "outputs": [],
   "source": [
    "con_lum = pd.concat([concrete, lumber], axis=1)\n",
    "con_lum.index = pd.to_datetime(con_lum.index)\n",
    "final_df = pd.concat([melt_df, con_lum], axis=1)\n",
    "final_df.head()"
   ]
  },
  {
   "cell_type": "markdown",
   "id": "d005ebaf",
   "metadata": {},
   "source": [
    "# TIme Series Analysis"
   ]
  },
  {
   "cell_type": "code",
   "execution_count": 25,
   "id": "fe0333a9",
   "metadata": {},
   "outputs": [],
   "source": [
    "Denver_df = final_df[final_df['RegionName'] == 80216]\n",
    "Vallejo_df = final_df[final_df['RegionName'] == 94590]\n",
    "Atlanta_df = final_df[final_df['RegionName'] == 30316]\n",
    "Miami_gard_df = final_df[final_df['RegionName'] == 33055]\n",
    "Miami_df = final_df[final_df['RegionName'] == 33135]"
   ]
  },
  {
   "cell_type": "markdown",
   "id": "79b6b687",
   "metadata": {},
   "source": [
    "## Stationarize"
   ]
  },
  {
   "cell_type": "code",
   "execution_count": null,
   "id": "3b391339",
   "metadata": {},
   "outputs": [],
   "source": [
    "def subtract_rolling(data, window=2, center=False):\n",
    "    series = pd.Series(data)\n",
    "    rolling_mean = data.rolling(window=window, center=center).mean()\n",
    "    return series - rolling_mean\n",
    "\n",
    "def determine_transform(df, col):\n",
    "    col_resamp = df[col].resample('M').mean()\n",
    "    fig = plt.figure(figsize=(12,10))\n",
    "    \n",
    "    index = col_resamp.index\n",
    "   # No transformation\n",
    "    plt.subplot(3, 1, 1)\n",
    "    no_transform = subtract_rolling(col_resamp)\n",
    "    plt.plot(no_transform)\n",
    "    plt.xlabel(\"date\", fontsize=16)\n",
    "    plt.ylabel(\"price\", fontsize=16)\n",
    "   \n",
    "    # Log transformation (linear and heteroscedastic)\n",
    "    plt.subplot(3, 1, 2)\n",
    "    log_rolling_trans = subtract_rolling(np.log(col_resamp))\n",
    "    plt.plot(log_rolling_trans, color=\"blue\")\n",
    "    plt.xlabel(\"date\", fontsize=16)\n",
    "    plt.ylabel(\"log(price)\", fontsize=16)\n",
    "\n",
    "    # Square root transformation \n",
    "    plt.subplot(3, 1, 3)\n",
    "    sqrt_rolling = (subtract_rolling(np.sqrt(col_resamp)))\n",
    "    sqrt_rolling = sqrt_rolling.fillna(method='ffill')\n",
    "    plt.plot(sqrt_rolling, color=\"green\")\n",
    "    plt.xlabel(\"date\", fontsize=16)\n",
    "    plt.ylabel(\"sqrt(price)\", fontsize=16)\n",
    "    \n",
    "    plt.title(col)\n",
    "    return sqrt_rolling.dropna()\n",
    "def stationarize(df, col, freq='m', window=2):\n",
    "    df = df.resample(freq).mean()\n",
    "#diff = np.log2(final_df['value']).diff().dropna()\n",
    "log2_transf = np.log2(final_df['value'])\n",
    "diff = log2_transf[1:] - log2_transf[:-1]\n",
    "\n",
    "#stationary = determine_transform(final_df, 'value')\n",
    "#print(adfuller_test(stationary, 'rolling mean transform'))\n",
    "print(adfuller_test(diff, 'differenced transform'))"
   ]
  },
  {
   "cell_type": "markdown",
   "id": "350adfa2",
   "metadata": {},
   "source": [
    "## Cross Validation"
   ]
  },
  {
   "cell_type": "code",
   "execution_count": 107,
   "id": "375fb02b",
   "metadata": {},
   "outputs": [
    {
     "name": "stdout",
     "output_type": "stream",
     "text": [
      "time\n",
      "2003-12-01    217600.0\n",
      "2004-01-01    222200.0\n",
      "2004-02-01    226500.0\n",
      "2004-03-01    230700.0\n",
      "2004-04-01    234800.0\n",
      "                ...   \n",
      "2017-12-01    329100.0\n",
      "2018-01-01    332400.0\n",
      "2018-02-01    335500.0\n",
      "2018-03-01    338500.0\n",
      "2018-04-01    340600.0\n",
      "Name: value, Length: 173, dtype: float64\n",
      "time\n",
      "2003-12-31    217600.0\n",
      "2004-01-31    222200.0\n",
      "2004-02-29    226500.0\n",
      "2004-03-31    230700.0\n",
      "2004-04-30    234800.0\n",
      "                ...   \n",
      "2017-12-31    329100.0\n",
      "2018-01-31    332400.0\n",
      "2018-02-28    335500.0\n",
      "2018-03-31    338500.0\n",
      "2018-04-30    340600.0\n",
      "Freq: M, Name: value, Length: 173, dtype: float64\n",
      "time\n",
      "2003-12-31    217600.0\n",
      "2004-01-31    222200.0\n",
      "2004-02-29    226500.0\n",
      "2004-03-31    230700.0\n",
      "2004-04-30    234800.0\n",
      "2004-05-31    239100.0\n",
      "2004-06-30    243600.0\n",
      "2004-07-31    248100.0\n",
      "2004-08-31    252500.0\n",
      "2004-09-30    256700.0\n",
      "2004-10-31    261100.0\n",
      "2004-11-30    265300.0\n",
      "2004-12-31    269700.0\n",
      "2005-01-31    274400.0\n",
      "2005-02-28    279200.0\n",
      "2005-03-31    284700.0\n",
      "2005-04-30    291100.0\n",
      "2005-05-31    298000.0\n",
      "2005-06-30    305100.0\n",
      "2005-07-31    312300.0\n",
      "2005-08-31    319200.0\n",
      "2005-09-30    325700.0\n",
      "2005-10-31    331800.0\n",
      "2005-11-30    337400.0\n",
      "2005-12-31    343000.0\n",
      "2006-01-31    349000.0\n",
      "2006-02-28    354700.0\n",
      "2006-03-31    360600.0\n",
      "2006-04-30    366800.0\n",
      "2006-05-31    372600.0\n",
      "2006-06-30    377400.0\n",
      "2006-07-31    381300.0\n",
      "2006-08-31    384100.0\n",
      "2006-09-30    386700.0\n",
      "2006-10-31    389400.0\n",
      "2006-11-30    392000.0\n",
      "2006-12-31    395100.0\n",
      "Freq: M, Name: value, dtype: float64\n",
      "time\n",
      "2003-12-31    217600.0\n",
      "2004-01-31    222200.0\n",
      "2004-02-29    226500.0\n",
      "2004-03-31    230700.0\n",
      "2004-04-30    234800.0\n",
      "                ...   \n",
      "2009-06-30    171900.0\n",
      "2009-07-31    165600.0\n",
      "2009-08-31    162400.0\n",
      "2009-09-30    160400.0\n",
      "2009-10-31    159300.0\n",
      "Freq: M, Name: value, Length: 71, dtype: float64\n",
      "time\n",
      "2003-12-31    217600.0\n",
      "2004-01-31    222200.0\n",
      "2004-02-29    226500.0\n",
      "2004-03-31    230700.0\n",
      "2004-04-30    234800.0\n",
      "                ...   \n",
      "2012-04-30    136100.0\n",
      "2012-05-31    136100.0\n",
      "2012-06-30    136200.0\n",
      "2012-07-31    137900.0\n",
      "2012-08-31    139300.0\n",
      "Freq: M, Name: value, Length: 105, dtype: float64\n",
      "time\n",
      "2003-12-31    217600.0\n",
      "2004-01-31    222200.0\n",
      "2004-02-29    226500.0\n",
      "2004-03-31    230700.0\n",
      "2004-04-30    234800.0\n",
      "                ...   \n",
      "2015-02-28    203600.0\n",
      "2015-03-31    208300.0\n",
      "2015-04-30    213500.0\n",
      "2015-05-31    219600.0\n",
      "2015-06-30    226200.0\n",
      "Freq: M, Name: value, Length: 139, dtype: float64\n"
     ]
    },
    {
     "data": {
      "text/plain": [
       "[190800.15988077465, 7336.790647694442, 15493.170518548839, 63389.3352465385]"
      ]
     },
     "execution_count": 107,
     "metadata": {},
     "output_type": "execute_result"
    }
   ],
   "source": [
    "def rmse(y_true, y_pred):\n",
    "    sum_squared_diff = sum([(y2 - y1)**2 for y2,y1 in zip(y_true, y_pred)])\n",
    "    rmse = (sum_squared_diff * (1/len(y_true))) ** 0.5\n",
    "    return rmse\n",
    "\n",
    "def cross_validate(model, df, split_freq='M', model_kwargs={}):\n",
    "    '''\n",
    "    Resamples dataframe using aggregate mean\n",
    "    Preforms cross validation of the input model. \n",
    "    ---------------------------------------------------------------------\n",
    "    model: uninitalized model- no parantheses \n",
    "    split_freq: the frequency to index the data by\n",
    "    model_kwargs: keyword arguments to pass into the model before fitting\n",
    "    ---------------------------------------------------------------------\n",
    "    Returns: An array of RMSE\n",
    "    '''\n",
    "    \n",
    "    df = df.resample(split_freq).mean()\n",
    "    all_rmse = []\n",
    "    # Create and loop through 4 different train and validation sets\n",
    "    split = TimeSeriesSplit(n_splits=4)\n",
    "    for train_ind, val_ind in split.split(df):\n",
    "        # Initialize, fit, and generate predictions the model on subset of df\n",
    "        model_fit = model(df.iloc[train_ind], **model_kwargs).fit()\n",
    "        preds = model_fit.predict(typ='levels', start=val_ind[0], end=val_ind[-1])\n",
    "        \n",
    "        # Grab Y actual from df\n",
    "        true = df.iloc[val_ind]\n",
    "        \n",
    "        # Calculate and store RMSE\n",
    "        all_rmse.append(rmse(true, preds))\n",
    "    return all_rmse \n",
    "\n",
    "cross_validate(ARIMA, Miami_df['value'], 'M', model_kwargs={'order':(1,2,0)})"
   ]
  },
  {
   "cell_type": "markdown",
   "id": "beb16c74",
   "metadata": {},
   "source": [
    "## Arima "
   ]
  },
  {
   "cell_type": "code",
   "execution_count": 59,
   "id": "87a86f47",
   "metadata": {},
   "outputs": [],
   "source": [
    "def arima(series, order):\n",
    "    '''\n",
    "    order = (p,d,q)\n",
    "    p: The number of lag observations included in the model, also called the lag order.\n",
    "    d: The number of times that the raw observations are differenced, also called the degree of differencing.\n",
    "    q: The size of the moving average window, also called the order of moving average\n",
    "    '''\n",
    "    model = ARIMA(series.values, order=order).fit()\n",
    "    print(model.summary())\n",
    "    \n",
    "    residuals = model.resid\n",
    "    fig, ax = plt.subplots()\n",
    "    ax.plot(series.index, residuals)"
   ]
  },
  {
   "cell_type": "code",
   "execution_count": 62,
   "id": "4028ce82",
   "metadata": {},
   "outputs": [
    {
     "name": "stdout",
     "output_type": "stream",
     "text": [
      "                               SARIMAX Results                                \n",
      "==============================================================================\n",
      "Dep. Variable:                      y   No. Observations:                  173\n",
      "Model:                 ARIMA(1, 2, 0)   Log Likelihood               -1446.017\n",
      "Date:                Mon, 23 Aug 2021   AIC                           2896.033\n",
      "Time:                        10:05:06   BIC                           2902.316\n",
      "Sample:                             0   HQIC                          2898.583\n",
      "                                - 173                                         \n",
      "Covariance Type:                  opg                                         \n",
      "==============================================================================\n",
      "                 coef    std err          z      P>|z|      [0.025      0.975]\n",
      "------------------------------------------------------------------------------\n",
      "ar.L1          0.0127      0.015      0.845      0.398      -0.017       0.042\n",
      "sigma2      1.143e+06   9.77e+04     11.698      0.000    9.51e+05    1.33e+06\n",
      "===================================================================================\n",
      "Ljung-Box (L1) (Q):                  20.06   Jarque-Bera (JB):                 4.26\n",
      "Prob(Q):                              0.00   Prob(JB):                         0.12\n",
      "Heteroskedasticity (H):               2.56   Skew:                             0.24\n",
      "Prob(H) (two-sided):                  0.00   Kurtosis:                         3.60\n",
      "===================================================================================\n",
      "\n",
      "Warnings:\n",
      "[1] Covariance matrix calculated using the outer product of gradients (complex-step).\n"
     ]
    },
    {
     "data": {
      "image/png": "[encoded data removed]",
      "text/plain": [
       "<Figure size 1080x720 with 1 Axes>"
      ]
     },
     "metadata": {
      "needs_background": "light"
     },
     "output_type": "display_data"
    }
   ],
   "source": [
    "arima(Miami, (1,2,0))"
   ]
  },
  {
   "cell_type": "code",
   "execution_count": 66,
   "id": "af1b118f",
   "metadata": {},
   "outputs": [
    {
     "name": "stdout",
     "output_type": "stream",
     "text": [
      "                               SARIMAX Results                                \n",
      "==============================================================================\n",
      "Dep. Variable:                      y   No. Observations:                  173\n",
      "Model:                 ARIMA(1, 2, 0)   Log Likelihood               -1446.017\n",
      "Date:                Mon, 23 Aug 2021   AIC                           2896.033\n",
      "Time:                        10:13:57   BIC                           2902.316\n",
      "Sample:                             0   HQIC                          2898.583\n",
      "                                - 173                                         \n",
      "Covariance Type:                  opg                                         \n",
      "==============================================================================\n",
      "                 coef    std err          z      P>|z|      [0.025      0.975]\n",
      "------------------------------------------------------------------------------\n",
      "ar.L1          0.0127      0.015      0.845      0.398      -0.017       0.042\n",
      "sigma2      1.143e+06   9.77e+04     11.698      0.000    9.51e+05    1.33e+06\n",
      "===================================================================================\n",
      "Ljung-Box (L1) (Q):                  20.06   Jarque-Bera (JB):                 4.26\n",
      "Prob(Q):                              0.00   Prob(JB):                         0.12\n",
      "Heteroskedasticity (H):               2.56   Skew:                             0.24\n",
      "Prob(H) (two-sided):                  0.00   Kurtosis:                         3.60\n",
      "===================================================================================\n",
      "\n",
      "Warnings:\n",
      "[1] Covariance matrix calculated using the outer product of gradients (complex-step).\n"
     ]
    },
    {
     "data": {
      "image/png": "[encoded data removed]",
      "text/plain": [
       "<Figure size 1080x720 with 1 Axes>"
      ]
     },
     "metadata": {
      "needs_background": "light"
     },
     "output_type": "display_data"
    }
   ],
   "source": [
    "arima(Miami_gard, (1,2,0))"
   ]
  },
  {
   "cell_type": "code",
   "execution_count": null,
   "id": "53983b7b",
   "metadata": {},
   "outputs": [],
   "source": []
  }
 ],
 "metadata": {
  "kernelspec": {
   "display_name": "Python 3",
   "language": "python",
   "name": "python3"
  },
  "language_info": {
   "codemirror_mode": {
    "name": "ipython",
    "version": 3
   },
   "file_extension": ".py",
   "mimetype": "text/x-python",
   "name": "python",
   "nbconvert_exporter": "python",
   "pygments_lexer": "ipython3",
   "version": "3.8.8"
  }
 },
 "nbformat": 4,
 "nbformat_minor": 5
}
