{
  "nbformat": 4,
  "nbformat_minor": 5,
  "metadata": {
    "kernelspec": {
      "display_name": "Python 3",
      "language": "python",
      "name": "python3"
    },
    "language_info": {
      "codemirror_mode": {
        "name": "ipython",
        "version": 3
      },
      "file_extension": ".py",
      "mimetype": "text/x-python",
      "name": "python",
      "nbconvert_exporter": "python",
      "pygments_lexer": "ipython3",
      "version": "3.8.8"
    },
    "colab": {
      "name": "check.ipynb",
      "provenance": [],
      "machine_shape": "hm",
      "include_colab_link": true
    }
  },
  "cells": [
    {
      "cell_type": "markdown",
      "metadata": {
        "id": "view-in-github",
        "colab_type": "text"
      },
      "source": [
        "<a href=\"https://colab.research.google.com/github/fivearm/Phase_4_Project/blob/ninas_branch/check.ipynb\" target=\"_parent\"><img src=\"https://colab.research.google.com/assets/colab-badge.svg\" alt=\"Open In Colab\"/></a>"
      ]
    },
    {
      "cell_type": "code",
      "metadata": {
        "colab": {
          "base_uri": "https://localhost:8080/"
        },
        "id": "daa6d90c",
        "outputId": "d050410f-e6d8-4e26-c910-9edd98c15851"
      },
      "source": [
        "import pandas as pd\n",
        "import numpy as np\n",
        "import seaborn as sns\n",
        "import matplotlib.pyplot as plt\n",
        "import math\n",
        "from statsmodels.tsa.stattools import adfuller, kpss\n",
        "from statsmodels.tsa.seasonal import seasonal_decompose\n",
        "#from statsmodels.tsa.arima.model import ARIMA\n",
        "from keras.models import Sequential\n",
        "from keras.layers import LSTM, Dense, Dropout\n",
        "from sklearn.preprocessing import StandardScaler\n",
        "from sklearn.model_selection import TimeSeriesSplit\n",
        "from google.colab import drive\n",
        "drive.mount(\"/content/gdrive\", force_remount=True)\n",
        "%matplotlib inline"
      ],
      "id": "daa6d90c",
      "execution_count": 45,
      "outputs": [
        {
          "output_type": "stream",
          "text": [
            "Mounted at /content/gdrive\n"
          ],
          "name": "stdout"
        }
      ]
    },
    {
      "cell_type": "code",
      "metadata": {
        "id": "3d4322af"
      },
      "source": [
        "df = pd.read_csv('/content/gdrive/MyDrive/Phase_4_Project/data/zillow_data.csv')\n",
        "lumber = pd.read_csv('/content/gdrive/MyDrive/Phase_4_Project/data/plywood_prices.csv')\n",
        "concrete = pd.read_csv('/content/gdrive/MyDrive/Phase_4_Project/data/concrete_prices.csv')\n",
        "\n",
        "lumber = lumber.rename({'WPU083': 'plywood prices', 'DATE': 'time'}, axis=1).set_index('time')\n",
        "concrete = concrete.rename({'PCU32733273': 'concrete prices', 'DATE' : 'time'}, axis = 1).set_index('time')"
      ],
      "id": "3d4322af",
      "execution_count": 2,
      "outputs": []
    },
    {
      "cell_type": "code",
      "metadata": {
        "id": "95792b22"
      },
      "source": [
        "def get_datetimes(df):\n",
        "    \"\"\"\n",
        "    Takes a dataframe:\n",
        "    returns only those column names that can be converted into datetime objects \n",
        "    as datetime objects.\n",
        "    NOTE number of returned columns may not match total number of columns in passed dataframe\n",
        "    \"\"\"\n",
        "    \n",
        "    return pd.to_datetime(df.columns.values[7:], format='%Y-%m')"
      ],
      "id": "95792b22",
      "execution_count": 3,
      "outputs": []
    },
    {
      "cell_type": "code",
      "metadata": {
        "id": "64d43e30"
      },
      "source": [
        "def melt_data(df, compress = False):\n",
        "    \"\"\"\n",
        "    Takes the zillow_data dataset in wide form or a subset of the zillow_dataset.  \n",
        "    Returns a long-form datetime dataframe \n",
        "    with the datetime column names as the index and the values as the 'values' column.\n",
        "    \n",
        "    If more than one row is passes in the wide-form dataset, the values column\n",
        "    will be the mean of the values from the datetime columns in all of the rows.\n",
        "    \n",
        "    If compress is True will compress data to only the value column.\n",
        "    \"\"\"\n",
        "    if compress == True:\n",
        "        melted = pd.melt(df, id_vars=['RegionName', 'RegionID', 'SizeRank', 'City', 'State', \n",
        "                                      'Metro', 'CountyName'], var_name='time')\n",
        "        melted['time'] = pd.to_datetime(melted['time'], infer_datetime_format=True)\n",
        "        melted = melted.dropna(subset=['value'])\n",
        "        return melted.groupby('time').aggregate({'value':'mean'})\n",
        "    else:\n",
        "        melted = pd.melt(df, id_vars=['RegionName', 'RegionID', 'SizeRank', 'City', 'State', \n",
        "                                      'Metro', 'CountyName'], var_name='time')\n",
        "        melted['time'] = pd.to_datetime(melted['time'], infer_datetime_format=True)\n",
        "        melted = melted.dropna(subset=['value'])\n",
        "        return melted"
      ],
      "id": "64d43e30",
      "execution_count": 4,
      "outputs": []
    },
    {
      "cell_type": "code",
      "metadata": {
        "id": "ac20ebf5"
      },
      "source": [
        "def seasonal_plot(df, window = None, X = None, y = None):\n",
        "    '''\n",
        "    Plotting the seasonal decompose\n",
        "    \n",
        "    Parameters\n",
        "    -----------\n",
        "    df : The dataframe you wish to decompose\n",
        "    window : The rolling window\n",
        "    X : The length of the plot\n",
        "    y : The Height of the plot\n",
        "    \n",
        "    Return \n",
        "    -----------\n",
        "    A seasonal decompose of the dataframe. \n",
        "    '''\n",
        "    result = seasonal_decompose(df.rolling(window).mean().dropna())\n",
        "    plt.rcParams['figure.figsize'] = (X,y)\n",
        "    result.plot();"
      ],
      "id": "ac20ebf5",
      "execution_count": 7,
      "outputs": []
    },
    {
      "cell_type": "code",
      "metadata": {
        "id": "186725b3"
      },
      "source": [
        "def adfuller_test(df, name = None):\n",
        "    '''\n",
        "    Take a dataframe or series and returns the adfuller test for it.\n",
        "    \n",
        "    Parameters\n",
        "    -----------\n",
        "    df : dataframe or series\n",
        "    name = Name of the variable you are testing\n",
        "    '''\n",
        "    df_test = adfuller(df)\n",
        "    print(f'Adfuller test for {name}')\n",
        "    print('-'*20)\n",
        "    print('Test Stastic = {:.3f}'.format(df_test[0]))\n",
        "    print('P-value = {:.3f}'.format(df_test[1]))\n",
        "    print('Critical values :')\n",
        "    for k, v in df_test[4].items():\n",
        "        print(f\"{k}: {v} - The data is {'not' if v < df_test[0] else ''} stationary with {100 - int(k[:-1])}% confidence\")"
      ],
      "id": "186725b3",
      "execution_count": 8,
      "outputs": []
    },
    {
      "cell_type": "code",
      "metadata": {
        "id": "c7977010"
      },
      "source": [
        "def kpss_test(df, name = None):\n",
        "    '''\n",
        "    Will return the kpss test\n",
        "    \n",
        "    Parmeters\n",
        "    ----------\n",
        "    df = dataframe or series\n",
        "    name = Name of the variable you are testing\n",
        "    '''\n",
        "    df_test = kpss(np.log(df), nlags='auto')\n",
        "    print(f'Is {name} data stationary?')\n",
        "    print(f'Test stastic = {df_test[0]: .3f}')\n",
        "    print(f'P-value = {df_test[1]: .3f}')\n",
        "    print('Critical Values: ')\n",
        "    for k, v in df_test[3].items():\n",
        "        print(f'{k}: {v}')"
      ],
      "id": "c7977010",
      "execution_count": 9,
      "outputs": []
    },
    {
      "cell_type": "markdown",
      "metadata": {
        "id": "5fcbbccd"
      },
      "source": [
        "#### HOLD"
      ],
      "id": "5fcbbccd"
    },
    {
      "cell_type": "code",
      "metadata": {
        "id": "81a1c7a7"
      },
      "source": [
        "\n",
        "melt_df= melt_data(df, compress=False).set_index('time')\n",
        "melt_df = melt_df[melt_df.index >= '2003-12-01']"
      ],
      "id": "81a1c7a7",
      "execution_count": 10,
      "outputs": []
    },
    {
      "cell_type": "code",
      "metadata": {
        "scrolled": false,
        "colab": {
          "base_uri": "https://localhost:8080/",
          "height": 374
        },
        "id": "853787cf",
        "outputId": "86bfd1cc-bb5a-4186-aec1-ab623eac6bf6"
      },
      "source": [
        "con_lum = pd.concat([concrete, lumber], axis=1)\n",
        "con_lum.index = pd.to_datetime(con_lum.index)\n",
        "final_df = pd.concat([melt_df, con_lum], axis=1)\n",
        "final_df.head()"
      ],
      "id": "853787cf",
      "execution_count": 11,
      "outputs": [
        {
          "output_type": "execute_result",
          "data": {
            "text/html": [
              "<div>\n",
              "<style scoped>\n",
              "    .dataframe tbody tr th:only-of-type {\n",
              "        vertical-align: middle;\n",
              "    }\n",
              "\n",
              "    .dataframe tbody tr th {\n",
              "        vertical-align: top;\n",
              "    }\n",
              "\n",
              "    .dataframe thead th {\n",
              "        text-align: right;\n",
              "    }\n",
              "</style>\n",
              "<table border=\"1\" class=\"dataframe\">\n",
              "  <thead>\n",
              "    <tr style=\"text-align: right;\">\n",
              "      <th></th>\n",
              "      <th>RegionName</th>\n",
              "      <th>RegionID</th>\n",
              "      <th>SizeRank</th>\n",
              "      <th>City</th>\n",
              "      <th>State</th>\n",
              "      <th>Metro</th>\n",
              "      <th>CountyName</th>\n",
              "      <th>value</th>\n",
              "      <th>concrete prices</th>\n",
              "      <th>plywood prices</th>\n",
              "    </tr>\n",
              "    <tr>\n",
              "      <th>time</th>\n",
              "      <th></th>\n",
              "      <th></th>\n",
              "      <th></th>\n",
              "      <th></th>\n",
              "      <th></th>\n",
              "      <th></th>\n",
              "      <th></th>\n",
              "      <th></th>\n",
              "      <th></th>\n",
              "      <th></th>\n",
              "    </tr>\n",
              "  </thead>\n",
              "  <tbody>\n",
              "    <tr>\n",
              "      <th>2003-12-01</th>\n",
              "      <td>60657</td>\n",
              "      <td>84654</td>\n",
              "      <td>1</td>\n",
              "      <td>Chicago</td>\n",
              "      <td>IL</td>\n",
              "      <td>Chicago</td>\n",
              "      <td>Cook</td>\n",
              "      <td>752300.0</td>\n",
              "      <td>100.0</td>\n",
              "      <td>192.1</td>\n",
              "    </tr>\n",
              "    <tr>\n",
              "      <th>2003-12-01</th>\n",
              "      <td>75070</td>\n",
              "      <td>90668</td>\n",
              "      <td>2</td>\n",
              "      <td>McKinney</td>\n",
              "      <td>TX</td>\n",
              "      <td>Dallas-Fort Worth</td>\n",
              "      <td>Collin</td>\n",
              "      <td>187100.0</td>\n",
              "      <td>100.0</td>\n",
              "      <td>192.1</td>\n",
              "    </tr>\n",
              "    <tr>\n",
              "      <th>2003-12-01</th>\n",
              "      <td>77494</td>\n",
              "      <td>91982</td>\n",
              "      <td>3</td>\n",
              "      <td>Katy</td>\n",
              "      <td>TX</td>\n",
              "      <td>Houston</td>\n",
              "      <td>Harris</td>\n",
              "      <td>229600.0</td>\n",
              "      <td>100.0</td>\n",
              "      <td>192.1</td>\n",
              "    </tr>\n",
              "    <tr>\n",
              "      <th>2003-12-01</th>\n",
              "      <td>60614</td>\n",
              "      <td>84616</td>\n",
              "      <td>4</td>\n",
              "      <td>Chicago</td>\n",
              "      <td>IL</td>\n",
              "      <td>Chicago</td>\n",
              "      <td>Cook</td>\n",
              "      <td>1012600.0</td>\n",
              "      <td>100.0</td>\n",
              "      <td>192.1</td>\n",
              "    </tr>\n",
              "    <tr>\n",
              "      <th>2003-12-01</th>\n",
              "      <td>79936</td>\n",
              "      <td>93144</td>\n",
              "      <td>5</td>\n",
              "      <td>El Paso</td>\n",
              "      <td>TX</td>\n",
              "      <td>El Paso</td>\n",
              "      <td>El Paso</td>\n",
              "      <td>83400.0</td>\n",
              "      <td>100.0</td>\n",
              "      <td>192.1</td>\n",
              "    </tr>\n",
              "  </tbody>\n",
              "</table>\n",
              "</div>"
            ],
            "text/plain": [
              "            RegionName  RegionID  ...  concrete prices plywood prices\n",
              "time                              ...                                \n",
              "2003-12-01       60657     84654  ...            100.0          192.1\n",
              "2003-12-01       75070     90668  ...            100.0          192.1\n",
              "2003-12-01       77494     91982  ...            100.0          192.1\n",
              "2003-12-01       60614     84616  ...            100.0          192.1\n",
              "2003-12-01       79936     93144  ...            100.0          192.1\n",
              "\n",
              "[5 rows x 10 columns]"
            ]
          },
          "metadata": {},
          "execution_count": 11
        }
      ]
    },
    {
      "cell_type": "markdown",
      "metadata": {
        "id": "79b6b687"
      },
      "source": [
        "## Stationarize and Outlier Handling\n"
      ],
      "id": "79b6b687"
    },
    {
      "cell_type": "code",
      "metadata": {
        "id": "jhPMSqtxfoiW"
      },
      "source": [
        "def is_stationary(df):\n",
        "  df_test = adfuller(df)\n",
        "  critical_95 = df_test[4]['5%']\n",
        "  return critical_95 > df_test[0] \n",
        "\n",
        "def make_stationary(df):\n",
        "  log_transf = np.log2(df)\n",
        "  \n",
        "  diff = log_transf.diff().dropna()\n",
        "  while is_stationary(diff) == False:\n",
        "    diff = diff.diff().dropna()\n",
        "  return diff"
      ],
      "id": "jhPMSqtxfoiW",
      "execution_count": 35,
      "outputs": []
    },
    {
      "cell_type": "code",
      "metadata": {
        "colab": {
          "base_uri": "https://localhost:8080/",
          "height": 279
        },
        "id": "3b391339",
        "outputId": "74dafd60-a81f-4637-df83-708c93531155"
      },
      "source": [
        "def replace_with_median(col, lower_threshold, median):\n",
        "    col[col > -lower_threshold] =  median\n",
        "    col[col < lower_threshold] = median\n",
        "    return col\n",
        "\n",
        "def get_replacement_vals(col):\n",
        "      std = col.std(ddof=0)\n",
        "      mean = col.mean()\n",
        "      median = col.median()\n",
        "      lower_thresh = (-3 * std)+ mean\n",
        "      return median, lower_thresh\n",
        "\n",
        "def replace_outliers(train, test=pd.DataFrame()):\n",
        "  train_copy = train.copy()\n",
        "  median, lower_thresh = get_replacement_vals(train_copy)\n",
        "  stand_train = replace_with_median(train_copy, lower_thresh, median)\n",
        "\n",
        "  if not test.empty:\n",
        "    test_copy = test.copy()\n",
        "    stand_test = replace_with_median(test_copy, lower_thresh, median)\n",
        "    return stand_train, stand_test\n",
        "  \n",
        "  return stand_train\n",
        "\n",
        "by_month = final_df['value'].resample('M').mean()\n",
        "fig, ax = plt.subplots()\n",
        "stationary_price = make_stationary(by_month)\n",
        "stationary_price.plot(ax=ax)\n",
        "\n",
        "stationary_price_no_outliers = replace_outliers(stationary_price)\n",
        "stationary_price_no_outliers.plot(ax=ax);\n"
      ],
      "id": "3b391339",
      "execution_count": 55,
      "outputs": [
        {
          "output_type": "display_data",
          "data": {
            "image/png": "[encoded data removed]",
            "text/plain": [
              "<Figure size 432x288 with 1 Axes>"
            ]
          },
          "metadata": {
            "needs_background": "light"
          }
        }
      ]
    },
    {
      "cell_type": "code",
      "metadata": {
        "colab": {
          "base_uri": "https://localhost:8080/",
          "height": 279
        },
        "id": "GIdjKn7W5z10",
        "outputId": "4b60e36e-3a59-4cc5-d5be-f5414f21909a"
      },
      "source": [
        "def replace_with_median(col, lower_threshold, median):\n",
        "    col[col > -lower_threshold] =  -lower_threshold\n",
        "    col[col < lower_threshold] = lower_threshold\n",
        "    return col\n",
        "\n",
        "def get_replacement_vals(col):\n",
        "      std = col.std(ddof=0)\n",
        "      mean = col.mean()\n",
        "      median = col.median()\n",
        "      lower_thresh = (-3 * std)+ mean\n",
        "      return median, lower_thresh\n",
        "\n",
        "def replace_outliers(train, test=pd.DataFrame()):\n",
        "  train_copy = train.copy()\n",
        "  median, lower_thresh = get_replacement_vals(train_copy)\n",
        "  stand_train = replace_with_median(train_copy, lower_thresh, median)\n",
        "\n",
        "  if not test.empty:\n",
        "    test_copy = test.copy()\n",
        "    stand_test = replace_with_median(test_copy, lower_thresh, median)\n",
        "    return stand_train, stand_test\n",
        "  \n",
        "  return stand_train\n",
        "\n",
        "by_month = final_df['value'].resample('M').mean()\n",
        "fig, ax = plt.subplots()\n",
        "stationary_price = make_stationary(by_month)\n",
        "stationary_price.plot(ax=ax)\n",
        "\n",
        "stationary_price_no_outliers = replace_outliers(stationary_price)\n",
        "stationary_price_no_outliers.plot(ax=ax);\n"
      ],
      "id": "GIdjKn7W5z10",
      "execution_count": 56,
      "outputs": [
        {
          "output_type": "display_data",
          "data": {
            "image/png": "[encoded data removed]",
            "text/plain": [
              "<Figure size 432x288 with 1 Axes>"
            ]
          },
          "metadata": {
            "needs_background": "light"
          }
        }
      ]
    },
    {
      "cell_type": "markdown",
      "metadata": {
        "id": "350adfa2"
      },
      "source": [
        "## Cross Validation"
      ],
      "id": "350adfa2"
    },
    {
      "cell_type": "code",
      "metadata": {
        "id": "375fb02b"
      },
      "source": [
        "def rmse(y_true, y_pred):\n",
        "    sum_squared_diff = sum([(y2 - y1)**2 for y2,y1 in zip(y_true, y_pred)])\n",
        "    rmse = (sum_squared_diff * (1/len(y_true))) ** 0.5\n",
        "    return rmse\n",
        "\n",
        "def cross_validate(model, df, split_freq='M', model_kwargs={}):\n",
        "    '''\n",
        "    Resamples dataframe using aggregate mean\n",
        "    Preforms cross validation of the input model. \n",
        "    ---------------------------------------------------------------------\n",
        "    model: uninitalized model- no parantheses \n",
        "    split_freq: the frequency to index the data by\n",
        "    model_kwargs: keyword arguments to pass into the model before fitting\n",
        "    ---------------------------------------------------------------------\n",
        "    Returns: An array of RMSE\n",
        "    '''\n",
        "    \n",
        "    df = df.resample(split_freq).mean()\n",
        "    all_rmse = []\n",
        "    # Create and loop through 4 different train and validation sets\n",
        "    split = TimeSeriesSplit(n_splits=4)\n",
        "    for train_ind, val_ind in split.split(df):\n",
        "        # Initialize, fit, and generate predictions the model on subset of df\n",
        "        model_fit = model(df.iloc[train_ind], **model_kwargs).fit()\n",
        "        preds = model_fit.predict(typ='levels', start=val_ind[0], end=val_ind[-1])\n",
        "        \n",
        "        # Grab Y actual from df\n",
        "        true = df.iloc[val_ind]\n",
        "        \n",
        "        # Calculate and store RMSE\n",
        "        all_rmse.append(rmse(true, preds))\n",
        "    return all_rmse \n",
        "\n",
        "cross_validate(ARIMA, Miami_df['value'], 'M', model_kwargs={'order':(1,2,0)})"
      ],
      "id": "375fb02b",
      "execution_count": null,
      "outputs": []
    },
    {
      "cell_type": "markdown",
      "metadata": {
        "id": "beb16c74"
      },
      "source": [
        "## Arima "
      ],
      "id": "beb16c74"
    },
    {
      "cell_type": "code",
      "metadata": {
        "id": "87a86f47"
      },
      "source": [
        "def arima(series, order):\n",
        "    '''\n",
        "    order = (p,d,q)\n",
        "    p: The number of lag observations included in the model, also called the lag order.\n",
        "    d: The number of times that the raw observations are differenced, also called the degree of differencing.\n",
        "    q: The size of the moving average window, also called the order of moving average\n",
        "    '''\n",
        "    model = ARIMA(series.values, order=order).fit()\n",
        "    print(model.summary())\n",
        "    \n",
        "    residuals = model.resid\n",
        "    fig, ax = plt.subplots()\n",
        "    ax.plot(series.index, residuals)"
      ],
      "id": "87a86f47",
      "execution_count": null,
      "outputs": []
    }
  ]
}