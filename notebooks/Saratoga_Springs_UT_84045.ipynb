{
 "cells": [
  {
   "cell_type": "code",
   "execution_count": 1,
   "metadata": {},
   "outputs": [],
   "source": [
    "from Phase_4_functions import roll_mean_std\n",
    "from Phase_4_functions import decompose\n",
    "from Phase_4_functions import DickeyFullerTest\n",
    "from Phase_4_functions import naive_model\n",
    "from Phase_4_functions import sarimax_search\n",
    "from Phase_4_functions import fbprophet_func\n",
    "from Phase_4_functions import LSTM_func\n",
    "from Phase_4_functions import LSTM_val\n",
    "\n",
    "import itertools\n",
    "import numpy as np\n",
    "import pandas as pd\n",
    "import matplotlib.pyplot as plt \n",
    "from statsmodels.tsa.stattools import adfuller\n",
    "from statsmodels.graphics.tsaplots import plot_pacf, plot_acf\n",
    "from statsmodels.tsa.arima.model import ARIMA\n",
    "from statsmodels.tsa.statespace.sarimax import SARIMAX\n",
    "from sklearn.metrics import mean_squared_error\n",
    "from fbprophet import Prophet as proph\n",
    "import pmdarima as pm\n",
    "\n",
    "import warnings\n",
    "warnings.filterwarnings('ignore')\n",
    "plt.style.use('fivethirtyeight')"
   ]
  },
  {
   "cell_type": "code",
   "execution_count": 2,
   "metadata": {},
   "outputs": [],
   "source": [
    "df = pd.read_csv('../data/new_zillow_data.csv')"
   ]
  },
  {
   "cell_type": "code",
   "execution_count": 3,
   "metadata": {},
   "outputs": [],
   "source": [
    "def melt_data(df):\n",
    "    \"\"\"\n",
    "    Takes the zillow_data dataset in wide form or a subset of the zillow_dataset.  \n",
    "    Returns a long-form datetime dataframe \n",
    "    with the datetime column names as the index and the values as the 'values' column.\n",
    "    \n",
    "    If more than one row is passes in the wide-form dataset, the values column\n",
    "    will be the mean of the values from the datetime columns in all of the rows.\n",
    "    \"\"\"\n",
    "    \n",
    "    melted = pd.melt(df, id_vars=['RegionName', 'RegionID', 'SizeRank', 'City', 'State', \n",
    "                                  'Metro', 'CountyName', 'RegionType', 'StateName'], var_name='time')\n",
    "    melted['time'] = pd.to_datetime(melted['time'], infer_datetime_format=True)\n",
    "    melted = melted.dropna(subset=['value'])\n",
    "    return melted"
   ]
  },
  {
   "cell_type": "code",
   "execution_count": 4,
   "metadata": {},
   "outputs": [],
   "source": [
    "melted = melt_data(df)\n",
    "melted['time'] = pd.to_datetime(melted['time'])\n",
    "melted.set_index('time', inplace=True)"
   ]
  },
  {
   "cell_type": "markdown",
   "metadata": {},
   "source": [
    "## Zip Code 84045 (Saratoga Springs, UT)"
   ]
  },
  {
   "cell_type": "markdown",
   "metadata": {},
   "source": [
    "### Plot the Rolling Mean and Rolling Std."
   ]
  },
  {
   "cell_type": "code",
   "execution_count": 5,
   "metadata": {},
   "outputs": [],
   "source": [
    "Saratoga = melted[melted.RegionName == 84045]"
   ]
  },
  {
   "cell_type": "code",
   "execution_count": 6,
   "metadata": {},
   "outputs": [
    {
     "data": {
      "text/html": [
       "<div>\n",
       "<style scoped>\n",
       "    .dataframe tbody tr th:only-of-type {\n",
       "        vertical-align: middle;\n",
       "    }\n",
       "\n",
       "    .dataframe tbody tr th {\n",
       "        vertical-align: top;\n",
       "    }\n",
       "\n",
       "    .dataframe thead th {\n",
       "        text-align: right;\n",
       "    }\n",
       "</style>\n",
       "<table border=\"1\" class=\"dataframe\">\n",
       "  <thead>\n",
       "    <tr style=\"text-align: right;\">\n",
       "      <th></th>\n",
       "      <th>RegionName</th>\n",
       "      <th>RegionID</th>\n",
       "      <th>SizeRank</th>\n",
       "      <th>City</th>\n",
       "      <th>State</th>\n",
       "      <th>Metro</th>\n",
       "      <th>CountyName</th>\n",
       "      <th>RegionType</th>\n",
       "      <th>StateName</th>\n",
       "      <th>value</th>\n",
       "    </tr>\n",
       "    <tr>\n",
       "      <th>time</th>\n",
       "      <th></th>\n",
       "      <th></th>\n",
       "      <th></th>\n",
       "      <th></th>\n",
       "      <th></th>\n",
       "      <th></th>\n",
       "      <th></th>\n",
       "      <th></th>\n",
       "      <th></th>\n",
       "      <th></th>\n",
       "    </tr>\n",
       "  </thead>\n",
       "  <tbody>\n",
       "    <tr>\n",
       "      <th>1996-05-31</th>\n",
       "      <td>84045</td>\n",
       "      <td>399650</td>\n",
       "      <td>5961</td>\n",
       "      <td>Saratoga Springs</td>\n",
       "      <td>UT</td>\n",
       "      <td>Provo-Orem</td>\n",
       "      <td>Utah County</td>\n",
       "      <td>Zip</td>\n",
       "      <td>UT</td>\n",
       "      <td>200850.0</td>\n",
       "    </tr>\n",
       "    <tr>\n",
       "      <th>1996-06-30</th>\n",
       "      <td>84045</td>\n",
       "      <td>399650</td>\n",
       "      <td>5961</td>\n",
       "      <td>Saratoga Springs</td>\n",
       "      <td>UT</td>\n",
       "      <td>Provo-Orem</td>\n",
       "      <td>Utah County</td>\n",
       "      <td>Zip</td>\n",
       "      <td>UT</td>\n",
       "      <td>200187.0</td>\n",
       "    </tr>\n",
       "    <tr>\n",
       "      <th>1996-07-31</th>\n",
       "      <td>84045</td>\n",
       "      <td>399650</td>\n",
       "      <td>5961</td>\n",
       "      <td>Saratoga Springs</td>\n",
       "      <td>UT</td>\n",
       "      <td>Provo-Orem</td>\n",
       "      <td>Utah County</td>\n",
       "      <td>Zip</td>\n",
       "      <td>UT</td>\n",
       "      <td>200241.0</td>\n",
       "    </tr>\n",
       "    <tr>\n",
       "      <th>1996-08-31</th>\n",
       "      <td>84045</td>\n",
       "      <td>399650</td>\n",
       "      <td>5961</td>\n",
       "      <td>Saratoga Springs</td>\n",
       "      <td>UT</td>\n",
       "      <td>Provo-Orem</td>\n",
       "      <td>Utah County</td>\n",
       "      <td>Zip</td>\n",
       "      <td>UT</td>\n",
       "      <td>198823.0</td>\n",
       "    </tr>\n",
       "    <tr>\n",
       "      <th>1996-09-30</th>\n",
       "      <td>84045</td>\n",
       "      <td>399650</td>\n",
       "      <td>5961</td>\n",
       "      <td>Saratoga Springs</td>\n",
       "      <td>UT</td>\n",
       "      <td>Provo-Orem</td>\n",
       "      <td>Utah County</td>\n",
       "      <td>Zip</td>\n",
       "      <td>UT</td>\n",
       "      <td>198150.0</td>\n",
       "    </tr>\n",
       "    <tr>\n",
       "      <th>...</th>\n",
       "      <td>...</td>\n",
       "      <td>...</td>\n",
       "      <td>...</td>\n",
       "      <td>...</td>\n",
       "      <td>...</td>\n",
       "      <td>...</td>\n",
       "      <td>...</td>\n",
       "      <td>...</td>\n",
       "      <td>...</td>\n",
       "      <td>...</td>\n",
       "    </tr>\n",
       "    <tr>\n",
       "      <th>2021-03-31</th>\n",
       "      <td>84045</td>\n",
       "      <td>399650</td>\n",
       "      <td>5961</td>\n",
       "      <td>Saratoga Springs</td>\n",
       "      <td>UT</td>\n",
       "      <td>Provo-Orem</td>\n",
       "      <td>Utah County</td>\n",
       "      <td>Zip</td>\n",
       "      <td>UT</td>\n",
       "      <td>484424.0</td>\n",
       "    </tr>\n",
       "    <tr>\n",
       "      <th>2021-04-30</th>\n",
       "      <td>84045</td>\n",
       "      <td>399650</td>\n",
       "      <td>5961</td>\n",
       "      <td>Saratoga Springs</td>\n",
       "      <td>UT</td>\n",
       "      <td>Provo-Orem</td>\n",
       "      <td>Utah County</td>\n",
       "      <td>Zip</td>\n",
       "      <td>UT</td>\n",
       "      <td>498070.0</td>\n",
       "    </tr>\n",
       "    <tr>\n",
       "      <th>2021-05-31</th>\n",
       "      <td>84045</td>\n",
       "      <td>399650</td>\n",
       "      <td>5961</td>\n",
       "      <td>Saratoga Springs</td>\n",
       "      <td>UT</td>\n",
       "      <td>Provo-Orem</td>\n",
       "      <td>Utah County</td>\n",
       "      <td>Zip</td>\n",
       "      <td>UT</td>\n",
       "      <td>514395.0</td>\n",
       "    </tr>\n",
       "    <tr>\n",
       "      <th>2021-06-30</th>\n",
       "      <td>84045</td>\n",
       "      <td>399650</td>\n",
       "      <td>5961</td>\n",
       "      <td>Saratoga Springs</td>\n",
       "      <td>UT</td>\n",
       "      <td>Provo-Orem</td>\n",
       "      <td>Utah County</td>\n",
       "      <td>Zip</td>\n",
       "      <td>UT</td>\n",
       "      <td>532593.0</td>\n",
       "    </tr>\n",
       "    <tr>\n",
       "      <th>2021-07-31</th>\n",
       "      <td>84045</td>\n",
       "      <td>399650</td>\n",
       "      <td>5961</td>\n",
       "      <td>Saratoga Springs</td>\n",
       "      <td>UT</td>\n",
       "      <td>Provo-Orem</td>\n",
       "      <td>Utah County</td>\n",
       "      <td>Zip</td>\n",
       "      <td>UT</td>\n",
       "      <td>551641.0</td>\n",
       "    </tr>\n",
       "  </tbody>\n",
       "</table>\n",
       "<p>303 rows × 10 columns</p>\n",
       "</div>"
      ],
      "text/plain": [
       "            RegionName  RegionID  SizeRank              City State  \\\n",
       "time                                                                 \n",
       "1996-05-31       84045    399650      5961  Saratoga Springs    UT   \n",
       "1996-06-30       84045    399650      5961  Saratoga Springs    UT   \n",
       "1996-07-31       84045    399650      5961  Saratoga Springs    UT   \n",
       "1996-08-31       84045    399650      5961  Saratoga Springs    UT   \n",
       "1996-09-30       84045    399650      5961  Saratoga Springs    UT   \n",
       "...                ...       ...       ...               ...   ...   \n",
       "2021-03-31       84045    399650      5961  Saratoga Springs    UT   \n",
       "2021-04-30       84045    399650      5961  Saratoga Springs    UT   \n",
       "2021-05-31       84045    399650      5961  Saratoga Springs    UT   \n",
       "2021-06-30       84045    399650      5961  Saratoga Springs    UT   \n",
       "2021-07-31       84045    399650      5961  Saratoga Springs    UT   \n",
       "\n",
       "                 Metro   CountyName RegionType StateName     value  \n",
       "time                                                                \n",
       "1996-05-31  Provo-Orem  Utah County        Zip        UT  200850.0  \n",
       "1996-06-30  Provo-Orem  Utah County        Zip        UT  200187.0  \n",
       "1996-07-31  Provo-Orem  Utah County        Zip        UT  200241.0  \n",
       "1996-08-31  Provo-Orem  Utah County        Zip        UT  198823.0  \n",
       "1996-09-30  Provo-Orem  Utah County        Zip        UT  198150.0  \n",
       "...                ...          ...        ...       ...       ...  \n",
       "2021-03-31  Provo-Orem  Utah County        Zip        UT  484424.0  \n",
       "2021-04-30  Provo-Orem  Utah County        Zip        UT  498070.0  \n",
       "2021-05-31  Provo-Orem  Utah County        Zip        UT  514395.0  \n",
       "2021-06-30  Provo-Orem  Utah County        Zip        UT  532593.0  \n",
       "2021-07-31  Provo-Orem  Utah County        Zip        UT  551641.0  \n",
       "\n",
       "[303 rows x 10 columns]"
      ]
     },
     "execution_count": 6,
     "metadata": {},
     "output_type": "execute_result"
    }
   ],
   "source": [
    "Saratoga"
   ]
  },
  {
   "cell_type": "code",
   "execution_count": 7,
   "metadata": {},
   "outputs": [],
   "source": [
    "Saratoga = Saratoga.resample('MS').mean()\n",
    "Saratoga = Saratoga.drop(['RegionName', 'RegionID', 'SizeRank'], axis=1)"
   ]
  },
  {
   "cell_type": "code",
   "execution_count": 8,
   "metadata": {},
   "outputs": [],
   "source": [
    "roll_mean_std(Saratoga)"
   ]
  },
  {
   "cell_type": "markdown",
   "metadata": {},
   "source": [
    "This plot shows us that there is a positive trend in the data. There is no clear seasonality from this graph, will use a seasonal decompose next to see more information about the data."
   ]
  },
  {
   "cell_type": "markdown",
   "metadata": {},
   "source": [
    "### Seasonal Decompose"
   ]
  },
  {
   "cell_type": "code",
   "execution_count": 9,
   "metadata": {},
   "outputs": [],
   "source": [
    "decompose(Saratoga)"
   ]
  },
  {
   "cell_type": "markdown",
   "metadata": {},
   "source": [
    "This seasonal decompose shows us more clearly that there is a clear positive linear trend in the data. There is also a seasonal aspect to the data. It would seem that more houses are sold in the summer months and less so in the winter months."
   ]
  },
  {
   "cell_type": "markdown",
   "metadata": {},
   "source": [
    "### Differencing and DickeyFuller Test"
   ]
  },
  {
   "cell_type": "code",
   "execution_count": 10,
   "metadata": {},
   "outputs": [
    {
     "data": {
      "text/plain": [
       "Test Statistic                   2.329205\n",
       "p-value                          0.998973\n",
       "# Lags Used                     16.000000\n",
       "Number of Observations Used    286.000000\n",
       "Critical Value (1%)             -3.453423\n",
       "Critical Value (5%)             -2.871699\n",
       "Critical Value (10%)            -2.572183\n",
       "dtype: float64"
      ]
     },
     "execution_count": 10,
     "metadata": {},
     "output_type": "execute_result"
    }
   ],
   "source": [
    "DickeyFullerTest(Saratoga)"
   ]
  },
  {
   "cell_type": "code",
   "execution_count": 11,
   "metadata": {},
   "outputs": [
    {
     "data": {
      "text/plain": [
       "Test Statistic                  -0.721139\n",
       "p-value                          0.841198\n",
       "# Lags Used                     16.000000\n",
       "Number of Observations Used    285.000000\n",
       "Critical Value (1%)             -3.453505\n",
       "Critical Value (5%)             -2.871735\n",
       "Critical Value (10%)            -2.572202\n",
       "dtype: float64"
      ]
     },
     "execution_count": 11,
     "metadata": {},
     "output_type": "execute_result"
    }
   ],
   "source": [
    "Saratoga_diff = Saratoga.diff().dropna()\n",
    "Saratoga_diff.plot()\n",
    "DickeyFullerTest(Saratoga_diff)"
   ]
  },
  {
   "cell_type": "code",
   "execution_count": 12,
   "metadata": {},
   "outputs": [
    {
     "data": {
      "text/plain": [
       "Test Statistic                  -2.565152\n",
       "p-value                          0.100416\n",
       "# Lags Used                     15.000000\n",
       "Number of Observations Used    285.000000\n",
       "Critical Value (1%)             -3.453505\n",
       "Critical Value (5%)             -2.871735\n",
       "Critical Value (10%)            -2.572202\n",
       "dtype: float64"
      ]
     },
     "execution_count": 12,
     "metadata": {},
     "output_type": "execute_result"
    }
   ],
   "source": [
    "Saratoga_diff2 = Saratoga_diff.diff().dropna()\n",
    "Saratoga_diff2.plot()\n",
    "DickeyFullerTest(Saratoga_diff2)"
   ]
  },
  {
   "cell_type": "code",
   "execution_count": 13,
   "metadata": {},
   "outputs": [
    {
     "data": {
      "text/plain": [
       "Test Statistic                  -5.324884\n",
       "p-value                          0.000005\n",
       "# Lags Used                     16.000000\n",
       "Number of Observations Used    283.000000\n",
       "Critical Value (1%)             -3.453670\n",
       "Critical Value (5%)             -2.871808\n",
       "Critical Value (10%)            -2.572241\n",
       "dtype: float64"
      ]
     },
     "execution_count": 13,
     "metadata": {},
     "output_type": "execute_result"
    }
   ],
   "source": [
    "Saratoga_diff3 = Saratoga_diff2.diff().dropna()\n",
    "Saratoga_diff3.plot()\n",
    "DickeyFullerTest(Saratoga_diff3)"
   ]
  },
  {
   "cell_type": "markdown",
   "metadata": {},
   "source": [
    "Third order differencing produced a pvalue <.05, meaning that we can reject the null hypothesis and assume stationarity."
   ]
  },
  {
   "cell_type": "markdown",
   "metadata": {},
   "source": [
    "### ACF and PACF"
   ]
  },
  {
   "cell_type": "code",
   "execution_count": 14,
   "metadata": {},
   "outputs": [],
   "source": [
    "plot_pacf(Saratoga_diff3);"
   ]
  },
  {
   "cell_type": "code",
   "execution_count": 15,
   "metadata": {},
   "outputs": [],
   "source": [
    "plot_acf(Saratoga_diff3);"
   ]
  },
  {
   "cell_type": "markdown",
   "metadata": {},
   "source": [
    "### Train Test Split"
   ]
  },
  {
   "cell_type": "code",
   "execution_count": 16,
   "metadata": {},
   "outputs": [],
   "source": [
    "cutoff = round(Saratoga.shape[0]*.8)\n",
    "train = Saratoga[:cutoff]\n",
    "test = Saratoga[cutoff:]"
   ]
  },
  {
   "cell_type": "markdown",
   "metadata": {},
   "source": [
    "### Naive Model"
   ]
  },
  {
   "cell_type": "code",
   "execution_count": 17,
   "metadata": {},
   "outputs": [
    {
     "name": "stdout",
     "output_type": "stream",
     "text": [
      "The Naive Model RMSE for the train data is: 2301.1\n",
      "The Naive Model RMSE for the test data is: 5587.37\n"
     ]
    }
   ],
   "source": [
    "naive_model(train, test)"
   ]
  },
  {
   "cell_type": "markdown",
   "metadata": {},
   "source": [
    "The RMSE for the Naive model (shifted one time step) is 2301.  Let's move on to the ARIMA models."
   ]
  },
  {
   "cell_type": "markdown",
   "metadata": {},
   "source": [
    "## Arima Model"
   ]
  },
  {
   "cell_type": "markdown",
   "metadata": {},
   "source": [
    "### Random Walk Model"
   ]
  },
  {
   "cell_type": "code",
   "execution_count": 18,
   "metadata": {},
   "outputs": [
    {
     "data": {
      "text/plain": [
       "2301.1028449212267"
      ]
     },
     "execution_count": 18,
     "metadata": {},
     "output_type": "execute_result"
    }
   ],
   "source": [
    "random_walk_model = ARIMA(train, order=(0,1,0)).fit()\n",
    "y_hat = random_walk_model.predict(type='levels')\n",
    "RMSE = np.sqrt(mean_squared_error(train[1:], y_hat[1:]))\n",
    "RMSE"
   ]
  },
  {
   "cell_type": "markdown",
   "metadata": {},
   "source": [
    "The Random Walk model has the same RMSE as the Naive model.  Let's try Auto ARIMA to select a SARIMAX model."
   ]
  },
  {
   "cell_type": "markdown",
   "metadata": {},
   "source": [
    "### Auto ARIMA"
   ]
  },
  {
   "cell_type": "code",
   "execution_count": 19,
   "metadata": {},
   "outputs": [
    {
     "name": "stdout",
     "output_type": "stream",
     "text": [
      "Performing stepwise search to minimize aic\n",
      " ARIMA(0,1,0)(0,0,0)[12] intercept   : AIC=4406.837, Time=0.04 sec\n",
      " ARIMA(1,1,0)(1,0,0)[12] intercept   : AIC=4408.441, Time=0.85 sec\n",
      " ARIMA(0,1,1)(0,0,1)[12] intercept   : AIC=4405.678, Time=0.47 sec\n",
      " ARIMA(0,1,0)(0,0,0)[12]             : AIC=4417.162, Time=0.02 sec\n",
      " ARIMA(0,1,1)(0,0,0)[12] intercept   : AIC=4404.417, Time=0.17 sec\n",
      " ARIMA(0,1,1)(1,0,0)[12] intercept   : AIC=4405.703, Time=0.56 sec\n",
      " ARIMA(0,1,1)(1,0,1)[12] intercept   : AIC=4407.578, Time=1.27 sec\n",
      " ARIMA(1,1,1)(0,0,0)[12] intercept   : AIC=4392.975, Time=0.99 sec\n",
      " ARIMA(1,1,1)(1,0,0)[12] intercept   : AIC=4403.077, Time=1.70 sec\n",
      " ARIMA(1,1,1)(0,0,1)[12] intercept   : AIC=4402.544, Time=1.83 sec\n",
      " ARIMA(1,1,1)(1,0,1)[12] intercept   : AIC=inf, Time=1.88 sec\n",
      " ARIMA(1,1,0)(0,0,0)[12] intercept   : AIC=4407.245, Time=0.35 sec\n",
      " ARIMA(2,1,1)(0,0,0)[12] intercept   : AIC=4404.342, Time=0.97 sec\n",
      " ARIMA(1,1,2)(0,0,0)[12] intercept   : AIC=inf, Time=0.96 sec\n",
      " ARIMA(0,1,2)(0,0,0)[12] intercept   : AIC=4410.514, Time=0.11 sec\n",
      " ARIMA(2,1,0)(0,0,0)[12] intercept   : AIC=4402.930, Time=0.46 sec\n",
      " ARIMA(2,1,2)(0,0,0)[12] intercept   : AIC=inf, Time=1.10 sec\n",
      " ARIMA(1,1,1)(0,0,0)[12]             : AIC=inf, Time=0.52 sec\n",
      "\n",
      "Best model:  ARIMA(1,1,1)(0,0,0)[12] intercept\n",
      "Total fit time: 14.297 seconds\n"
     ]
    }
   ],
   "source": [
    "auto_Saratoga = pm.auto_arima(train, \n",
    "                                  start_p=0,\n",
    "                                  start_q=0,\n",
    "                                  max_p=10,\n",
    "                                  max_q=10,\n",
    "                                  d=None,\n",
    "                                  seasonal=True,\n",
    "                                  start_P=0,\n",
    "                                  start_Q=0,\n",
    "                                  max_P=10,\n",
    "                                  max_Q=10,\n",
    "                                  m=12,\n",
    "                                  D=None,\n",
    "                                  test='kpss',\n",
    "                                  trace=True,\n",
    "                                  stepwise=True,\n",
    "                                  n_fits=1000)"
   ]
  },
  {
   "cell_type": "code",
   "execution_count": 20,
   "metadata": {},
   "outputs": [
    {
     "data": {
      "text/plain": [
       "6077.7917257868485"
      ]
     },
     "execution_count": 20,
     "metadata": {},
     "output_type": "execute_result"
    }
   ],
   "source": [
    "sarimax_model = SARIMAX(train, order=(1,1,1), seasonal_order=(0,0,0,12),\n",
    "                       enforce_stationarity=False, enforce_invertability=False).fit()\n",
    "yhat_train = sarimax_model.predict(type='levels')\n",
    "RMSE = np.sqrt(mean_squared_error(train[1:], yhat_train[1:]))\n",
    "RMSE"
   ]
  },
  {
   "cell_type": "code",
   "execution_count": 21,
   "metadata": {},
   "outputs": [],
   "source": [
    "fig, ax = plt.subplots(figsize=(12,8))\n",
    "train[1:].plot(ax=ax)\n",
    "yhat_train[1:].plot(ax=ax);"
   ]
  },
  {
   "cell_type": "markdown",
   "metadata": {},
   "source": [
    "The model matches the train set well, though something is happening with the earliest prediction (i.e. it's predicting high values for the earliest home values.) Let's try a brute force SARIMAX search."
   ]
  },
  {
   "cell_type": "markdown",
   "metadata": {},
   "source": [
    "### SARIMAX GridSearch and Model"
   ]
  },
  {
   "cell_type": "code",
   "execution_count": 22,
   "metadata": {
    "scrolled": true
   },
   "outputs": [
    {
     "name": "stdout",
     "output_type": "stream",
     "text": [
      "THERE ARE 64 ITERATIONS\n",
      "Would you like to run the models? (y or n)?y\n",
      "SARIMAX (0, 0, 0) x (0, 0, 0, 12) - AIC:6676.991207145764\n",
      "SARIMAX (0, 0, 0) x (0, 0, 1, 12) - AIC:6197.9137996466\n",
      "SARIMAX (0, 0, 0) x (0, 1, 0, 12) - AIC:5272.976957669622\n",
      "SARIMAX (0, 0, 0) x (0, 1, 1, 12) - AIC:5006.792918431183\n",
      "SARIMAX (0, 0, 0) x (1, 0, 0, 12) - AIC:5285.487175992724\n",
      "SARIMAX (0, 0, 0) x (1, 0, 1, 12) - AIC:5253.03123488303\n",
      "SARIMAX (0, 0, 0) x (1, 1, 0, 12) - AIC:4992.581535646651\n",
      "SARIMAX (0, 0, 0) x (1, 1, 1, 12) - AIC:6434.741273200395\n",
      "SARIMAX (0, 0, 1) x (0, 0, 0, 12) - AIC:6476.4058080544\n",
      "SARIMAX (0, 0, 1) x (0, 0, 1, 12) - AIC:6113.671259637416\n",
      "SARIMAX (0, 0, 1) x (0, 1, 0, 12) - AIC:5109.494224352167\n",
      "SARIMAX (0, 0, 1) x (0, 1, 1, 12) - AIC:7182.92602110183\n",
      "SARIMAX (0, 0, 1) x (1, 0, 0, 12) - AIC:6148.309374663877\n",
      "SARIMAX (0, 0, 1) x (1, 0, 1, 12) - AIC:6096.677844975016\n",
      "SARIMAX (0, 0, 1) x (1, 1, 0, 12) - AIC:4858.183296847257\n",
      "SARIMAX (0, 0, 1) x (1, 1, 1, 12) - AIC:6484.443713326946\n",
      "SARIMAX (0, 1, 0) x (0, 0, 0, 12) - AIC:4399.762363237596\n",
      "SARIMAX (0, 1, 0) x (0, 0, 1, 12) - AIC:4179.008089087248\n",
      "SARIMAX (0, 1, 0) x (0, 1, 0, 12) - AIC:4293.272821057882\n",
      "SARIMAX (0, 1, 0) x (0, 1, 1, 12) - AIC:4058.031086054655\n",
      "SARIMAX (0, 1, 0) x (1, 0, 0, 12) - AIC:4200.154827248605\n",
      "SARIMAX (0, 1, 0) x (1, 0, 1, 12) - AIC:4179.761203256687\n",
      "SARIMAX (0, 1, 0) x (1, 1, 0, 12) - AIC:4077.3973560175136\n",
      "SARIMAX (0, 1, 0) x (1, 1, 1, 12) - AIC:4058.7433140075486\n",
      "SARIMAX (0, 1, 1) x (0, 0, 0, 12) - AIC:4191.106052364617\n",
      "SARIMAX (0, 1, 1) x (0, 0, 1, 12) - AIC:3985.889018822218\n",
      "SARIMAX (0, 1, 1) x (0, 1, 0, 12) - AIC:4184.145191194655\n",
      "SARIMAX (0, 1, 1) x (0, 1, 1, 12) - AIC:3872.4093335561356\n",
      "SARIMAX (0, 1, 1) x (1, 0, 0, 12) - AIC:4017.6214247198154\n",
      "SARIMAX (0, 1, 1) x (1, 0, 1, 12) - AIC:3977.9697269363583\n",
      "SARIMAX (0, 1, 1) x (1, 1, 0, 12) - AIC:3955.1574970684\n",
      "SARIMAX (0, 1, 1) x (1, 1, 1, 12) - AIC:3908.4091578596026\n",
      "SARIMAX (1, 0, 0) x (0, 0, 0, 12) - AIC:4406.006935629983\n",
      "SARIMAX (1, 0, 0) x (0, 0, 1, 12) - AIC:4303.725183792718\n",
      "SARIMAX (1, 0, 0) x (0, 1, 0, 12) - AIC:4313.167180868384\n",
      "SARIMAX (1, 0, 0) x (0, 1, 1, 12) - AIC:4093.683158147307\n",
      "SARIMAX (1, 0, 0) x (1, 0, 0, 12) - AIC:4192.048193714862\n",
      "SARIMAX (1, 0, 0) x (1, 0, 1, 12) - AIC:4305.660200342707\n",
      "SARIMAX (1, 0, 0) x (1, 1, 0, 12) - AIC:4079.2883276207385\n",
      "SARIMAX (1, 0, 0) x (1, 1, 1, 12) - AIC:4082.58240796431\n",
      "SARIMAX (1, 0, 1) x (0, 0, 0, 12) - AIC:4241.16378082403\n",
      "SARIMAX (1, 0, 1) x (0, 0, 1, 12) - AIC:4198.596061033613\n",
      "SARIMAX (1, 0, 1) x (0, 1, 0, 12) - AIC:4234.007984676448\n",
      "SARIMAX (1, 0, 1) x (0, 1, 1, 12) - AIC:3928.181343664869\n",
      "SARIMAX (1, 0, 1) x (1, 0, 0, 12) - AIC:4048.819953465497\n",
      "SARIMAX (1, 0, 1) x (1, 0, 1, 12) - AIC:4052.520886541749\n",
      "SARIMAX (1, 0, 1) x (1, 1, 0, 12) - AIC:3959.2273334994607\n",
      "SARIMAX (1, 0, 1) x (1, 1, 1, 12) - AIC:3903.74020266629\n",
      "SARIMAX (1, 1, 0) x (0, 0, 0, 12) - AIC:3943.537549564204\n",
      "SARIMAX (1, 1, 0) x (0, 0, 1, 12) - AIC:3702.10384293503\n",
      "SARIMAX (1, 1, 0) x (0, 1, 0, 12) - AIC:3997.7856689503155\n",
      "SARIMAX (1, 1, 0) x (0, 1, 1, 12) - AIC:3743.958772400484\n",
      "SARIMAX (1, 1, 0) x (1, 0, 0, 12) - AIC:3674.478314714818\n",
      "SARIMAX (1, 1, 0) x (1, 0, 1, 12) - AIC:3675.866693630077\n",
      "SARIMAX (1, 1, 0) x (1, 1, 0, 12) - AIC:3664.451472619746\n",
      "SARIMAX (1, 1, 0) x (1, 1, 1, 12) - AIC:3665.4334325493783\n",
      "SARIMAX (1, 1, 1) x (0, 0, 0, 12) - AIC:3929.482810676832\n",
      "SARIMAX (1, 1, 1) x (0, 0, 1, 12) - AIC:3622.6418866842378\n",
      "SARIMAX (1, 1, 1) x (0, 1, 0, 12) - AIC:3982.195530371144\n",
      "SARIMAX (1, 1, 1) x (0, 1, 1, 12) - AIC:3721.733336479737\n",
      "SARIMAX (1, 1, 1) x (1, 0, 0, 12) - AIC:3675.1533845845515\n",
      "SARIMAX (1, 1, 1) x (1, 0, 1, 12) - AIC:3657.4693224620432\n",
      "SARIMAX (1, 1, 1) x (1, 1, 0, 12) - AIC:3665.777024375817\n",
      "SARIMAX (1, 1, 1) x (1, 1, 1, 12) - AIC:3649.5217580152394\n",
      "BEST RESULTS:  SARIMAX (1, 1, 1) x (0, 0, 1, 12) - AIC:3649.5217580152394\n"
     ]
    }
   ],
   "source": [
    "sarimax_search(train, p=range(0,2), d=range(0,2), q=range(0,2), maxiter=100)"
   ]
  },
  {
   "cell_type": "code",
   "execution_count": 23,
   "metadata": {},
   "outputs": [
    {
     "data": {
      "text/plain": [
       "6077.7917257868485"
      ]
     },
     "execution_count": 23,
     "metadata": {},
     "output_type": "execute_result"
    }
   ],
   "source": [
    "sarimax_model1 = SARIMAX(train, order=(1,1,1), seasonal_order=(0,0,1,12),\n",
    "                       enforce_stationarity=False, enforce_invertability=False).fit()\n",
    "yhat_train = sarimax_model.predict(type='levels')\n",
    "RMSE = np.sqrt(mean_squared_error(train[1:], yhat_train[1:]))\n",
    "RMSE"
   ]
  },
  {
   "cell_type": "markdown",
   "metadata": {},
   "source": [
    "Same RMSE as above.  Let's try order=(1,0,1), and seasonal_order(1,0,0,12)."
   ]
  },
  {
   "cell_type": "code",
   "execution_count": 24,
   "metadata": {},
   "outputs": [
    {
     "data": {
      "text/plain": [
       "1524.5707044184571"
      ]
     },
     "execution_count": 24,
     "metadata": {},
     "output_type": "execute_result"
    }
   ],
   "source": [
    "sarimax_model2 = SARIMAX(train, order=(1,0,1), seasonal_order=(1,0,0,12),\n",
    "                       enforce_stationarity=False, enforce_invertability=False).fit()\n",
    "yhat_train = sarimax_model2.predict(type='levels')\n",
    "RMSE = np.sqrt(mean_squared_error(train[1:], yhat_train[1:]))\n",
    "RMSE"
   ]
  },
  {
   "cell_type": "markdown",
   "metadata": {},
   "source": [
    "Much better RMSE, which beats the Naive and Random Walk Models.  This is a leading contender."
   ]
  },
  {
   "cell_type": "markdown",
   "metadata": {},
   "source": [
    "### Facebook Prophet Model"
   ]
  },
  {
   "cell_type": "code",
   "execution_count": 25,
   "metadata": {},
   "outputs": [],
   "source": [
    "Saratoga_proph = Saratoga.reset_index()\n",
    "Saratoga_proph = Saratoga_proph.rename(columns={'time':'ds', 'value':'y'})"
   ]
  },
  {
   "cell_type": "code",
   "execution_count": 26,
   "metadata": {
    "scrolled": false
   },
   "outputs": [
    {
     "name": "stderr",
     "output_type": "stream",
     "text": [
      "INFO:fbprophet:Disabling weekly seasonality. Run prophet with weekly_seasonality=True to override this.\n",
      "INFO:fbprophet:Disabling daily seasonality. Run prophet with daily_seasonality=True to override this.\n"
     ]
    },
    {
     "name": "stdout",
     "output_type": "stream",
     "text": [
      "RMSE for the train data: 4066.362198604545\n",
      "%RMSE:  y    0.014694\n",
      "dtype: float64\n"
     ]
    }
   ],
   "source": [
    "fbprophet_func(Saratoga_proph, city='Saratoga Springs, UT')"
   ]
  },
  {
   "cell_type": "markdown",
   "metadata": {},
   "source": [
    "RMSE for the Prophet model is 4208.  The SARIMAX model still does better."
   ]
  },
  {
   "cell_type": "markdown",
   "metadata": {},
   "source": [
    "### LSTM Model"
   ]
  },
  {
   "cell_type": "code",
   "execution_count": 27,
   "metadata": {
    "scrolled": true
   },
   "outputs": [
    {
     "name": "stdout",
     "output_type": "stream",
     "text": [
      "Model: \"sequential\"\n",
      "_________________________________________________________________\n",
      "Layer (type)                 Output Shape              Param #   \n",
      "=================================================================\n",
      "lstm (LSTM)                  (None, 5, 64)             16896     \n",
      "_________________________________________________________________\n",
      "lstm_1 (LSTM)                (None, 5, 32)             12416     \n",
      "_________________________________________________________________\n",
      "lstm_2 (LSTM)                (None, 16)                3136      \n",
      "_________________________________________________________________\n",
      "dropout (Dropout)            (None, 16)                0         \n",
      "_________________________________________________________________\n",
      "dense (Dense)                (None, 1)                 17        \n",
      "=================================================================\n",
      "Total params: 32,465\n",
      "Trainable params: 32,465\n",
      "Non-trainable params: 0\n",
      "_________________________________________________________________\n",
      "Epoch 1/100\n",
      "48/48 [==============================] - 2s 52ms/step - loss: 0.7847 - val_loss: 90.9221\n",
      "Epoch 2/100\n",
      "48/48 [==============================] - 0s 8ms/step - loss: 0.1730 - val_loss: 3.1905\n",
      "Epoch 3/100\n",
      "48/48 [==============================] - 0s 10ms/step - loss: 0.1347 - val_loss: 2.6229\n",
      "Epoch 4/100\n",
      "48/48 [==============================] - 0s 9ms/step - loss: 0.0954 - val_loss: 7.8256\n",
      "Epoch 5/100\n",
      "48/48 [==============================] - 0s 9ms/step - loss: 0.1092 - val_loss: 13.3541\n",
      "Epoch 6/100\n",
      "48/48 [==============================] - 0s 8ms/step - loss: 0.1166 - val_loss: 11.7341\n",
      "Epoch 7/100\n",
      "48/48 [==============================] - 0s 8ms/step - loss: 0.0939 - val_loss: 14.4121\n",
      "Epoch 8/100\n",
      "48/48 [==============================] - 0s 9ms/step - loss: 0.1108 - val_loss: 9.4576\n",
      "Epoch 9/100\n",
      "48/48 [==============================] - 0s 8ms/step - loss: 0.1060 - val_loss: 1.1250\n",
      "Epoch 10/100\n",
      "48/48 [==============================] - 0s 8ms/step - loss: 0.0962 - val_loss: 5.5810\n",
      "Epoch 11/100\n",
      "48/48 [==============================] - 0s 8ms/step - loss: 0.0741 - val_loss: 7.3714\n",
      "Epoch 12/100\n",
      "48/48 [==============================] - 0s 8ms/step - loss: 0.0876 - val_loss: 6.0249\n",
      "Epoch 13/100\n",
      "48/48 [==============================] - 0s 8ms/step - loss: 0.0950 - val_loss: 7.9681\n",
      "Epoch 14/100\n",
      "48/48 [==============================] - 0s 8ms/step - loss: 0.1038 - val_loss: 7.0832\n",
      "Epoch 15/100\n",
      "48/48 [==============================] - 0s 8ms/step - loss: 0.0717 - val_loss: 10.8429\n",
      "Epoch 16/100\n",
      "48/48 [==============================] - 0s 9ms/step - loss: 0.0898 - val_loss: 13.9736\n",
      "Epoch 17/100\n",
      "48/48 [==============================] - 0s 9ms/step - loss: 0.0972 - val_loss: 8.5075\n",
      "Epoch 18/100\n",
      "48/48 [==============================] - ETA: 0s - loss: 0.089 - 0s 8ms/step - loss: 0.0900 - val_loss: 10.3577\n",
      "Epoch 19/100\n",
      "48/48 [==============================] - 0s 9ms/step - loss: 0.0764 - val_loss: 13.4468\n",
      "Epoch 20/100\n",
      "48/48 [==============================] - 0s 9ms/step - loss: 0.0803 - val_loss: 12.0338\n",
      "Epoch 21/100\n",
      "48/48 [==============================] - 0s 9ms/step - loss: 0.0884 - val_loss: 9.0043\n",
      "Epoch 22/100\n",
      "48/48 [==============================] - 0s 9ms/step - loss: 0.0894 - val_loss: 1.9622\n",
      "Epoch 23/100\n",
      "48/48 [==============================] - 0s 8ms/step - loss: 0.0681 - val_loss: 8.9919\n",
      "Epoch 24/100\n",
      "48/48 [==============================] - 0s 9ms/step - loss: 0.0758 - val_loss: 6.5858\n",
      "Epoch 25/100\n",
      "48/48 [==============================] - 0s 8ms/step - loss: 0.0604 - val_loss: 9.3094\n",
      "Epoch 26/100\n",
      "48/48 [==============================] - 0s 9ms/step - loss: 0.0919 - val_loss: 1.4105\n",
      "Epoch 27/100\n",
      "48/48 [==============================] - 0s 9ms/step - loss: 0.0657 - val_loss: 3.3344\n",
      "Epoch 28/100\n",
      "48/48 [==============================] - 0s 9ms/step - loss: 0.0655 - val_loss: 6.7235\n",
      "Epoch 29/100\n",
      "48/48 [==============================] - 0s 9ms/step - loss: 0.0670 - val_loss: 5.3674\n",
      "Epoch 30/100\n",
      "48/48 [==============================] - 0s 9ms/step - loss: 0.0720 - val_loss: 7.9319\n",
      "Epoch 31/100\n",
      "48/48 [==============================] - 0s 9ms/step - loss: 0.0790 - val_loss: 9.9230\n",
      "Epoch 32/100\n",
      "48/48 [==============================] - 0s 9ms/step - loss: 0.0829 - val_loss: 9.6441\n",
      "Epoch 33/100\n",
      "48/48 [==============================] - 0s 9ms/step - loss: 0.0771 - val_loss: 1.8548\n",
      "Epoch 34/100\n",
      "48/48 [==============================] - 0s 9ms/step - loss: 0.0790 - val_loss: 2.9243\n",
      "Epoch 35/100\n",
      "48/48 [==============================] - 0s 9ms/step - loss: 0.0827 - val_loss: 0.8489\n",
      "Epoch 36/100\n",
      "48/48 [==============================] - 0s 9ms/step - loss: 0.0738 - val_loss: 8.6640\n",
      "Epoch 37/100\n",
      "48/48 [==============================] - 0s 9ms/step - loss: 0.0919 - val_loss: 8.1206\n",
      "Epoch 38/100\n",
      "48/48 [==============================] - 0s 9ms/step - loss: 0.0638 - val_loss: 10.1956\n",
      "Epoch 39/100\n",
      "48/48 [==============================] - 0s 9ms/step - loss: 0.0562 - val_loss: 10.0392\n",
      "Epoch 40/100\n",
      "48/48 [==============================] - 0s 9ms/step - loss: 0.0699 - val_loss: 6.5922\n",
      "Epoch 41/100\n",
      "48/48 [==============================] - 0s 9ms/step - loss: 0.0648 - val_loss: 10.3225\n",
      "Epoch 42/100\n",
      "48/48 [==============================] - 0s 9ms/step - loss: 0.0624 - val_loss: 4.7434\n",
      "Epoch 43/100\n",
      "48/48 [==============================] - 0s 9ms/step - loss: 0.0610 - val_loss: 7.0274\n",
      "Epoch 44/100\n",
      "48/48 [==============================] - 0s 9ms/step - loss: 0.0830 - val_loss: 0.9276\n",
      "Epoch 45/100\n",
      "48/48 [==============================] - 0s 9ms/step - loss: 0.0627 - val_loss: 3.2568\n",
      "Epoch 46/100\n",
      "48/48 [==============================] - 0s 9ms/step - loss: 0.0528 - val_loss: 4.1153\n",
      "Epoch 47/100\n",
      "48/48 [==============================] - 0s 9ms/step - loss: 0.0782 - val_loss: 3.2686\n",
      "Epoch 48/100\n",
      "48/48 [==============================] - 0s 9ms/step - loss: 0.0444 - val_loss: 4.8056\n",
      "Epoch 49/100\n",
      "48/48 [==============================] - 0s 9ms/step - loss: 0.0792 - val_loss: 1.5163\n",
      "Epoch 50/100\n",
      "48/48 [==============================] - 0s 9ms/step - loss: 0.0948 - val_loss: 4.4884\n",
      "Epoch 51/100\n",
      "48/48 [==============================] - 0s 9ms/step - loss: 0.0531 - val_loss: 4.8773\n",
      "Epoch 52/100\n",
      "48/48 [==============================] - 0s 9ms/step - loss: 0.0442 - val_loss: 3.3722\n",
      "Epoch 53/100\n",
      "48/48 [==============================] - 0s 9ms/step - loss: 0.0571 - val_loss: 3.2360\n",
      "Epoch 54/100\n",
      "48/48 [==============================] - 0s 9ms/step - loss: 0.0666 - val_loss: 3.9478\n",
      "Epoch 55/100\n",
      "48/48 [==============================] - 0s 9ms/step - loss: 0.0769 - val_loss: 1.6755\n",
      "Epoch 56/100\n",
      "48/48 [==============================] - 0s 9ms/step - loss: 0.0497 - val_loss: 2.9499\n",
      "Epoch 57/100\n",
      "48/48 [==============================] - 0s 9ms/step - loss: 0.0453 - val_loss: 1.9782\n",
      "Epoch 58/100\n",
      "48/48 [==============================] - 0s 8ms/step - loss: 0.0644 - val_loss: 1.8498\n",
      "Epoch 59/100\n",
      "48/48 [==============================] - 0s 9ms/step - loss: 0.0553 - val_loss: 2.0002\n",
      "Epoch 60/100\n",
      "48/48 [==============================] - 0s 8ms/step - loss: 0.0649 - val_loss: 0.6190\n",
      "Epoch 61/100\n",
      "48/48 [==============================] - 0s 9ms/step - loss: 0.0692 - val_loss: 0.6723\n",
      "Epoch 62/100\n",
      "48/48 [==============================] - 0s 9ms/step - loss: 0.0552 - val_loss: 1.5270\n",
      "Epoch 63/100\n",
      "48/48 [==============================] - 0s 9ms/step - loss: 0.0539 - val_loss: 3.3904\n",
      "Epoch 64/100\n",
      "48/48 [==============================] - 0s 9ms/step - loss: 0.0690 - val_loss: 3.2348\n",
      "Epoch 65/100\n",
      "48/48 [==============================] - 0s 8ms/step - loss: 0.0556 - val_loss: 3.0088\n",
      "Epoch 66/100\n",
      "48/48 [==============================] - 0s 9ms/step - loss: 0.0450 - val_loss: 4.5595\n",
      "Epoch 67/100\n",
      "48/48 [==============================] - 0s 9ms/step - loss: 0.0634 - val_loss: 2.6387\n",
      "Epoch 68/100\n",
      "48/48 [==============================] - 0s 9ms/step - loss: 0.0437 - val_loss: 4.6661\n",
      "Epoch 69/100\n",
      "48/48 [==============================] - 0s 9ms/step - loss: 0.0611 - val_loss: 3.0797\n",
      "Epoch 70/100\n",
      "48/48 [==============================] - 0s 9ms/step - loss: 0.0577 - val_loss: 4.3017\n",
      "Epoch 71/100\n",
      "48/48 [==============================] - 0s 9ms/step - loss: 0.0512 - val_loss: 6.2048\n",
      "Epoch 72/100\n"
     ]
    },
    {
     "name": "stdout",
     "output_type": "stream",
     "text": [
      "48/48 [==============================] - 0s 9ms/step - loss: 0.0425 - val_loss: 5.6559\n",
      "Epoch 73/100\n",
      "48/48 [==============================] - 0s 9ms/step - loss: 0.0551 - val_loss: 5.6320\n",
      "Epoch 74/100\n",
      "48/48 [==============================] - 0s 10ms/step - loss: 0.0644 - val_loss: 4.5256\n",
      "Epoch 75/100\n",
      "48/48 [==============================] - 0s 9ms/step - loss: 0.0540 - val_loss: 3.7948\n",
      "Epoch 76/100\n",
      "48/48 [==============================] - 0s 9ms/step - loss: 0.0762 - val_loss: 3.5778\n",
      "Epoch 77/100\n",
      "48/48 [==============================] - 0s 10ms/step - loss: 0.0556 - val_loss: 2.2606\n",
      "Epoch 78/100\n",
      "48/48 [==============================] - 0s 9ms/step - loss: 0.0670 - val_loss: 3.7120\n",
      "Epoch 79/100\n",
      "48/48 [==============================] - 0s 9ms/step - loss: 0.0464 - val_loss: 4.6881\n",
      "Epoch 80/100\n",
      "48/48 [==============================] - 0s 9ms/step - loss: 0.0555 - val_loss: 4.8499\n",
      "Epoch 81/100\n",
      "48/48 [==============================] - 0s 9ms/step - loss: 0.0797 - val_loss: 2.8385\n",
      "Epoch 82/100\n",
      "48/48 [==============================] - 0s 9ms/step - loss: 0.0570 - val_loss: 3.2155\n",
      "Epoch 83/100\n",
      "48/48 [==============================] - 0s 9ms/step - loss: 0.0497 - val_loss: 4.1387\n",
      "Epoch 84/100\n",
      "48/48 [==============================] - 0s 9ms/step - loss: 0.0457 - val_loss: 5.0034\n",
      "Epoch 85/100\n",
      "48/48 [==============================] - 0s 9ms/step - loss: 0.0609 - val_loss: 7.8774\n",
      "Epoch 86/100\n",
      "48/48 [==============================] - 0s 9ms/step - loss: 0.0609 - val_loss: 4.1071\n",
      "Epoch 87/100\n",
      "48/48 [==============================] - 0s 9ms/step - loss: 0.0644 - val_loss: 2.9934\n",
      "Epoch 88/100\n",
      "48/48 [==============================] - 0s 9ms/step - loss: 0.0680 - val_loss: 2.2623\n",
      "Epoch 89/100\n",
      "48/48 [==============================] - 0s 9ms/step - loss: 0.0472 - val_loss: 2.8118\n",
      "Epoch 90/100\n",
      "48/48 [==============================] - 0s 8ms/step - loss: 0.0489 - val_loss: 2.5338\n",
      "Epoch 91/100\n",
      "48/48 [==============================] - 0s 9ms/step - loss: 0.0575 - val_loss: 4.1672\n",
      "Epoch 92/100\n",
      "48/48 [==============================] - 0s 9ms/step - loss: 0.0626 - val_loss: 3.5927\n",
      "Epoch 93/100\n",
      "48/48 [==============================] - 0s 8ms/step - loss: 0.0504 - val_loss: 4.8617\n",
      "Epoch 94/100\n",
      "48/48 [==============================] - 0s 9ms/step - loss: 0.0594 - val_loss: 3.7719\n",
      "Epoch 95/100\n",
      "48/48 [==============================] - 0s 9ms/step - loss: 0.0542 - val_loss: 4.2730\n",
      "Epoch 96/100\n",
      "48/48 [==============================] - 0s 9ms/step - loss: 0.0438 - val_loss: 3.4268\n",
      "Epoch 97/100\n",
      "48/48 [==============================] - 0s 8ms/step - loss: 0.0636 - val_loss: 4.3900\n",
      "Epoch 98/100\n",
      "48/48 [==============================] - 0s 9ms/step - loss: 0.0603 - val_loss: 3.5843\n",
      "Epoch 99/100\n",
      "48/48 [==============================] - 0s 9ms/step - loss: 0.0465 - val_loss: 5.8395\n",
      "Epoch 100/100\n",
      "48/48 [==============================] - 0s 8ms/step - loss: 0.0658 - val_loss: 4.5429\n",
      "RMSE: 6330.0195942027185\n",
      "%RMSE:  1582.9743193134555\n"
     ]
    }
   ],
   "source": [
    "history = LSTM_func(Saratoga_proph, City=Saratoga, epochs=100)"
   ]
  },
  {
   "cell_type": "code",
   "execution_count": 28,
   "metadata": {},
   "outputs": [],
   "source": [
    "LSTM_val(history)"
   ]
  },
  {
   "cell_type": "markdown",
   "metadata": {},
   "source": [
    "The LSTM RMSE is still not better than the SARIMAX model.  "
   ]
  },
  {
   "cell_type": "markdown",
   "metadata": {},
   "source": [
    "## Best Model: SARIMAX with order=(1,0,1), and seasonal_order(1,0,0,12)"
   ]
  },
  {
   "cell_type": "code",
   "execution_count": 29,
   "metadata": {},
   "outputs": [],
   "source": [
    "yhat_train = sarimax_model2.predict(typ='levels')\n",
    "yhat_test = sarimax_model2.predict(start=test.index[0], end=test.index[-1], typ='levels')"
   ]
  },
  {
   "cell_type": "code",
   "execution_count": 30,
   "metadata": {},
   "outputs": [
    {
     "data": {
      "text/plain": [
       "(1524.5707044184571, 61134.14127641219)"
      ]
     },
     "execution_count": 30,
     "metadata": {},
     "output_type": "execute_result"
    }
   ],
   "source": [
    "RMSE_train = np.sqrt(mean_squared_error(train[1:], yhat_train[1:]))\n",
    "RMSE_test = np.sqrt(mean_squared_error(test, yhat_test))\n",
    "RMSE_train, RMSE_test"
   ]
  },
  {
   "cell_type": "code",
   "execution_count": 31,
   "metadata": {},
   "outputs": [],
   "source": [
    "fig, ax = plt.subplots(figsize=(12,8))\n",
    "ax.plot(train, label='train')\n",
    "ax.plot(test, label='test')\n",
    "ax.plot(yhat_train[1:], label='pred_train')\n",
    "ax.plot(yhat_test, label='pred_test')\n",
    "ax.set_title('Train, Test, Predicted Train, and Predicted Test')\n",
    "ax.legend();"
   ]
  },
  {
   "cell_type": "markdown",
   "metadata": {},
   "source": [
    "The RMSE on the test data is not great, but let's give the model the full dataset."
   ]
  },
  {
   "cell_type": "code",
   "execution_count": 32,
   "metadata": {},
   "outputs": [
    {
     "data": {
      "text/plain": [
       "1894.8336856646158"
      ]
     },
     "execution_count": 32,
     "metadata": {},
     "output_type": "execute_result"
    }
   ],
   "source": [
    "sarimax_model_all = SARIMAX(Saratoga, order=(1,0,1), seasonal_order=(1,0,0,12),\n",
    "                       enforce_stationarity=False, enforce_invertability=False).fit()\n",
    "yhat_all = sarimax_model_all.predict(type='levels')\n",
    "RMSE = np.sqrt(mean_squared_error(Saratoga[2:], yhat_all[2:]))\n",
    "RMSE"
   ]
  },
  {
   "cell_type": "markdown",
   "metadata": {},
   "source": [
    "The RMSE on all the data is 1895 (after excluding the first two data points where the model has no history to use.)"
   ]
  },
  {
   "cell_type": "code",
   "execution_count": 33,
   "metadata": {},
   "outputs": [],
   "source": [
    "fig, ax = plt.subplots(figsize=(12,8))\n",
    "ax.plot(Saratoga, label='orginal')\n",
    "ax.plot(yhat_all[1:], label='prediction')\n",
    "ax.set_title('Actual and Predicted Values, All Data')\n",
    "ax.legend();"
   ]
  },
  {
   "cell_type": "markdown",
   "metadata": {},
   "source": [
    "## Best Model Forecast"
   ]
  },
  {
   "cell_type": "code",
   "execution_count": 34,
   "metadata": {},
   "outputs": [],
   "source": [
    "forecast_sarimax_model_all = sarimax_model_all.forecast(steps=60)"
   ]
  },
  {
   "cell_type": "code",
   "execution_count": 35,
   "metadata": {},
   "outputs": [],
   "source": [
    "forecast_sarimax_model_all_dynamic = sarimax_model_all.get_forecast(steps=60)\n",
    "pred_conf = forecast_sarimax_model_all_dynamic.conf_int()"
   ]
  },
  {
   "cell_type": "code",
   "execution_count": 36,
   "metadata": {},
   "outputs": [],
   "source": [
    "fig, ax = plt.subplots(figsize=(12,8))\n",
    "ax.plot(Saratoga, label='Historical')\n",
    "ax.plot(forecast_sarimax_model_all, label='Forecast')\n",
    "ax.fill_between(pred_conf.index, pred_conf.iloc[:,0], pred_conf.iloc[:,1], color='grey', alpha=.25)\n",
    "ax.set_title('Historical and Forecasted Home Prices in 84045 (Saratoga Springs, UT)')\n",
    "ax.set_ylabel('Dollars')\n",
    "ax.legend();"
   ]
  },
  {
   "cell_type": "code",
   "execution_count": 37,
   "metadata": {
    "scrolled": true
   },
   "outputs": [
    {
     "name": "stdout",
     "output_type": "stream",
     "text": [
      "Current price:                $551641\n",
      "Predicted 2026 price:         $772606.260510189\n",
      "Predicted five year increase: $220965.260510189\n",
      "Predicted five year ROI:      0.40055989404375125\n"
     ]
    }
   ],
   "source": [
    "current_price = int(Saratoga['2021-07-01':].value.values)\n",
    "predicted_price = forecast_sarimax_model_all[-1]\n",
    "pred_five_year_increase = predicted_price - current_price\n",
    "five_year_roi = pred_five_year_increase / current_price\n",
    "print(f'Current price:                ${current_price}')\n",
    "print(f'Predicted 2026 price:         ${predicted_price}')\n",
    "print(f'Predicted five year increase: ${pred_five_year_increase}')\n",
    "print(f'Predicted five year ROI:      {five_year_roi}')"
   ]
  },
  {
   "cell_type": "markdown",
   "metadata": {},
   "source": [
    "The final model predicts a five year ROI of 40.1%."
   ]
  }
 ],
 "metadata": {
  "kernelspec": {
   "display_name": "Python 3",
   "language": "python",
   "name": "python3"
  },
  "language_info": {
   "codemirror_mode": {
    "name": "ipython",
    "version": 3
   },
   "file_extension": ".py",
   "mimetype": "text/x-python",
   "name": "python",
   "nbconvert_exporter": "python",
   "pygments_lexer": "ipython3",
   "version": "3.8.11"
  }
 },
 "nbformat": 4,
 "nbformat_minor": 4
}
