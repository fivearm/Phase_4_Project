{
 "cells": [
  {
   "cell_type": "code",
   "execution_count": 1,
   "metadata": {},
   "outputs": [],
   "source": [
    "from Phase_4_functions import roll_mean_std\n",
    "from Phase_4_functions import decompose\n",
    "from Phase_4_functions import DickeyFullerTest\n",
    "from Phase_4_functions import naive_model\n",
    "from Phase_4_functions import sarimax_search\n",
    "from Phase_4_functions import fbprophet_func\n",
    "from Phase_4_functions import LSTM_func\n",
    "from Phase_4_functions import LSTM_val\n",
    "\n",
    "import itertools\n",
    "import numpy as np\n",
    "import pandas as pd\n",
    "import matplotlib.pyplot as plt \n",
    "from statsmodels.tsa.stattools import adfuller\n",
    "from statsmodels.graphics.tsaplots import plot_pacf, plot_acf\n",
    "from statsmodels.tsa.arima.model import ARIMA\n",
    "from statsmodels.tsa.statespace.sarimax import SARIMAX\n",
    "from sklearn.metrics import mean_squared_error\n",
    "from fbprophet import Prophet as proph\n",
    "import pmdarima as pm\n",
    "\n",
    "import warnings\n",
    "warnings.filterwarnings('ignore')\n",
    "plt.style.use('fivethirtyeight')"
   ]
  },
  {
   "cell_type": "code",
   "execution_count": 2,
   "metadata": {},
   "outputs": [],
   "source": [
    "df = pd.read_csv('../data/new_zillow_data.csv')"
   ]
  },
  {
   "cell_type": "code",
   "execution_count": 3,
   "metadata": {},
   "outputs": [],
   "source": [
    "def melt_data(df):\n",
    "    \"\"\"\n",
    "    Takes the zillow_data dataset in wide form or a subset of the zillow_dataset.  \n",
    "    Returns a long-form datetime dataframe \n",
    "    with the datetime column names as the index and the values as the 'values' column.\n",
    "    \n",
    "    If more than one row is passes in the wide-form dataset, the values column\n",
    "    will be the mean of the values from the datetime columns in all of the rows.\n",
    "    \"\"\"\n",
    "    \n",
    "    melted = pd.melt(df, id_vars=['RegionName', 'RegionID', 'SizeRank', 'City', 'State', \n",
    "                                  'Metro', 'CountyName', 'RegionType', 'StateName'], var_name='time')\n",
    "    melted['time'] = pd.to_datetime(melted['time'], infer_datetime_format=True)\n",
    "    melted = melted.dropna(subset=['value'])\n",
    "    return melted"
   ]
  },
  {
   "cell_type": "code",
   "execution_count": 4,
   "metadata": {},
   "outputs": [],
   "source": [
    "melted = melt_data(df)\n",
    "melted['time'] = pd.to_datetime(melted['time'])\n",
    "melted.set_index('time', inplace=True)"
   ]
  },
  {
   "cell_type": "markdown",
   "metadata": {},
   "source": [
    "## Zip Code 98642 (Ridgefield, WA)"
   ]
  },
  {
   "cell_type": "markdown",
   "metadata": {},
   "source": [
    "### Plot the Rolling Mean and Rolling Std."
   ]
  },
  {
   "cell_type": "code",
   "execution_count": 5,
   "metadata": {},
   "outputs": [],
   "source": [
    "Ridgefield = melted[melted.RegionName == 98642]"
   ]
  },
  {
   "cell_type": "code",
   "execution_count": 6,
   "metadata": {},
   "outputs": [
    {
     "data": {
      "text/html": [
       "<div>\n",
       "<style scoped>\n",
       "    .dataframe tbody tr th:only-of-type {\n",
       "        vertical-align: middle;\n",
       "    }\n",
       "\n",
       "    .dataframe tbody tr th {\n",
       "        vertical-align: top;\n",
       "    }\n",
       "\n",
       "    .dataframe thead th {\n",
       "        text-align: right;\n",
       "    }\n",
       "</style>\n",
       "<table border=\"1\" class=\"dataframe\">\n",
       "  <thead>\n",
       "    <tr style=\"text-align: right;\">\n",
       "      <th></th>\n",
       "      <th>RegionName</th>\n",
       "      <th>RegionID</th>\n",
       "      <th>SizeRank</th>\n",
       "      <th>City</th>\n",
       "      <th>State</th>\n",
       "      <th>Metro</th>\n",
       "      <th>CountyName</th>\n",
       "      <th>RegionType</th>\n",
       "      <th>StateName</th>\n",
       "      <th>value</th>\n",
       "    </tr>\n",
       "    <tr>\n",
       "      <th>time</th>\n",
       "      <th></th>\n",
       "      <th></th>\n",
       "      <th></th>\n",
       "      <th></th>\n",
       "      <th></th>\n",
       "      <th></th>\n",
       "      <th></th>\n",
       "      <th></th>\n",
       "      <th></th>\n",
       "      <th></th>\n",
       "    </tr>\n",
       "  </thead>\n",
       "  <tbody>\n",
       "    <tr>\n",
       "      <th>1996-01-31</th>\n",
       "      <td>98642</td>\n",
       "      <td>99937</td>\n",
       "      <td>6314</td>\n",
       "      <td>Ridgefield</td>\n",
       "      <td>WA</td>\n",
       "      <td>Portland-Vancouver-Hillsboro</td>\n",
       "      <td>Clark County</td>\n",
       "      <td>Zip</td>\n",
       "      <td>WA</td>\n",
       "      <td>178735.0</td>\n",
       "    </tr>\n",
       "    <tr>\n",
       "      <th>1996-02-29</th>\n",
       "      <td>98642</td>\n",
       "      <td>99937</td>\n",
       "      <td>6314</td>\n",
       "      <td>Ridgefield</td>\n",
       "      <td>WA</td>\n",
       "      <td>Portland-Vancouver-Hillsboro</td>\n",
       "      <td>Clark County</td>\n",
       "      <td>Zip</td>\n",
       "      <td>WA</td>\n",
       "      <td>179433.0</td>\n",
       "    </tr>\n",
       "    <tr>\n",
       "      <th>1996-03-31</th>\n",
       "      <td>98642</td>\n",
       "      <td>99937</td>\n",
       "      <td>6314</td>\n",
       "      <td>Ridgefield</td>\n",
       "      <td>WA</td>\n",
       "      <td>Portland-Vancouver-Hillsboro</td>\n",
       "      <td>Clark County</td>\n",
       "      <td>Zip</td>\n",
       "      <td>WA</td>\n",
       "      <td>179717.0</td>\n",
       "    </tr>\n",
       "    <tr>\n",
       "      <th>1996-04-30</th>\n",
       "      <td>98642</td>\n",
       "      <td>99937</td>\n",
       "      <td>6314</td>\n",
       "      <td>Ridgefield</td>\n",
       "      <td>WA</td>\n",
       "      <td>Portland-Vancouver-Hillsboro</td>\n",
       "      <td>Clark County</td>\n",
       "      <td>Zip</td>\n",
       "      <td>WA</td>\n",
       "      <td>180419.0</td>\n",
       "    </tr>\n",
       "    <tr>\n",
       "      <th>1996-05-31</th>\n",
       "      <td>98642</td>\n",
       "      <td>99937</td>\n",
       "      <td>6314</td>\n",
       "      <td>Ridgefield</td>\n",
       "      <td>WA</td>\n",
       "      <td>Portland-Vancouver-Hillsboro</td>\n",
       "      <td>Clark County</td>\n",
       "      <td>Zip</td>\n",
       "      <td>WA</td>\n",
       "      <td>181761.0</td>\n",
       "    </tr>\n",
       "    <tr>\n",
       "      <th>...</th>\n",
       "      <td>...</td>\n",
       "      <td>...</td>\n",
       "      <td>...</td>\n",
       "      <td>...</td>\n",
       "      <td>...</td>\n",
       "      <td>...</td>\n",
       "      <td>...</td>\n",
       "      <td>...</td>\n",
       "      <td>...</td>\n",
       "      <td>...</td>\n",
       "    </tr>\n",
       "    <tr>\n",
       "      <th>2021-03-31</th>\n",
       "      <td>98642</td>\n",
       "      <td>99937</td>\n",
       "      <td>6314</td>\n",
       "      <td>Ridgefield</td>\n",
       "      <td>WA</td>\n",
       "      <td>Portland-Vancouver-Hillsboro</td>\n",
       "      <td>Clark County</td>\n",
       "      <td>Zip</td>\n",
       "      <td>WA</td>\n",
       "      <td>518824.0</td>\n",
       "    </tr>\n",
       "    <tr>\n",
       "      <th>2021-04-30</th>\n",
       "      <td>98642</td>\n",
       "      <td>99937</td>\n",
       "      <td>6314</td>\n",
       "      <td>Ridgefield</td>\n",
       "      <td>WA</td>\n",
       "      <td>Portland-Vancouver-Hillsboro</td>\n",
       "      <td>Clark County</td>\n",
       "      <td>Zip</td>\n",
       "      <td>WA</td>\n",
       "      <td>529447.0</td>\n",
       "    </tr>\n",
       "    <tr>\n",
       "      <th>2021-05-31</th>\n",
       "      <td>98642</td>\n",
       "      <td>99937</td>\n",
       "      <td>6314</td>\n",
       "      <td>Ridgefield</td>\n",
       "      <td>WA</td>\n",
       "      <td>Portland-Vancouver-Hillsboro</td>\n",
       "      <td>Clark County</td>\n",
       "      <td>Zip</td>\n",
       "      <td>WA</td>\n",
       "      <td>541648.0</td>\n",
       "    </tr>\n",
       "    <tr>\n",
       "      <th>2021-06-30</th>\n",
       "      <td>98642</td>\n",
       "      <td>99937</td>\n",
       "      <td>6314</td>\n",
       "      <td>Ridgefield</td>\n",
       "      <td>WA</td>\n",
       "      <td>Portland-Vancouver-Hillsboro</td>\n",
       "      <td>Clark County</td>\n",
       "      <td>Zip</td>\n",
       "      <td>WA</td>\n",
       "      <td>553322.0</td>\n",
       "    </tr>\n",
       "    <tr>\n",
       "      <th>2021-07-31</th>\n",
       "      <td>98642</td>\n",
       "      <td>99937</td>\n",
       "      <td>6314</td>\n",
       "      <td>Ridgefield</td>\n",
       "      <td>WA</td>\n",
       "      <td>Portland-Vancouver-Hillsboro</td>\n",
       "      <td>Clark County</td>\n",
       "      <td>Zip</td>\n",
       "      <td>WA</td>\n",
       "      <td>566010.0</td>\n",
       "    </tr>\n",
       "  </tbody>\n",
       "</table>\n",
       "<p>307 rows × 10 columns</p>\n",
       "</div>"
      ],
      "text/plain": [
       "            RegionName  RegionID  SizeRank        City State  \\\n",
       "time                                                           \n",
       "1996-01-31       98642     99937      6314  Ridgefield    WA   \n",
       "1996-02-29       98642     99937      6314  Ridgefield    WA   \n",
       "1996-03-31       98642     99937      6314  Ridgefield    WA   \n",
       "1996-04-30       98642     99937      6314  Ridgefield    WA   \n",
       "1996-05-31       98642     99937      6314  Ridgefield    WA   \n",
       "...                ...       ...       ...         ...   ...   \n",
       "2021-03-31       98642     99937      6314  Ridgefield    WA   \n",
       "2021-04-30       98642     99937      6314  Ridgefield    WA   \n",
       "2021-05-31       98642     99937      6314  Ridgefield    WA   \n",
       "2021-06-30       98642     99937      6314  Ridgefield    WA   \n",
       "2021-07-31       98642     99937      6314  Ridgefield    WA   \n",
       "\n",
       "                                   Metro    CountyName RegionType StateName  \\\n",
       "time                                                                          \n",
       "1996-01-31  Portland-Vancouver-Hillsboro  Clark County        Zip        WA   \n",
       "1996-02-29  Portland-Vancouver-Hillsboro  Clark County        Zip        WA   \n",
       "1996-03-31  Portland-Vancouver-Hillsboro  Clark County        Zip        WA   \n",
       "1996-04-30  Portland-Vancouver-Hillsboro  Clark County        Zip        WA   \n",
       "1996-05-31  Portland-Vancouver-Hillsboro  Clark County        Zip        WA   \n",
       "...                                  ...           ...        ...       ...   \n",
       "2021-03-31  Portland-Vancouver-Hillsboro  Clark County        Zip        WA   \n",
       "2021-04-30  Portland-Vancouver-Hillsboro  Clark County        Zip        WA   \n",
       "2021-05-31  Portland-Vancouver-Hillsboro  Clark County        Zip        WA   \n",
       "2021-06-30  Portland-Vancouver-Hillsboro  Clark County        Zip        WA   \n",
       "2021-07-31  Portland-Vancouver-Hillsboro  Clark County        Zip        WA   \n",
       "\n",
       "               value  \n",
       "time                  \n",
       "1996-01-31  178735.0  \n",
       "1996-02-29  179433.0  \n",
       "1996-03-31  179717.0  \n",
       "1996-04-30  180419.0  \n",
       "1996-05-31  181761.0  \n",
       "...              ...  \n",
       "2021-03-31  518824.0  \n",
       "2021-04-30  529447.0  \n",
       "2021-05-31  541648.0  \n",
       "2021-06-30  553322.0  \n",
       "2021-07-31  566010.0  \n",
       "\n",
       "[307 rows x 10 columns]"
      ]
     },
     "execution_count": 6,
     "metadata": {},
     "output_type": "execute_result"
    }
   ],
   "source": [
    "Ridgefield"
   ]
  },
  {
   "cell_type": "code",
   "execution_count": 7,
   "metadata": {},
   "outputs": [],
   "source": [
    "Ridgefield = Ridgefield.resample('MS').mean()\n",
    "Ridgefield = Ridgefield.drop(['RegionName', 'RegionID', 'SizeRank'], axis=1)"
   ]
  },
  {
   "cell_type": "code",
   "execution_count": 8,
   "metadata": {},
   "outputs": [],
   "source": [
    "roll_mean_std(Ridgefield)"
   ]
  },
  {
   "cell_type": "markdown",
   "metadata": {},
   "source": [
    "This plot shows us that there is a positive trend in the data. There is no clear seasonality from this graph, will use a seasonal decompose next to see more information about the data."
   ]
  },
  {
   "cell_type": "markdown",
   "metadata": {},
   "source": [
    "### Seasonal Decompose"
   ]
  },
  {
   "cell_type": "code",
   "execution_count": 9,
   "metadata": {},
   "outputs": [],
   "source": [
    "decompose(Ridgefield)"
   ]
  },
  {
   "cell_type": "markdown",
   "metadata": {},
   "source": [
    "This seasonal decompose shows us more clearly that there is a clear positive linear trend in the data. There is also a seasonal aspect to the data. It would seem that more houses are sold in the summer months and less so in the winter months."
   ]
  },
  {
   "cell_type": "markdown",
   "metadata": {},
   "source": [
    "### Differencing and DickeyFuller Test"
   ]
  },
  {
   "cell_type": "code",
   "execution_count": 10,
   "metadata": {},
   "outputs": [
    {
     "data": {
      "text/plain": [
       "Test Statistic                   0.872851\n",
       "p-value                          0.992726\n",
       "# Lags Used                     16.000000\n",
       "Number of Observations Used    290.000000\n",
       "Critical Value (1%)             -3.453102\n",
       "Critical Value (5%)             -2.871559\n",
       "Critical Value (10%)            -2.572108\n",
       "dtype: float64"
      ]
     },
     "execution_count": 10,
     "metadata": {},
     "output_type": "execute_result"
    }
   ],
   "source": [
    "DickeyFullerTest(Ridgefield)"
   ]
  },
  {
   "cell_type": "code",
   "execution_count": 11,
   "metadata": {},
   "outputs": [
    {
     "data": {
      "text/plain": [
       "Test Statistic                  -1.164119\n",
       "p-value                          0.688837\n",
       "# Lags Used                     16.000000\n",
       "Number of Observations Used    289.000000\n",
       "Critical Value (1%)             -3.453182\n",
       "Critical Value (5%)             -2.871593\n",
       "Critical Value (10%)            -2.572127\n",
       "dtype: float64"
      ]
     },
     "execution_count": 11,
     "metadata": {},
     "output_type": "execute_result"
    }
   ],
   "source": [
    "Ridgefield_diff = Ridgefield.diff().dropna()\n",
    "Ridgefield_diff.plot()\n",
    "DickeyFullerTest(Ridgefield_diff)"
   ]
  },
  {
   "cell_type": "code",
   "execution_count": 12,
   "metadata": {
    "scrolled": false
   },
   "outputs": [
    {
     "data": {
      "text/plain": [
       "Test Statistic                  -2.958319\n",
       "p-value                          0.038974\n",
       "# Lags Used                     16.000000\n",
       "Number of Observations Used    288.000000\n",
       "Critical Value (1%)             -3.453262\n",
       "Critical Value (5%)             -2.871628\n",
       "Critical Value (10%)            -2.572146\n",
       "dtype: float64"
      ]
     },
     "execution_count": 12,
     "metadata": {},
     "output_type": "execute_result"
    }
   ],
   "source": [
    "Ridgefield_diff2 = Ridgefield_diff.diff().dropna()\n",
    "Ridgefield_diff2.plot()\n",
    "DickeyFullerTest(Ridgefield_diff2)"
   ]
  },
  {
   "cell_type": "markdown",
   "metadata": {},
   "source": [
    "Second order differencing produced a pvalue <.05, meaning that we can reject the null hypothesis and assume stationarity."
   ]
  },
  {
   "cell_type": "markdown",
   "metadata": {},
   "source": [
    "### ACF and PACF"
   ]
  },
  {
   "cell_type": "code",
   "execution_count": 13,
   "metadata": {},
   "outputs": [],
   "source": [
    "plot_pacf(Ridgefield_diff2);"
   ]
  },
  {
   "cell_type": "code",
   "execution_count": 14,
   "metadata": {},
   "outputs": [],
   "source": [
    "plot_acf(Ridgefield_diff2);"
   ]
  },
  {
   "cell_type": "markdown",
   "metadata": {},
   "source": [
    "### Train Test Split"
   ]
  },
  {
   "cell_type": "code",
   "execution_count": 15,
   "metadata": {},
   "outputs": [],
   "source": [
    "cutoff = round(Ridgefield.shape[0]*.8)\n",
    "train = Ridgefield[:cutoff]\n",
    "test = Ridgefield[cutoff:]"
   ]
  },
  {
   "cell_type": "markdown",
   "metadata": {},
   "source": [
    "### Naive Model"
   ]
  },
  {
   "cell_type": "code",
   "execution_count": 16,
   "metadata": {},
   "outputs": [
    {
     "name": "stdout",
     "output_type": "stream",
     "text": [
      "The Naive Model RMSE for the train data is: 2716.51\n",
      "The Naive Model RMSE for the test data is: 4378.41\n"
     ]
    }
   ],
   "source": [
    "naive_model(train, test)"
   ]
  },
  {
   "cell_type": "markdown",
   "metadata": {},
   "source": [
    "The RMSE for the Naive Model is 2717 for the train and 4378 on the test data."
   ]
  },
  {
   "cell_type": "markdown",
   "metadata": {},
   "source": [
    "## Arima Model"
   ]
  },
  {
   "cell_type": "markdown",
   "metadata": {},
   "source": [
    "### Random Walk Model"
   ]
  },
  {
   "cell_type": "code",
   "execution_count": 17,
   "metadata": {},
   "outputs": [
    {
     "data": {
      "text/plain": [
       "2716.5137802645777"
      ]
     },
     "execution_count": 17,
     "metadata": {},
     "output_type": "execute_result"
    }
   ],
   "source": [
    "random_walk_model = ARIMA(train, order=(0,1,0)).fit()\n",
    "y_hat = random_walk_model.predict(type='levels')\n",
    "RMSE = np.sqrt(mean_squared_error(train[1:], y_hat[1:]))\n",
    "RMSE"
   ]
  },
  {
   "cell_type": "markdown",
   "metadata": {},
   "source": [
    "The Random Walk Model RMSE is 2717, the same as the naive model. Let's use Auto ARIMA to select a SARIMAX model."
   ]
  },
  {
   "cell_type": "markdown",
   "metadata": {},
   "source": [
    "### Auto ARIMA"
   ]
  },
  {
   "cell_type": "code",
   "execution_count": 18,
   "metadata": {
    "scrolled": true
   },
   "outputs": [
    {
     "name": "stdout",
     "output_type": "stream",
     "text": [
      "Performing stepwise search to minimize aic\n",
      " ARIMA(0,1,0)(0,0,0)[12] intercept   : AIC=4552.078, Time=0.03 sec\n",
      " ARIMA(1,1,0)(1,0,0)[12] intercept   : AIC=4544.288, Time=1.11 sec\n",
      " ARIMA(0,1,1)(0,0,1)[12] intercept   : AIC=4538.703, Time=0.84 sec\n",
      " ARIMA(0,1,0)(0,0,0)[12]             : AIC=4571.763, Time=0.02 sec\n",
      " ARIMA(0,1,1)(0,0,0)[12] intercept   : AIC=4541.313, Time=0.38 sec\n",
      " ARIMA(0,1,1)(1,0,1)[12] intercept   : AIC=4540.696, Time=0.97 sec\n",
      " ARIMA(0,1,1)(0,0,2)[12] intercept   : AIC=4540.657, Time=1.29 sec\n",
      " ARIMA(0,1,1)(1,0,0)[12] intercept   : AIC=4538.708, Time=0.47 sec\n",
      " ARIMA(0,1,1)(1,0,2)[12] intercept   : AIC=4542.651, Time=2.45 sec\n",
      " ARIMA(0,1,0)(0,0,1)[12] intercept   : AIC=4549.091, Time=0.18 sec\n",
      " ARIMA(1,1,1)(0,0,1)[12] intercept   : AIC=4582.465, Time=1.67 sec\n",
      " ARIMA(0,1,2)(0,0,1)[12] intercept   : AIC=4533.883, Time=0.58 sec\n",
      " ARIMA(0,1,2)(0,0,0)[12] intercept   : AIC=4536.744, Time=0.36 sec\n",
      " ARIMA(0,1,2)(1,0,1)[12] intercept   : AIC=4535.870, Time=1.04 sec\n",
      " ARIMA(0,1,2)(0,0,2)[12] intercept   : AIC=4535.841, Time=1.48 sec\n",
      " ARIMA(0,1,2)(1,0,0)[12] intercept   : AIC=4533.875, Time=0.60 sec\n",
      " ARIMA(0,1,2)(2,0,0)[12] intercept   : AIC=4535.874, Time=1.29 sec\n",
      " ARIMA(0,1,2)(2,0,1)[12] intercept   : AIC=4537.857, Time=2.07 sec\n",
      " ARIMA(1,1,2)(1,0,0)[12] intercept   : AIC=4568.605, Time=1.76 sec\n",
      " ARIMA(0,1,3)(1,0,0)[12] intercept   : AIC=4529.899, Time=0.32 sec\n",
      " ARIMA(0,1,3)(0,0,0)[12] intercept   : AIC=4532.457, Time=0.16 sec\n",
      " ARIMA(0,1,3)(2,0,0)[12] intercept   : AIC=4531.895, Time=0.70 sec\n",
      " ARIMA(0,1,3)(1,0,1)[12] intercept   : AIC=4531.888, Time=0.69 sec\n",
      " ARIMA(0,1,3)(0,0,1)[12] intercept   : AIC=4529.958, Time=0.41 sec\n",
      " ARIMA(0,1,3)(2,0,1)[12] intercept   : AIC=4533.888, Time=1.72 sec\n",
      " ARIMA(1,1,3)(1,0,0)[12] intercept   : AIC=4520.363, Time=2.23 sec\n",
      " ARIMA(1,1,3)(0,0,0)[12] intercept   : AIC=4524.576, Time=1.08 sec\n",
      " ARIMA(1,1,3)(2,0,0)[12] intercept   : AIC=4575.610, Time=3.63 sec\n",
      " ARIMA(1,1,3)(1,0,1)[12] intercept   : AIC=inf, Time=2.91 sec\n",
      " ARIMA(1,1,3)(0,0,1)[12] intercept   : AIC=4519.596, Time=2.06 sec\n",
      " ARIMA(1,1,3)(0,0,2)[12] intercept   : AIC=4527.170, Time=4.18 sec\n",
      " ARIMA(1,1,3)(1,0,2)[12] intercept   : AIC=inf, Time=3.98 sec\n",
      " ARIMA(1,1,2)(0,0,1)[12] intercept   : AIC=4567.746, Time=1.21 sec\n",
      " ARIMA(2,1,3)(0,0,1)[12] intercept   : AIC=4880.577, Time=1.91 sec\n",
      " ARIMA(1,1,4)(0,0,1)[12] intercept   : AIC=4509.680, Time=1.28 sec\n",
      " ARIMA(1,1,4)(0,0,0)[12] intercept   : AIC=4538.282, Time=0.70 sec\n",
      " ARIMA(1,1,4)(1,0,1)[12] intercept   : AIC=inf, Time=1.51 sec\n",
      " ARIMA(1,1,4)(0,0,2)[12] intercept   : AIC=4590.307, Time=2.78 sec\n",
      " ARIMA(1,1,4)(1,0,0)[12] intercept   : AIC=4505.736, Time=1.34 sec\n",
      " ARIMA(1,1,4)(2,0,0)[12] intercept   : AIC=4562.416, Time=2.57 sec\n",
      " ARIMA(1,1,4)(2,0,1)[12] intercept   : AIC=inf, Time=3.29 sec\n",
      " ARIMA(0,1,4)(1,0,0)[12] intercept   : AIC=4527.317, Time=0.88 sec\n",
      " ARIMA(2,1,4)(1,0,0)[12] intercept   : AIC=4755.881, Time=1.45 sec\n",
      " ARIMA(1,1,5)(1,0,0)[12] intercept   : AIC=4530.457, Time=1.27 sec\n",
      " ARIMA(0,1,5)(1,0,0)[12] intercept   : AIC=4525.604, Time=0.20 sec\n",
      " ARIMA(2,1,3)(1,0,0)[12] intercept   : AIC=4828.121, Time=1.37 sec\n",
      " ARIMA(2,1,5)(1,0,0)[12] intercept   : AIC=4890.536, Time=1.53 sec\n",
      " ARIMA(1,1,4)(1,0,0)[12]             : AIC=4517.640, Time=0.96 sec\n",
      "\n",
      "Best model:  ARIMA(1,1,4)(1,0,0)[12] intercept\n",
      "Total fit time: 67.026 seconds\n"
     ]
    }
   ],
   "source": [
    "auto_Saratoga = pm.auto_arima(train, \n",
    "                                  start_p=0,\n",
    "                                  start_q=0,\n",
    "                                  max_p=10,\n",
    "                                  max_q=10,\n",
    "                                  d=None,\n",
    "                                  seasonal=True,\n",
    "                                  start_P=0,\n",
    "                                  start_Q=0,\n",
    "                                  max_P=10,\n",
    "                                  max_Q=10,\n",
    "                                  m=12,\n",
    "                                  D=None,\n",
    "                                  test='kpss',\n",
    "                                  trace=True,\n",
    "                                  stepwise=True,\n",
    "                                  n_fits=1000)"
   ]
  },
  {
   "cell_type": "code",
   "execution_count": 19,
   "metadata": {},
   "outputs": [
    {
     "data": {
      "text/plain": [
       "6038.15086942812"
      ]
     },
     "execution_count": 19,
     "metadata": {},
     "output_type": "execute_result"
    }
   ],
   "source": [
    "sarimax_model = SARIMAX(train, order=(1,1,4), seasonal_order=(1,0,0,12),\n",
    "                       enforce_stationarity=False, enforce_invertability=False).fit()\n",
    "yhat_train = sarimax_model.predict(type='levels')\n",
    "RMSE = np.sqrt(mean_squared_error(train[1:], yhat_train[1:]))\n",
    "RMSE"
   ]
  },
  {
   "cell_type": "markdown",
   "metadata": {},
   "source": [
    "Auto ARIMA suggests a SARIMAX that produces an RMSE of 6038 on the training data. "
   ]
  },
  {
   "cell_type": "code",
   "execution_count": 20,
   "metadata": {},
   "outputs": [],
   "source": [
    "fig, ax = plt.subplots(figsize=(12,8))\n",
    "train[1:].plot(ax=ax)\n",
    "yhat_train[1:].plot(ax=ax);"
   ]
  },
  {
   "cell_type": "markdown",
   "metadata": {},
   "source": [
    "Clearly, the model is having trouble early in the time series.  Let's try a 'brute force' SARIMAX search."
   ]
  },
  {
   "cell_type": "markdown",
   "metadata": {},
   "source": [
    "### SARIMAX GridSearch and Model"
   ]
  },
  {
   "cell_type": "code",
   "execution_count": 21,
   "metadata": {
    "scrolled": true
   },
   "outputs": [
    {
     "name": "stdout",
     "output_type": "stream",
     "text": [
      "THERE ARE 64 ITERATIONS\n",
      "Would you like to run the models? (y or n)?y\n",
      "SARIMAX (1, 1, 1) x (1, 1, 1, 12) - AIC:3798.2856531420766\n",
      "SARIMAX (1, 1, 1) x (1, 1, 2, 12) - AIC:3445.7690913013525\n",
      "SARIMAX (1, 1, 1) x (1, 2, 1, 12) - AIC:3769.995904554385\n",
      "SARIMAX (1, 1, 1) x (1, 2, 2, 12) - AIC:3512.1196129274012\n",
      "SARIMAX (1, 1, 1) x (2, 1, 1, 12) - AIC:3533.1956862914676\n",
      "SARIMAX (1, 1, 1) x (2, 1, 2, 12) - AIC:3519.0938677477225\n",
      "SARIMAX (1, 1, 1) x (2, 2, 1, 12) - AIC:3491.641475798326\n",
      "SARIMAX (1, 1, 1) x (2, 2, 2, 12) - AIC:3480.181707268659\n",
      "SARIMAX (1, 1, 2) x (1, 1, 1, 12) - AIC:3769.7516354342097\n",
      "SARIMAX (1, 1, 2) x (1, 1, 2, 12) - AIC:3430.6307268374726\n",
      "SARIMAX (1, 1, 2) x (1, 2, 1, 12) - AIC:3754.6412613680586\n",
      "SARIMAX (1, 1, 2) x (1, 2, 2, 12) - AIC:3542.379589538853\n",
      "SARIMAX (1, 1, 2) x (2, 1, 1, 12) - AIC:3534.7844616217553\n",
      "SARIMAX (1, 1, 2) x (2, 1, 2, 12) - AIC:3504.735326147171\n",
      "SARIMAX (1, 1, 2) x (2, 2, 1, 12) - AIC:3493.07035904837\n",
      "SARIMAX (1, 1, 2) x (2, 2, 2, 12) - AIC:3465.90035937655\n",
      "SARIMAX (1, 2, 1) x (1, 1, 1, 12) - AIC:3782.9808908686127\n",
      "SARIMAX (1, 2, 1) x (1, 1, 2, 12) - AIC:3439.970989471205\n",
      "SARIMAX (1, 2, 1) x (1, 2, 1, 12) - AIC:3771.1874242198814\n",
      "SARIMAX (1, 2, 1) x (1, 2, 2, 12) - AIC:3539.451376955113\n",
      "SARIMAX (1, 2, 1) x (2, 1, 1, 12) - AIC:3522.629070265427\n",
      "SARIMAX (1, 2, 1) x (2, 1, 2, 12) - AIC:3438.4821560681366\n",
      "SARIMAX (1, 2, 1) x (2, 2, 1, 12) - AIC:3554.546775828271\n",
      "SARIMAX (1, 2, 1) x (2, 2, 2, 12) - AIC:3476.817811957556\n",
      "SARIMAX (1, 2, 2) x (1, 1, 1, 12) - AIC:3758.6789282887007\n",
      "SARIMAX (1, 2, 2) x (1, 1, 2, 12) - AIC:3426.2158894813633\n",
      "SARIMAX (1, 2, 2) x (1, 2, 1, 12) - AIC:3780.805174529668\n",
      "SARIMAX (1, 2, 2) x (1, 2, 2, 12) - AIC:3464.594816777947\n",
      "SARIMAX (1, 2, 2) x (2, 1, 1, 12) - AIC:3522.9400801626334\n",
      "SARIMAX (1, 2, 2) x (2, 1, 2, 12) - AIC:3424.5945287969844\n",
      "SARIMAX (1, 2, 2) x (2, 2, 1, 12) - AIC:3482.2605836840276\n",
      "SARIMAX (1, 2, 2) x (2, 2, 2, 12) - AIC:3466.4938077840425\n",
      "SARIMAX (2, 1, 1) x (1, 1, 1, 12) - AIC:3786.634144016665\n",
      "SARIMAX (2, 1, 1) x (1, 1, 2, 12) - AIC:3447.725721136935\n",
      "SARIMAX (2, 1, 1) x (1, 2, 1, 12) - AIC:3771.994580942348\n",
      "SARIMAX (2, 1, 1) x (1, 2, 2, 12) - AIC:3508.278183665944\n",
      "SARIMAX (2, 1, 1) x (2, 1, 1, 12) - AIC:3518.7464897844766\n",
      "SARIMAX (2, 1, 1) x (2, 1, 2, 12) - AIC:3520.7135496394594\n",
      "SARIMAX (2, 1, 1) x (2, 2, 1, 12) - AIC:3470.7457736181123\n",
      "SARIMAX (2, 1, 1) x (2, 2, 2, 12) - AIC:3481.3620416993394\n",
      "SARIMAX (2, 1, 2) x (1, 1, 1, 12) - AIC:3782.6211375785506\n",
      "SARIMAX (2, 1, 2) x (1, 1, 2, 12) - AIC:3474.061289587046\n",
      "SARIMAX (2, 1, 2) x (1, 2, 1, 12) - AIC:3779.768267640384\n",
      "SARIMAX (2, 1, 2) x (1, 2, 2, 12) - AIC:3493.358953272731\n",
      "SARIMAX (2, 1, 2) x (2, 1, 1, 12) - AIC:3519.729463944701\n",
      "SARIMAX (2, 1, 2) x (2, 1, 2, 12) - AIC:3504.4358434317273\n",
      "SARIMAX (2, 1, 2) x (2, 2, 1, 12) - AIC:3472.727130588647\n",
      "SARIMAX (2, 1, 2) x (2, 2, 2, 12) - AIC:3458.219507891291\n",
      "SARIMAX (2, 2, 1) x (1, 1, 1, 12) - AIC:3773.12453198033\n",
      "SARIMAX (2, 2, 1) x (1, 1, 2, 12) - AIC:3441.8766458870855\n",
      "SARIMAX (2, 2, 1) x (1, 2, 1, 12) - AIC:3746.3326697317443\n",
      "SARIMAX (2, 2, 1) x (1, 2, 2, 12) - AIC:3536.7402121388072\n",
      "SARIMAX (2, 2, 1) x (2, 1, 1, 12) - AIC:3506.4561916648545\n",
      "SARIMAX (2, 2, 1) x (2, 1, 2, 12) - AIC:3440.414132157328\n",
      "SARIMAX (2, 2, 1) x (2, 2, 1, 12) - AIC:3536.472414038014\n",
      "SARIMAX (2, 2, 1) x (2, 2, 2, 12) - AIC:3462.3252076730278\n",
      "SARIMAX (2, 2, 2) x (1, 1, 1, 12) - AIC:3762.3877196630365\n",
      "SARIMAX (2, 2, 2) x (1, 1, 2, 12) - AIC:3428.0963868877725\n",
      "SARIMAX (2, 2, 2) x (1, 2, 1, 12) - AIC:3720.069071632717\n",
      "SARIMAX (2, 2, 2) x (1, 2, 2, 12) - AIC:3522.524180653799\n",
      "SARIMAX (2, 2, 2) x (2, 1, 1, 12) - AIC:3539.0401204098225\n",
      "SARIMAX (2, 2, 2) x (2, 1, 2, 12) - AIC:3426.5247901400116\n",
      "SARIMAX (2, 2, 2) x (2, 2, 1, 12) - AIC:3531.2246185315353\n",
      "SARIMAX (2, 2, 2) x (2, 2, 2, 12) - AIC:3524.975109623195\n",
      "BEST RESULTS:  SARIMAX (1, 2, 2) x (2, 1, 2, 12) - AIC:3524.975109623195\n"
     ]
    }
   ],
   "source": [
    "sarimax_search(train, p=range(1,3), d=range(1,3), q=range(1,3), maxiter=100)"
   ]
  },
  {
   "cell_type": "code",
   "execution_count": 22,
   "metadata": {},
   "outputs": [
    {
     "data": {
      "text/plain": [
       "17772.96039822502"
      ]
     },
     "execution_count": 22,
     "metadata": {},
     "output_type": "execute_result"
    }
   ],
   "source": [
    "sarimax_model2 = SARIMAX(train, order=(1,2,2), seasonal_order=(1,2,2,12),\n",
    "                       enforce_stationarity=False, enforce_invertability=False).fit()\n",
    "yhat_train = sarimax_model2.predict(type='levels')\n",
    "RMSE = np.sqrt(mean_squared_error(train[1:], yhat_train[1:]))\n",
    "RMSE"
   ]
  },
  {
   "cell_type": "markdown",
   "metadata": {},
   "source": [
    "Not a great RMSE at 17391.  Let's move on to Facebook Prophet."
   ]
  },
  {
   "cell_type": "markdown",
   "metadata": {},
   "source": [
    "### Facebook Prophet Model"
   ]
  },
  {
   "cell_type": "code",
   "execution_count": 23,
   "metadata": {},
   "outputs": [],
   "source": [
    "Ridgefield_proph = Ridgefield.reset_index()\n",
    "Ridgefield_proph = Ridgefield_proph.rename(columns={'time':'ds', 'value':'y'})"
   ]
  },
  {
   "cell_type": "code",
   "execution_count": 24,
   "metadata": {},
   "outputs": [
    {
     "name": "stderr",
     "output_type": "stream",
     "text": [
      "INFO:fbprophet:Disabling weekly seasonality. Run prophet with weekly_seasonality=True to override this.\n",
      "INFO:fbprophet:Disabling daily seasonality. Run prophet with daily_seasonality=True to override this.\n"
     ]
    },
    {
     "name": "stdout",
     "output_type": "stream",
     "text": [
      "RMSE for the train data: 3634.7244564567377\n",
      "%RMSE:  y    0.011588\n",
      "dtype: float64\n"
     ]
    }
   ],
   "source": [
    "fbprophet_func(Ridgefield_proph, city='Ridgefield, WA')"
   ]
  },
  {
   "cell_type": "markdown",
   "metadata": {},
   "source": [
    "A much better RMSE than the SARIMAX at 3643.  Let's try a neural network."
   ]
  },
  {
   "cell_type": "markdown",
   "metadata": {},
   "source": [
    "### LSTM Model"
   ]
  },
  {
   "cell_type": "code",
   "execution_count": 25,
   "metadata": {
    "scrolled": true
   },
   "outputs": [
    {
     "name": "stdout",
     "output_type": "stream",
     "text": [
      "Model: \"sequential\"\n",
      "_________________________________________________________________\n",
      "Layer (type)                 Output Shape              Param #   \n",
      "=================================================================\n",
      "lstm (LSTM)                  (None, 5, 64)             16896     \n",
      "_________________________________________________________________\n",
      "lstm_1 (LSTM)                (None, 5, 32)             12416     \n",
      "_________________________________________________________________\n",
      "lstm_2 (LSTM)                (None, 16)                3136      \n",
      "_________________________________________________________________\n",
      "dropout (Dropout)            (None, 16)                0         \n",
      "_________________________________________________________________\n",
      "dense (Dense)                (None, 1)                 17        \n",
      "=================================================================\n",
      "Total params: 32,465\n",
      "Trainable params: 32,465\n",
      "Non-trainable params: 0\n",
      "_________________________________________________________________\n",
      "Epoch 1/100\n",
      "48/48 [==============================] - 1s 17ms/step - loss: 0.8276 - val_loss: 5.1424\n",
      "Epoch 2/100\n",
      "48/48 [==============================] - 0s 5ms/step - loss: 0.2591 - val_loss: 0.4865\n",
      "Epoch 3/100\n",
      "48/48 [==============================] - 0s 6ms/step - loss: 0.1306 - val_loss: 1.1273\n",
      "Epoch 4/100\n",
      "48/48 [==============================] - 0s 6ms/step - loss: 0.1079 - val_loss: 1.3688\n",
      "Epoch 5/100\n",
      "48/48 [==============================] - 0s 5ms/step - loss: 0.0930 - val_loss: 1.2340\n",
      "Epoch 6/100\n",
      "48/48 [==============================] - 0s 6ms/step - loss: 0.0984 - val_loss: 0.2974\n",
      "Epoch 7/100\n",
      "48/48 [==============================] - 0s 6ms/step - loss: 0.1002 - val_loss: 0.9030\n",
      "Epoch 8/100\n",
      "48/48 [==============================] - 0s 6ms/step - loss: 0.1146 - val_loss: 0.4000\n",
      "Epoch 9/100\n",
      "48/48 [==============================] - 0s 6ms/step - loss: 0.0953 - val_loss: 0.2978\n",
      "Epoch 10/100\n",
      "48/48 [==============================] - 0s 6ms/step - loss: 0.0865 - val_loss: 0.1477\n",
      "Epoch 11/100\n",
      "48/48 [==============================] - 0s 6ms/step - loss: 0.0732 - val_loss: 0.0543\n",
      "Epoch 12/100\n",
      "48/48 [==============================] - 0s 6ms/step - loss: 0.0783 - val_loss: 0.0341\n",
      "Epoch 13/100\n",
      "48/48 [==============================] - 0s 6ms/step - loss: 0.0855 - val_loss: 0.1383\n",
      "Epoch 14/100\n",
      "48/48 [==============================] - 0s 6ms/step - loss: 0.0974 - val_loss: 0.4295\n",
      "Epoch 15/100\n",
      "48/48 [==============================] - 0s 6ms/step - loss: 0.0913 - val_loss: 0.0234\n",
      "Epoch 16/100\n",
      "48/48 [==============================] - 0s 6ms/step - loss: 0.0757 - val_loss: 0.0716\n",
      "Epoch 17/100\n",
      "48/48 [==============================] - 0s 6ms/step - loss: 0.0620 - val_loss: 0.1212\n",
      "Epoch 18/100\n",
      "48/48 [==============================] - 0s 6ms/step - loss: 0.0788 - val_loss: 0.3643\n",
      "Epoch 19/100\n",
      "48/48 [==============================] - 0s 5ms/step - loss: 0.0645 - val_loss: 0.3073\n",
      "Epoch 20/100\n",
      "48/48 [==============================] - 0s 6ms/step - loss: 0.0873 - val_loss: 0.0077\n",
      "Epoch 21/100\n",
      "48/48 [==============================] - 0s 5ms/step - loss: 0.0856 - val_loss: 0.5112\n",
      "Epoch 22/100\n",
      "48/48 [==============================] - 0s 6ms/step - loss: 0.0666 - val_loss: 0.0153\n",
      "Epoch 23/100\n",
      "48/48 [==============================] - 0s 6ms/step - loss: 0.0882 - val_loss: 0.0649\n",
      "Epoch 24/100\n",
      "48/48 [==============================] - 0s 6ms/step - loss: 0.0711 - val_loss: 0.0814\n",
      "Epoch 25/100\n",
      "48/48 [==============================] - 0s 6ms/step - loss: 0.0749 - val_loss: 0.0555\n",
      "Epoch 26/100\n",
      "48/48 [==============================] - 0s 6ms/step - loss: 0.0688 - val_loss: 0.0469\n",
      "Epoch 27/100\n",
      "48/48 [==============================] - 0s 7ms/step - loss: 0.0660 - val_loss: 0.0120\n",
      "Epoch 28/100\n",
      "48/48 [==============================] - 0s 7ms/step - loss: 0.0577 - val_loss: 0.3212\n",
      "Epoch 29/100\n",
      "48/48 [==============================] - 0s 7ms/step - loss: 0.0701 - val_loss: 0.0395\n",
      "Epoch 30/100\n",
      "48/48 [==============================] - 0s 6ms/step - loss: 0.0563 - val_loss: 0.3466\n",
      "Epoch 31/100\n",
      "48/48 [==============================] - 0s 7ms/step - loss: 0.0728 - val_loss: 1.0208\n",
      "Epoch 32/100\n",
      "48/48 [==============================] - 0s 7ms/step - loss: 0.0971 - val_loss: 0.0196\n",
      "Epoch 33/100\n",
      "48/48 [==============================] - 0s 7ms/step - loss: 0.0503 - val_loss: 0.2796\n",
      "Epoch 34/100\n",
      "48/48 [==============================] - 0s 6ms/step - loss: 0.0747 - val_loss: 0.0378\n",
      "Epoch 35/100\n",
      "48/48 [==============================] - 0s 6ms/step - loss: 0.0551 - val_loss: 0.0098\n",
      "Epoch 36/100\n",
      "48/48 [==============================] - 0s 7ms/step - loss: 0.0908 - val_loss: 0.0082\n",
      "Epoch 37/100\n",
      "48/48 [==============================] - 0s 6ms/step - loss: 0.0757 - val_loss: 0.0204\n",
      "Epoch 38/100\n",
      "48/48 [==============================] - 0s 7ms/step - loss: 0.0720 - val_loss: 0.0045\n",
      "Epoch 39/100\n",
      "48/48 [==============================] - 0s 6ms/step - loss: 0.0553 - val_loss: 0.2538\n",
      "Epoch 40/100\n",
      "48/48 [==============================] - 0s 6ms/step - loss: 0.0636 - val_loss: 0.1251\n",
      "Epoch 41/100\n",
      "48/48 [==============================] - 0s 6ms/step - loss: 0.0652 - val_loss: 0.2705\n",
      "Epoch 42/100\n",
      "48/48 [==============================] - 0s 6ms/step - loss: 0.0771 - val_loss: 0.1032\n",
      "Epoch 43/100\n",
      "48/48 [==============================] - 0s 5ms/step - loss: 0.0879 - val_loss: 0.2388\n",
      "Epoch 44/100\n",
      "48/48 [==============================] - 0s 6ms/step - loss: 0.0634 - val_loss: 0.0215\n",
      "Epoch 45/100\n",
      "48/48 [==============================] - 0s 6ms/step - loss: 0.0913 - val_loss: 0.1788\n",
      "Epoch 46/100\n",
      "48/48 [==============================] - 0s 6ms/step - loss: 0.0801 - val_loss: 0.1311\n",
      "Epoch 47/100\n",
      "48/48 [==============================] - 0s 6ms/step - loss: 0.0607 - val_loss: 0.0053\n",
      "Epoch 48/100\n",
      "48/48 [==============================] - 0s 6ms/step - loss: 0.0855 - val_loss: 0.1372\n",
      "Epoch 49/100\n",
      "48/48 [==============================] - 0s 6ms/step - loss: 0.0721 - val_loss: 0.0217\n",
      "Epoch 50/100\n",
      "48/48 [==============================] - 0s 6ms/step - loss: 0.0601 - val_loss: 0.3749\n",
      "Epoch 51/100\n",
      "48/48 [==============================] - 0s 6ms/step - loss: 0.0562 - val_loss: 0.2341\n",
      "Epoch 52/100\n",
      "48/48 [==============================] - 0s 6ms/step - loss: 0.0488 - val_loss: 0.1560\n",
      "Epoch 53/100\n",
      "48/48 [==============================] - 0s 6ms/step - loss: 0.0648 - val_loss: 0.0139\n",
      "Epoch 54/100\n",
      "48/48 [==============================] - 0s 6ms/step - loss: 0.0659 - val_loss: 0.0378\n",
      "Epoch 55/100\n",
      "48/48 [==============================] - 0s 6ms/step - loss: 0.0682 - val_loss: 0.0987\n",
      "Epoch 56/100\n",
      "48/48 [==============================] - 0s 6ms/step - loss: 0.0762 - val_loss: 0.0059\n",
      "Epoch 57/100\n",
      "48/48 [==============================] - 0s 6ms/step - loss: 0.0558 - val_loss: 0.0742\n",
      "Epoch 58/100\n",
      "48/48 [==============================] - 0s 5ms/step - loss: 0.0628 - val_loss: 0.1958\n",
      "Epoch 59/100\n",
      "48/48 [==============================] - 0s 5ms/step - loss: 0.0656 - val_loss: 0.0409\n",
      "Epoch 60/100\n",
      "48/48 [==============================] - 0s 5ms/step - loss: 0.0621 - val_loss: 0.1928\n",
      "Epoch 61/100\n",
      "48/48 [==============================] - 0s 5ms/step - loss: 0.0469 - val_loss: 0.1265\n",
      "Epoch 62/100\n",
      "48/48 [==============================] - 0s 6ms/step - loss: 0.0473 - val_loss: 0.1139\n",
      "Epoch 63/100\n",
      "48/48 [==============================] - 0s 5ms/step - loss: 0.0505 - val_loss: 0.0362\n",
      "Epoch 64/100\n",
      "48/48 [==============================] - 0s 6ms/step - loss: 0.0559 - val_loss: 0.1310\n",
      "Epoch 65/100\n",
      "48/48 [==============================] - 0s 6ms/step - loss: 0.0648 - val_loss: 0.2350\n",
      "Epoch 66/100\n",
      "48/48 [==============================] - 0s 5ms/step - loss: 0.0460 - val_loss: 0.1340\n",
      "Epoch 67/100\n",
      "48/48 [==============================] - 0s 5ms/step - loss: 0.0776 - val_loss: 0.0928\n",
      "Epoch 68/100\n",
      "48/48 [==============================] - 0s 6ms/step - loss: 0.0477 - val_loss: 0.0253\n",
      "Epoch 69/100\n",
      "48/48 [==============================] - 0s 5ms/step - loss: 0.0585 - val_loss: 0.0234\n",
      "Epoch 70/100\n",
      "48/48 [==============================] - 0s 5ms/step - loss: 0.0537 - val_loss: 0.2964\n",
      "Epoch 71/100\n",
      "48/48 [==============================] - 0s 6ms/step - loss: 0.0609 - val_loss: 0.1973\n",
      "Epoch 72/100\n",
      "48/48 [==============================] - 0s 6ms/step - loss: 0.0772 - val_loss: 0.1617\n"
     ]
    },
    {
     "name": "stdout",
     "output_type": "stream",
     "text": [
      "Epoch 73/100\n",
      "48/48 [==============================] - 0s 5ms/step - loss: 0.0671 - val_loss: 0.1978\n",
      "Epoch 74/100\n",
      "48/48 [==============================] - 0s 5ms/step - loss: 0.0670 - val_loss: 0.0167\n",
      "Epoch 75/100\n",
      "48/48 [==============================] - 0s 6ms/step - loss: 0.0781 - val_loss: 0.3634\n",
      "Epoch 76/100\n",
      "48/48 [==============================] - 0s 6ms/step - loss: 0.0589 - val_loss: 0.0241\n",
      "Epoch 77/100\n",
      "48/48 [==============================] - 0s 6ms/step - loss: 0.0686 - val_loss: 0.2024\n",
      "Epoch 78/100\n",
      "48/48 [==============================] - 0s 6ms/step - loss: 0.0619 - val_loss: 0.2316\n",
      "Epoch 79/100\n",
      "48/48 [==============================] - 0s 5ms/step - loss: 0.0638 - val_loss: 0.6760\n",
      "Epoch 80/100\n",
      "48/48 [==============================] - 0s 6ms/step - loss: 0.0558 - val_loss: 0.0434\n",
      "Epoch 81/100\n",
      "48/48 [==============================] - 0s 6ms/step - loss: 0.0588 - val_loss: 0.4086\n",
      "Epoch 82/100\n",
      "48/48 [==============================] - 0s 6ms/step - loss: 0.0565 - val_loss: 0.0841\n",
      "Epoch 83/100\n",
      "48/48 [==============================] - 0s 6ms/step - loss: 0.0595 - val_loss: 0.4072\n",
      "Epoch 84/100\n",
      "48/48 [==============================] - 0s 6ms/step - loss: 0.0556 - val_loss: 0.0383\n",
      "Epoch 85/100\n",
      "48/48 [==============================] - 0s 6ms/step - loss: 0.0696 - val_loss: 0.0810\n",
      "Epoch 86/100\n",
      "48/48 [==============================] - 0s 6ms/step - loss: 0.0741 - val_loss: 0.0506\n",
      "Epoch 87/100\n",
      "48/48 [==============================] - 0s 7ms/step - loss: 0.0501 - val_loss: 0.0615\n",
      "Epoch 88/100\n",
      "48/48 [==============================] - 0s 6ms/step - loss: 0.0486 - val_loss: 0.8542\n",
      "Epoch 89/100\n",
      "48/48 [==============================] - 0s 7ms/step - loss: 0.0581 - val_loss: 0.2347\n",
      "Epoch 90/100\n",
      "48/48 [==============================] - 0s 6ms/step - loss: 0.0625 - val_loss: 0.5364\n",
      "Epoch 91/100\n",
      "48/48 [==============================] - 0s 8ms/step - loss: 0.0511 - val_loss: 0.5676\n",
      "Epoch 92/100\n",
      "48/48 [==============================] - 0s 8ms/step - loss: 0.0533 - val_loss: 0.3397\n",
      "Epoch 93/100\n",
      "48/48 [==============================] - 0s 8ms/step - loss: 0.0550 - val_loss: 0.4479\n",
      "Epoch 94/100\n",
      "48/48 [==============================] - 0s 7ms/step - loss: 0.0640 - val_loss: 0.2433\n",
      "Epoch 95/100\n",
      "48/48 [==============================] - 0s 7ms/step - loss: 0.0623 - val_loss: 0.4402\n",
      "Epoch 96/100\n",
      "48/48 [==============================] - 0s 7ms/step - loss: 0.0488 - val_loss: 0.1758\n",
      "Epoch 97/100\n",
      "48/48 [==============================] - 0s 7ms/step - loss: 0.0587 - val_loss: 0.0993\n",
      "Epoch 98/100\n",
      "48/48 [==============================] - 0s 7ms/step - loss: 0.0743 - val_loss: 0.4311\n",
      "Epoch 99/100\n",
      "48/48 [==============================] - 0s 6ms/step - loss: 0.0593 - val_loss: 0.2271\n",
      "Epoch 100/100\n",
      "48/48 [==============================] - 0s 7ms/step - loss: 0.0578 - val_loss: 0.1602\n",
      "RMSE: 6593.376785630058\n",
      "%RMSE:  2210.3849791030534\n"
     ]
    }
   ],
   "source": [
    "history = LSTM_func(Ridgefield_proph, City=Ridgefield, epochs=100)"
   ]
  },
  {
   "cell_type": "code",
   "execution_count": 26,
   "metadata": {},
   "outputs": [],
   "source": [
    "LSTM_val(history)"
   ]
  },
  {
   "cell_type": "markdown",
   "metadata": {},
   "source": [
    "The LSTM model produces an RMSE above that of the Prophet model.  "
   ]
  },
  {
   "cell_type": "markdown",
   "metadata": {},
   "source": [
    "## Best Model"
   ]
  },
  {
   "cell_type": "markdown",
   "metadata": {},
   "source": [
    "We suspect that the Prophet model will be best for making predictions, but let's check the RMSE on the test data first. "
   ]
  },
  {
   "cell_type": "code",
   "execution_count": 27,
   "metadata": {},
   "outputs": [],
   "source": [
    "train_proph = train.reset_index()\n",
    "train_proph = train_proph.rename(columns={'time':'ds', 'value':'y'})\n",
    "\n",
    "test_proph = test.reset_index()\n",
    "test_proph = test_proph.rename(columns={'time':'ds', 'value':'y'})"
   ]
  },
  {
   "cell_type": "code",
   "execution_count": 28,
   "metadata": {},
   "outputs": [
    {
     "name": "stderr",
     "output_type": "stream",
     "text": [
      "INFO:fbprophet:Disabling weekly seasonality. Run prophet with weekly_seasonality=True to override this.\n",
      "INFO:fbprophet:Disabling daily seasonality. Run prophet with daily_seasonality=True to override this.\n"
     ]
    }
   ],
   "source": [
    "final_model_test = proph(interval_width=.95)\n",
    "final_model_test.fit(test_proph)\n",
    "future_dates = final_model_test.make_future_dataframe(0, freq='MS')\n",
    "forecast_test = final_model_test.predict(future_dates)"
   ]
  },
  {
   "cell_type": "code",
   "execution_count": 29,
   "metadata": {},
   "outputs": [
    {
     "data": {
      "text/plain": [
       "2670.2260439512625"
      ]
     },
     "execution_count": 29,
     "metadata": {},
     "output_type": "execute_result"
    }
   ],
   "source": [
    "RMSE_test = np.sqrt(mean_squared_error(test_proph.y, forecast_test.yhat))\n",
    "RMSE_test"
   ]
  },
  {
   "cell_type": "markdown",
   "metadata": {},
   "source": [
    "As suspected, the Prophet model has a low RMSE (2670) on the test data, better than our Naive Model for sure.  Let's use Prophet to make predictions for the next five years."
   ]
  },
  {
   "cell_type": "code",
   "execution_count": 30,
   "metadata": {},
   "outputs": [
    {
     "name": "stderr",
     "output_type": "stream",
     "text": [
      "INFO:fbprophet:Disabling weekly seasonality. Run prophet with weekly_seasonality=True to override this.\n",
      "INFO:fbprophet:Disabling daily seasonality. Run prophet with daily_seasonality=True to override this.\n"
     ]
    }
   ],
   "source": [
    "final_model = proph(interval_width=.95)\n",
    "final_model.fit(Ridgefield_proph)\n",
    "future_dates = final_model.make_future_dataframe(periods=60, freq='MS')\n",
    "forecast = final_model.predict(future_dates)\n",
    "final_model.plot(forecast, uncertainty=True);"
   ]
  },
  {
   "cell_type": "code",
   "execution_count": 31,
   "metadata": {},
   "outputs": [],
   "source": [
    "forecast_future = forecast.set_index('ds')"
   ]
  },
  {
   "cell_type": "code",
   "execution_count": 32,
   "metadata": {},
   "outputs": [],
   "source": [
    "forecast_future = forecast_future['2021-08-01':]\n",
    "forecast_future = forecast_future.reset_index()"
   ]
  },
  {
   "cell_type": "code",
   "execution_count": 33,
   "metadata": {
    "scrolled": false
   },
   "outputs": [],
   "source": [
    "fig, ax = plt.subplots(figsize=(12,8))\n",
    "ax.plot(Ridgefield_proph.ds, Ridgefield_proph.y, label='Actual')\n",
    "ax.plot(forecast_future.ds, forecast_future.yhat, label='Forecasted')\n",
    "ax.set_title('Forecasted vs. Acutual Home Prices in 98642 (Ridgefield, WA)')\n",
    "ax.set_ylabel('Dollars')\n",
    "ax.legend();"
   ]
  },
  {
   "cell_type": "code",
   "execution_count": 34,
   "metadata": {},
   "outputs": [
    {
     "name": "stdout",
     "output_type": "stream",
     "text": [
      "Current price:                $566010\n",
      "Predicted 2026 price:         $655427\n",
      "Predicted five year increase: $89417\n",
      "Predicted five year ROI:      0.1579777742442713\n"
     ]
    }
   ],
   "source": [
    "current_price = int(Ridgefield_proph[Ridgefield_proph.ds == '2021-07-01'].y.values)\n",
    "predicted_price = int(forecast[forecast.ds == '2026-07-01'].yhat.values)\n",
    "pred_five_year_increase = predicted_price - current_price\n",
    "five_year_roi = pred_five_year_increase / current_price\n",
    "print(f'Current price:                ${current_price}')\n",
    "print(f'Predicted 2026 price:         ${predicted_price}')\n",
    "print(f'Predicted five year increase: ${pred_five_year_increase}')\n",
    "print(f'Predicted five year ROI:      {five_year_roi}')"
   ]
  },
  {
   "cell_type": "markdown",
   "metadata": {},
   "source": [
    "The final Prophet model predicts a five year ROI of 15.8%."
   ]
  }
 ],
 "metadata": {
  "kernelspec": {
   "display_name": "Python 3",
   "language": "python",
   "name": "python3"
  },
  "language_info": {
   "codemirror_mode": {
    "name": "ipython",
    "version": 3
   },
   "file_extension": ".py",
   "mimetype": "text/x-python",
   "name": "python",
   "nbconvert_exporter": "python",
   "pygments_lexer": "ipython3",
   "version": "3.8.11"
  }
 },
 "nbformat": 4,
 "nbformat_minor": 4
}
