{
  "nbformat": 4,
  "nbformat_minor": 0,
  "metadata": {
    "colab": {
      "name": "zip_code_selection_and_one_model.ipynb",
      "provenance": [],
      "collapsed_sections": [
        "a9tIeCOHsaIF",
        "mp0Yft8-7CCP",
        "qL0TbeTk6ym3"
      ],
      "machine_shape": "hm",
      "authorship_tag": "ABX9TyP7c46GKc+UsFVOl5T9brMf"
    },
    "kernelspec": {
      "name": "python3",
      "display_name": "Python 3"
    },
    "language_info": {
      "name": "python"
    }
  },
  "cells": [
    {
      "cell_type": "code",
      "metadata": {
        "colab": {
          "base_uri": "https://localhost:8080/"
        },
        "id": "ck2ClHaDhtNg",
        "outputId": "832ddd9e-402f-4967-c99b-1b8c5a72d5de"
      },
      "source": [
        "import pandas as pd\n",
        "import numpy as np\n",
        "import matplotlib.pyplot as plt\n",
        "import math\n",
        "import datetime as dt\n",
        "from sklearn.preprocessing import StandardScaler\n",
        "from sklearn.neural_network import MLPRegressor"
      ],
      "execution_count": 1,
      "outputs": [
        {
          "output_type": "stream",
          "text": [
            "/usr/local/lib/python3.7/dist-packages/statsmodels/tools/_testing.py:19: FutureWarning: pandas.util.testing is deprecated. Use the functions in the public API at pandas.testing instead.\n",
            "  import pandas.util.testing as tm\n"
          ],
          "name": "stderr"
        },
        {
          "output_type": "stream",
          "text": [
            "Mounted at /content/gdrive\n"
          ],
          "name": "stdout"
        }
      ]
    },
    {
      "cell_type": "markdown",
      "metadata": {
        "id": "IalAV1p6rlFL"
      },
      "source": [
        "# Zillow Data Cleaning"
      ]
    },
    {
      "cell_type": "markdown",
      "metadata": {
        "id": "k70LOd9rs6BD"
      },
      "source": [
        "### Reformat Zillow Data"
      ]
    },
    {
      "cell_type": "code",
      "metadata": {
        "id": "64d43e30"
      },
      "source": [
        "def melt_data(df, compress = False, _id_vars=None):\n",
        "    \"\"\"\n",
        "    Takes the zillow_data dataset in wide form or a subset of the zillow_dataset.  \n",
        "    Returns a long-form datetime dataframe \n",
        "    with the datetime column names as the index and the values as the 'values' column.\n",
        "    \n",
        "    If more than one row is passes in the wide-form dataset, the values column\n",
        "    will be the mean of the values from the datetime columns in all of the rows.\n",
        "    \n",
        "    If compress is True will compress data to only the value column.\n",
        "    \"\"\"\n",
        "    if not _id_vars:\n",
        "      _id_vars = ['RegionName', 'RegionID', 'SizeRank', 'City', 'State', \n",
        "                                        'Metro', 'CountyName','RegionType', 'StateName']\n",
        "                                        \n",
        "    present_vars = df.columns[df.columns.isin(_id_vars)]\n",
        "    if not present_vars.empty:\n",
        "\n",
        "      melted = pd.melt(df,id_vars=present_vars, var_name='time')\n",
        "    else:\n",
        "      melted = pd.melt(df, var_name='time')\n",
        "    \n",
        "    melted['time'] = pd.to_datetime(melted['time'], infer_datetime_format=True)\n",
        "    resampled = melted.groupby(['RegionName','RegionID','time'])['value'].mean().reset_index()\n",
        "    resampled['time'] = resampled['time'].apply(lambda x: x.strftime('%Y-%m'))\n",
        "    return resampled.reset_index()"
      ],
      "execution_count": null,
      "outputs": []
    },
    {
      "cell_type": "code",
      "metadata": {
        "colab": {
          "base_uri": "https://localhost:8080/",
          "height": 419
        },
        "id": "58QAySkERV-T",
        "outputId": "4ab38864-5f35-4246-f3d0-9d05eff4dbd9"
      },
      "source": [
        "home_value = pd.read_csv('/content/gdrive/MyDrive/Phase_4_Project/data/new_zillow_data.csv')\n",
        "zillow_data = melt_data(home_value)"
      ],
      "execution_count": null,
      "outputs": [
        {
          "output_type": "execute_result",
          "data": {
            "text/html": [
              "<div>\n",
              "<style scoped>\n",
              "    .dataframe tbody tr th:only-of-type {\n",
              "        vertical-align: middle;\n",
              "    }\n",
              "\n",
              "    .dataframe tbody tr th {\n",
              "        vertical-align: top;\n",
              "    }\n",
              "\n",
              "    .dataframe thead th {\n",
              "        text-align: right;\n",
              "    }\n",
              "</style>\n",
              "<table border=\"1\" class=\"dataframe\">\n",
              "  <thead>\n",
              "    <tr style=\"text-align: right;\">\n",
              "      <th></th>\n",
              "      <th>index</th>\n",
              "      <th>RegionName</th>\n",
              "      <th>RegionID</th>\n",
              "      <th>time</th>\n",
              "      <th>value</th>\n",
              "    </tr>\n",
              "  </thead>\n",
              "  <tbody>\n",
              "    <tr>\n",
              "      <th>0</th>\n",
              "      <td>0</td>\n",
              "      <td>501</td>\n",
              "      <td>58001</td>\n",
              "      <td>1996-01</td>\n",
              "      <td>NaN</td>\n",
              "    </tr>\n",
              "    <tr>\n",
              "      <th>1</th>\n",
              "      <td>1</td>\n",
              "      <td>501</td>\n",
              "      <td>58001</td>\n",
              "      <td>1996-02</td>\n",
              "      <td>NaN</td>\n",
              "    </tr>\n",
              "    <tr>\n",
              "      <th>2</th>\n",
              "      <td>2</td>\n",
              "      <td>501</td>\n",
              "      <td>58001</td>\n",
              "      <td>1996-03</td>\n",
              "      <td>NaN</td>\n",
              "    </tr>\n",
              "    <tr>\n",
              "      <th>3</th>\n",
              "      <td>3</td>\n",
              "      <td>501</td>\n",
              "      <td>58001</td>\n",
              "      <td>1996-04</td>\n",
              "      <td>NaN</td>\n",
              "    </tr>\n",
              "    <tr>\n",
              "      <th>4</th>\n",
              "      <td>4</td>\n",
              "      <td>501</td>\n",
              "      <td>58001</td>\n",
              "      <td>1996-05</td>\n",
              "      <td>NaN</td>\n",
              "    </tr>\n",
              "    <tr>\n",
              "      <th>...</th>\n",
              "      <td>...</td>\n",
              "      <td>...</td>\n",
              "      <td>...</td>\n",
              "      <td>...</td>\n",
              "      <td>...</td>\n",
              "    </tr>\n",
              "    <tr>\n",
              "      <th>9467568</th>\n",
              "      <td>9467568</td>\n",
              "      <td>99901</td>\n",
              "      <td>100478</td>\n",
              "      <td>2021-03</td>\n",
              "      <td>318919.0</td>\n",
              "    </tr>\n",
              "    <tr>\n",
              "      <th>9467569</th>\n",
              "      <td>9467569</td>\n",
              "      <td>99901</td>\n",
              "      <td>100478</td>\n",
              "      <td>2021-04</td>\n",
              "      <td>319969.0</td>\n",
              "    </tr>\n",
              "    <tr>\n",
              "      <th>9467570</th>\n",
              "      <td>9467570</td>\n",
              "      <td>99901</td>\n",
              "      <td>100478</td>\n",
              "      <td>2021-05</td>\n",
              "      <td>320923.0</td>\n",
              "    </tr>\n",
              "    <tr>\n",
              "      <th>9467571</th>\n",
              "      <td>9467571</td>\n",
              "      <td>99901</td>\n",
              "      <td>100478</td>\n",
              "      <td>2021-06</td>\n",
              "      <td>321739.0</td>\n",
              "    </tr>\n",
              "    <tr>\n",
              "      <th>9467572</th>\n",
              "      <td>9467572</td>\n",
              "      <td>99901</td>\n",
              "      <td>100478</td>\n",
              "      <td>2021-07</td>\n",
              "      <td>322259.0</td>\n",
              "    </tr>\n",
              "  </tbody>\n",
              "</table>\n",
              "<p>9467573 rows × 5 columns</p>\n",
              "</div>"
            ],
            "text/plain": [
              "           index  RegionName  RegionID     time     value\n",
              "0              0         501     58001  1996-01       NaN\n",
              "1              1         501     58001  1996-02       NaN\n",
              "2              2         501     58001  1996-03       NaN\n",
              "3              3         501     58001  1996-04       NaN\n",
              "4              4         501     58001  1996-05       NaN\n",
              "...          ...         ...       ...      ...       ...\n",
              "9467568  9467568       99901    100478  2021-03  318919.0\n",
              "9467569  9467569       99901    100478  2021-04  319969.0\n",
              "9467570  9467570       99901    100478  2021-05  320923.0\n",
              "9467571  9467571       99901    100478  2021-06  321739.0\n",
              "9467572  9467572       99901    100478  2021-07  322259.0\n",
              "\n",
              "[9467573 rows x 5 columns]"
            ]
          },
          "metadata": {},
          "execution_count": 5
        }
      ]
    },
    {
      "cell_type": "markdown",
      "metadata": {
        "id": "S6t7JzkBsHD3"
      },
      "source": [
        "## Import Realtor.com data"
      ]
    },
    {
      "cell_type": "code",
      "metadata": {
        "colab": {
          "base_uri": "https://localhost:8080/"
        },
        "id": "wWGO3eeLsGTj",
        "outputId": "58df3d7a-f9d1-4650-da1c-8e45a08e776b"
      },
      "source": [
        "rdc_current_inventory = pd.read_csv('/content/gdrive/MyDrive/Phase_4_Project/data/RDC_inventory_currnt_month.csv')\n",
        "rdc_historical_inventory = pd.read_csv('/content/gdrive/MyDrive/Phase_4_Project/data/RDC_Inventory_Core_Metrics_Zip_History.csv')\n",
        "rdc_inventory = pd.concat([rdc_current_inventory, rdc_historical_inventory])\n",
        "\n",
        "\n",
        "rdc_hotness = pd.read_csv('/content/gdrive/MyDrive/Phase_4_Project/data/market_hotness.csv')\n",
        "# Find the common columns of the inventory and hotness dataframes and merge\n",
        "common_cols = rdc_hotness.columns[rdc_hotness.columns.isin(rdc_inventory.columns)]\n",
        "rdc_data = rdc_inventory.merge(rdc_hotness, on=list(common_cols),how='left')[:-1].reset_index()\n",
        "rdc_data"
      ],
      "execution_count": 44,
      "outputs": [
        {
          "output_type": "stream",
          "text": [
            "/usr/local/lib/python3.7/dist-packages/IPython/core/interactiveshell.py:2718: DtypeWarning: Columns (0,1,3) have mixed types.Specify dtype option on import or set low_memory=False.\n",
            "  interactivity=interactivity, compiler=compiler, result=result)\n"
          ],
          "name": "stderr"
        }
      ]
    },
    {
      "cell_type": "code",
      "metadata": {
        "colab": {
          "base_uri": "https://localhost:8080/"
        },
        "id": "GSP05jjuKhqU",
        "outputId": "58c3b0b0-0447-4d8b-9ffa-6a5ffa39742f"
      },
      "source": [
        " # Target columns for further analysis\n",
        " cols =['median_days_on_market', 'median_days_on_market_mm',\n",
        "       'median_days_on_market_yy', 'new_listing_count', 'new_listing_count_mm',\n",
        "       'new_listing_count_yy', 'price_increased_count',\n",
        "       'price_increased_count_mm', 'price_increased_count_yy',\n",
        "       'price_reduced_count', 'price_reduced_count_mm',\n",
        "       'price_reduced_count_yy', 'pending_ratio',\n",
        "       'pending_ratio_mm', 'pending_ratio_yy', 'postal_code', 'time']\n",
        "\n",
        "# Turn time column into a datetime object\n",
        "rdc_data['time'] = pd.to_datetime(rdc_data['month_date_yyyymm'].apply(lambda x: str(x)[:4]+'-'+str(x)[4:]), errors='coerce')\n",
        "\n",
        "# Ensures that the data is on a monthly frequency\n",
        "rdc_resampled = rdc_data.groupby(['postal_code','time']).mean().reset_index()\n",
        "rdc_resampled['time'] = rdc_resampled['time'].apply(lambda x: x.strftime('%Y-%m'))"
      ],
      "execution_count": null,
      "outputs": [
        {
          "output_type": "stream",
          "text": [
            "       postal_code  ... median_listing_price_vs_us\n",
            "0             1001  ...                        NaN\n",
            "1             1001  ...                        NaN\n",
            "2             1001  ...                        NaN\n",
            "3             1001  ...                        NaN\n",
            "4             1001  ...                        NaN\n",
            "...            ...  ...                        ...\n",
            "923931       99801  ...                        NaN\n",
            "923932       99801  ...                        NaN\n",
            "923933       99827  ...                        NaN\n",
            "923934       99901  ...                        NaN\n",
            "923935       99901  ...                        NaN\n",
            "\n",
            "[923936 rows x 52 columns]\n"
          ],
          "name": "stdout"
        }
      ]
    },
    {
      "cell_type": "code",
      "metadata": {
        "colab": {
          "base_uri": "https://localhost:8080/",
          "height": 609
        },
        "id": "tbSH_IPAoMGL",
        "outputId": "a22573f5-349b-4abf-a468-c8611a4f8700"
      },
      "source": [
        "# Merge realtor.com and zillow data on postal code and timing columns\n",
        "zillow_renamed = zillow_data.rename(columns={'RegionName': 'postal_code'})\n",
        "merged = zillow_renamed.merge(rdc_resampled[cols], on=['postal_code','time']).dropna()\n",
        "merged"
      ],
      "execution_count": null,
      "outputs": [
        {
          "output_type": "execute_result",
          "data": {
            "text/html": [
              "<div>\n",
              "<style scoped>\n",
              "    .dataframe tbody tr th:only-of-type {\n",
              "        vertical-align: middle;\n",
              "    }\n",
              "\n",
              "    .dataframe tbody tr th {\n",
              "        vertical-align: top;\n",
              "    }\n",
              "\n",
              "    .dataframe thead th {\n",
              "        text-align: right;\n",
              "    }\n",
              "</style>\n",
              "<table border=\"1\" class=\"dataframe\">\n",
              "  <thead>\n",
              "    <tr style=\"text-align: right;\">\n",
              "      <th></th>\n",
              "      <th>index</th>\n",
              "      <th>postal_code</th>\n",
              "      <th>RegionID</th>\n",
              "      <th>time</th>\n",
              "      <th>value</th>\n",
              "      <th>median_days_on_market</th>\n",
              "      <th>median_days_on_market_mm</th>\n",
              "      <th>median_days_on_market_yy</th>\n",
              "      <th>new_listing_count</th>\n",
              "      <th>new_listing_count_mm</th>\n",
              "      <th>new_listing_count_yy</th>\n",
              "      <th>price_increased_count</th>\n",
              "      <th>price_increased_count_mm</th>\n",
              "      <th>price_increased_count_yy</th>\n",
              "      <th>price_reduced_count</th>\n",
              "      <th>price_reduced_count_mm</th>\n",
              "      <th>price_reduced_count_yy</th>\n",
              "      <th>pending_ratio</th>\n",
              "      <th>pending_ratio_mm</th>\n",
              "      <th>pending_ratio_yy</th>\n",
              "    </tr>\n",
              "  </thead>\n",
              "  <tbody>\n",
              "    <tr>\n",
              "      <th>1408</th>\n",
              "      <td>18068</td>\n",
              "      <td>1085</td>\n",
              "      <td>58254</td>\n",
              "      <td>2017-11</td>\n",
              "      <td>237049.0</td>\n",
              "      <td>65.0</td>\n",
              "      <td>-0.150327</td>\n",
              "      <td>-0.103448</td>\n",
              "      <td>28.0</td>\n",
              "      <td>-0.1250</td>\n",
              "      <td>0.1667</td>\n",
              "      <td>0.0</td>\n",
              "      <td>-1.0</td>\n",
              "      <td>-1.0</td>\n",
              "      <td>32.0</td>\n",
              "      <td>-0.2727</td>\n",
              "      <td>0.0000</td>\n",
              "      <td>0.093458</td>\n",
              "      <td>-0.0065</td>\n",
              "      <td>0.0408</td>\n",
              "    </tr>\n",
              "    <tr>\n",
              "      <th>3720</th>\n",
              "      <td>46002</td>\n",
              "      <td>1453</td>\n",
              "      <td>58371</td>\n",
              "      <td>2017-08</td>\n",
              "      <td>251413.0</td>\n",
              "      <td>30.0</td>\n",
              "      <td>-0.090909</td>\n",
              "      <td>-0.482759</td>\n",
              "      <td>60.0</td>\n",
              "      <td>0.2500</td>\n",
              "      <td>0.5000</td>\n",
              "      <td>0.0</td>\n",
              "      <td>-1.0</td>\n",
              "      <td>-1.0</td>\n",
              "      <td>32.0</td>\n",
              "      <td>0.6000</td>\n",
              "      <td>0.0000</td>\n",
              "      <td>0.153846</td>\n",
              "      <td>-0.0551</td>\n",
              "      <td>-0.0502</td>\n",
              "    </tr>\n",
              "    <tr>\n",
              "      <th>3722</th>\n",
              "      <td>46004</td>\n",
              "      <td>1453</td>\n",
              "      <td>58371</td>\n",
              "      <td>2017-10</td>\n",
              "      <td>254972.0</td>\n",
              "      <td>41.0</td>\n",
              "      <td>-0.046512</td>\n",
              "      <td>-0.068182</td>\n",
              "      <td>60.0</td>\n",
              "      <td>0.1538</td>\n",
              "      <td>0.1538</td>\n",
              "      <td>0.0</td>\n",
              "      <td>-1.0</td>\n",
              "      <td>-1.0</td>\n",
              "      <td>48.0</td>\n",
              "      <td>0.0000</td>\n",
              "      <td>0.0000</td>\n",
              "      <td>0.119266</td>\n",
              "      <td>-0.0457</td>\n",
              "      <td>-0.0130</td>\n",
              "    </tr>\n",
              "    <tr>\n",
              "      <th>4071</th>\n",
              "      <td>49071</td>\n",
              "      <td>1475</td>\n",
              "      <td>58384</td>\n",
              "      <td>2017-07</td>\n",
              "      <td>195469.0</td>\n",
              "      <td>66.0</td>\n",
              "      <td>0.389474</td>\n",
              "      <td>-0.014925</td>\n",
              "      <td>8.0</td>\n",
              "      <td>-0.5000</td>\n",
              "      <td>-0.5000</td>\n",
              "      <td>0.0</td>\n",
              "      <td>-1.0</td>\n",
              "      <td>-1.0</td>\n",
              "      <td>8.0</td>\n",
              "      <td>-0.3333</td>\n",
              "      <td>-0.5000</td>\n",
              "      <td>0.194444</td>\n",
              "      <td>-0.0306</td>\n",
              "      <td>-0.0556</td>\n",
              "    </tr>\n",
              "    <tr>\n",
              "      <th>4545</th>\n",
              "      <td>52763</td>\n",
              "      <td>1520</td>\n",
              "      <td>58400</td>\n",
              "      <td>2018-03</td>\n",
              "      <td>329895.0</td>\n",
              "      <td>69.0</td>\n",
              "      <td>-0.245902</td>\n",
              "      <td>0.086614</td>\n",
              "      <td>28.0</td>\n",
              "      <td>0.4000</td>\n",
              "      <td>0.7500</td>\n",
              "      <td>0.0</td>\n",
              "      <td>-1.0</td>\n",
              "      <td>-1.0</td>\n",
              "      <td>4.0</td>\n",
              "      <td>-0.5000</td>\n",
              "      <td>-0.5000</td>\n",
              "      <td>0.169811</td>\n",
              "      <td>0.0402</td>\n",
              "      <td>-0.0575</td>\n",
              "    </tr>\n",
              "    <tr>\n",
              "      <th>...</th>\n",
              "      <td>...</td>\n",
              "      <td>...</td>\n",
              "      <td>...</td>\n",
              "      <td>...</td>\n",
              "      <td>...</td>\n",
              "      <td>...</td>\n",
              "      <td>...</td>\n",
              "      <td>...</td>\n",
              "      <td>...</td>\n",
              "      <td>...</td>\n",
              "      <td>...</td>\n",
              "      <td>...</td>\n",
              "      <td>...</td>\n",
              "      <td>...</td>\n",
              "      <td>...</td>\n",
              "      <td>...</td>\n",
              "      <td>...</td>\n",
              "      <td>...</td>\n",
              "      <td>...</td>\n",
              "      <td>...</td>\n",
              "    </tr>\n",
              "    <tr>\n",
              "      <th>897071</th>\n",
              "      <td>9462345</td>\n",
              "      <td>99654</td>\n",
              "      <td>100334</td>\n",
              "      <td>2020-11</td>\n",
              "      <td>276214.0</td>\n",
              "      <td>66.0</td>\n",
              "      <td>0.269231</td>\n",
              "      <td>-0.043478</td>\n",
              "      <td>28.0</td>\n",
              "      <td>0.0000</td>\n",
              "      <td>-0.3000</td>\n",
              "      <td>0.0</td>\n",
              "      <td>-1.0</td>\n",
              "      <td>-1.0</td>\n",
              "      <td>12.0</td>\n",
              "      <td>0.0000</td>\n",
              "      <td>-0.7692</td>\n",
              "      <td>0.000000</td>\n",
              "      <td>0.0000</td>\n",
              "      <td>0.0000</td>\n",
              "    </tr>\n",
              "    <tr>\n",
              "      <th>897074</th>\n",
              "      <td>9462348</td>\n",
              "      <td>99654</td>\n",
              "      <td>100334</td>\n",
              "      <td>2021-02</td>\n",
              "      <td>270558.0</td>\n",
              "      <td>73.0</td>\n",
              "      <td>-0.215054</td>\n",
              "      <td>0.303571</td>\n",
              "      <td>32.0</td>\n",
              "      <td>0.3333</td>\n",
              "      <td>-0.3846</td>\n",
              "      <td>4.0</td>\n",
              "      <td>0.0</td>\n",
              "      <td>0.0</td>\n",
              "      <td>8.0</td>\n",
              "      <td>1.0000</td>\n",
              "      <td>-0.6667</td>\n",
              "      <td>0.000000</td>\n",
              "      <td>0.0000</td>\n",
              "      <td>0.0000</td>\n",
              "    </tr>\n",
              "    <tr>\n",
              "      <th>897075</th>\n",
              "      <td>9462349</td>\n",
              "      <td>99654</td>\n",
              "      <td>100334</td>\n",
              "      <td>2021-03</td>\n",
              "      <td>269632.0</td>\n",
              "      <td>43.0</td>\n",
              "      <td>-0.410959</td>\n",
              "      <td>-0.085106</td>\n",
              "      <td>44.0</td>\n",
              "      <td>0.3750</td>\n",
              "      <td>-0.3529</td>\n",
              "      <td>8.0</td>\n",
              "      <td>1.0</td>\n",
              "      <td>1.0</td>\n",
              "      <td>4.0</td>\n",
              "      <td>-0.5000</td>\n",
              "      <td>-0.8333</td>\n",
              "      <td>0.000000</td>\n",
              "      <td>0.0000</td>\n",
              "      <td>0.0000</td>\n",
              "    </tr>\n",
              "    <tr>\n",
              "      <th>897076</th>\n",
              "      <td>9462350</td>\n",
              "      <td>99654</td>\n",
              "      <td>100334</td>\n",
              "      <td>2021-04</td>\n",
              "      <td>269720.0</td>\n",
              "      <td>33.0</td>\n",
              "      <td>-0.383178</td>\n",
              "      <td>-0.241379</td>\n",
              "      <td>48.0</td>\n",
              "      <td>0.2000</td>\n",
              "      <td>-0.3684</td>\n",
              "      <td>4.0</td>\n",
              "      <td>-0.5</td>\n",
              "      <td>0.0</td>\n",
              "      <td>8.0</td>\n",
              "      <td>1.0000</td>\n",
              "      <td>-0.7500</td>\n",
              "      <td>0.000000</td>\n",
              "      <td>0.0000</td>\n",
              "      <td>0.0000</td>\n",
              "    </tr>\n",
              "    <tr>\n",
              "      <th>897501</th>\n",
              "      <td>9465400</td>\n",
              "      <td>99705</td>\n",
              "      <td>100380</td>\n",
              "      <td>2019-08</td>\n",
              "      <td>232412.0</td>\n",
              "      <td>59.0</td>\n",
              "      <td>0.180000</td>\n",
              "      <td>-0.032787</td>\n",
              "      <td>52.0</td>\n",
              "      <td>0.0000</td>\n",
              "      <td>-0.1333</td>\n",
              "      <td>4.0</td>\n",
              "      <td>0.0</td>\n",
              "      <td>0.0</td>\n",
              "      <td>52.0</td>\n",
              "      <td>-0.1875</td>\n",
              "      <td>-0.3810</td>\n",
              "      <td>0.000000</td>\n",
              "      <td>0.0000</td>\n",
              "      <td>0.0000</td>\n",
              "    </tr>\n",
              "  </tbody>\n",
              "</table>\n",
              "<p>41636 rows × 20 columns</p>\n",
              "</div>"
            ],
            "text/plain": [
              "          index postal_code  ...  pending_ratio_mm pending_ratio_yy\n",
              "1408      18068        1085  ...           -0.0065           0.0408\n",
              "3720      46002        1453  ...           -0.0551          -0.0502\n",
              "3722      46004        1453  ...           -0.0457          -0.0130\n",
              "4071      49071        1475  ...           -0.0306          -0.0556\n",
              "4545      52763        1520  ...            0.0402          -0.0575\n",
              "...         ...         ...  ...               ...              ...\n",
              "897071  9462345       99654  ...            0.0000           0.0000\n",
              "897074  9462348       99654  ...            0.0000           0.0000\n",
              "897075  9462349       99654  ...            0.0000           0.0000\n",
              "897076  9462350       99654  ...            0.0000           0.0000\n",
              "897501  9465400       99705  ...            0.0000           0.0000\n",
              "\n",
              "[41636 rows x 20 columns]"
            ]
          },
          "metadata": {},
          "execution_count": 9
        }
      ]
    },
    {
      "cell_type": "code",
      "metadata": {
        "id": "fLSjFEVs0yLJ"
      },
      "source": [
        "# Filter out for records within the past three years to have relevant data for zip code selection\n",
        "after_2018 = merged[merged['time'].dt.year >=2019]\n",
        "\n",
        "# Ensures that each record has at least 25 months worth of data\n",
        "filtered_df = merged.groupby(['postal_code']).filter(lambda x:len(x) >= 25).set_index(['time','postal_code'])\n",
        "cols = 'value\tmedian_days_on_market\tmedian_days_on_market_mm\tmedian_days_on_market_yy\tnew_listing_count\tnew_listing_count_mm\tnew_listing_count_yy\tprice_increased_count\tprice_increased_count_mm\tprice_increased_count_yy\tprice_reduced_count\tprice_reduced_count_mm\tprice_reduced_count_yy\tpending_ratio\tpending_ratio_mm\tpending_ratio_yy'.split()\n",
        "\n",
        "# Scales the data for accurate weighting and create feature averages for each zip code\n",
        "_df_scaled = pd.DataFrame(StandardScaler().fit_transform(filtered_df[cols]), index = filtered_df.index, columns=cols).reset_index()\n",
        "df_scaled = _df_scaled.groupby('postal_code').mean()"
      ],
      "execution_count": null,
      "outputs": []
    },
    {
      "cell_type": "markdown",
      "metadata": {
        "id": "mp0Yft8-7CCP"
      },
      "source": [
        "## Zip code Selection "
      ]
    },
    {
      "cell_type": "code",
      "metadata": {
        "id": "OXuWvSsD4noc"
      },
      "source": [
        "def get_n_highest_scores(df, weights, n):\n",
        "  scores = pd.Series()\n",
        "  for col, weight in weights.items():\n",
        "    weighted_col = df[col] * weight\n",
        "    if scores.empty:\n",
        "      scores = weighted_col\n",
        "    else:\n",
        "      scores += weighted_col \n",
        "  n_best = scores.sort_values(ascending=False)[:n]\n",
        "  return n_best"
      ],
      "execution_count": 3,
      "outputs": []
    },
    {
      "cell_type": "code",
      "metadata": {
        "colab": {
          "base_uri": "https://localhost:8080/"
        },
        "id": "nXH63qRAYhys",
        "outputId": "9f2e1804-d6df-4299-f2a8-315ba4a60eeb"
      },
      "source": [
        "# Selects the top five zipcodes with the highest scores\n",
        "weights = {'value':0.4, 'median_days_on_market_mm':-0.2,'price_increased_count_mm':2,'pending_ratio_mm':.2}\n",
        "get_n_highest_scores(df_scaled, weights, 5).index\n"
      ],
      "execution_count": null,
      "outputs": [
        {
          "output_type": "stream",
          "text": [
            "/usr/local/lib/python3.7/dist-packages/ipykernel_launcher.py:2: DeprecationWarning: The default dtype for empty Series will be 'object' instead of 'float64' in a future version. Specify a dtype explicitly to silence this warning.\n",
            "  \n"
          ],
          "name": "stderr"
        },
        {
          "output_type": "execute_result",
          "data": {
            "text/plain": [
              "Int64Index([84045, 98642, 28546, 80016, 80516], dtype='int64', name='postal_code')"
            ]
          },
          "metadata": {},
          "execution_count": 178
        }
      ]
    },
    {
      "cell_type": "markdown",
      "metadata": {
        "id": "qL0TbeTk6ym3"
      },
      "source": [
        "## Plotting"
      ]
    },
    {
      "cell_type": "code",
      "metadata": {
        "colab": {
          "base_uri": "https://localhost:8080/",
          "height": 497
        },
        "id": "B4fY-rBFTvl1",
        "outputId": "16f9e828-9b8f-4d5a-fc15-326d0d13467c"
      },
      "source": [
        "def plot_em(df, cols, zipcodes):\n",
        "  # Select target zipcodes from df and average columns\n",
        "  target_df = df.loc[df.postal_code.isin(zipcodes),cols+['postal_code']].set_index('postal_code')\n",
        "  \n",
        "  # Average the other zip codes and add to plotting dataframe\n",
        "  others = df.loc[~df.postal_code.isin(zipcodes), cols].mean()\n",
        "  target_df.loc[\"Others\"] = others.values\n",
        "\n",
        "  # Rename and reformat axis for aesthetics\n",
        "  target_df['value'] = target_df['value']/1000000\n",
        "  target_df = target_df.rename(columns={'value': 'House Value', 'price_increased_count_mm':'Price Increase Count'})\n",
        "  ax = target_df.plot.bar(cmap='Pastel2',figsize=(10,8))\n",
        "  ax.set_ylabel('Average House Value (Million)')\n",
        "  \n",
        "  # Initalize second y axis \n",
        "  sec_yaxis = ax.secondary_yaxis(location='right')\n",
        "  sec_yaxis.set_ylabel(\"Average Price Increase Rate of Change\")\n",
        "\n",
        "  ax.set_xticklabels(ax.get_xticklabels(), rotation=0, ha='center')\n",
        "  ax.set_xlabel('Zip Code')\n",
        "\n",
        "plot_em(new.reset_index(), ['value', 'price_increased_count_mm'],[84045, 98642, 28546, 80016, 80516]) "
      ],
      "execution_count": 79,
      "outputs": [
        {
          "output_type": "display_data",
          "data": {
            "image/png": "[encoded data removed]",
            "text/plain": [
              "<Figure size 720x576 with 1 Axes>"
            ]
          },
          "metadata": {
            "needs_background": "light"
          }
        }
      ]
    },
    {
      "cell_type": "markdown",
      "metadata": {
        "id": "aOroyGItUtFX"
      },
      "source": [
        "4/5 selected zipcodes contain houses with higher values than the other zipcodes combined. Zip code 28546 has homes with lower values, but a very high price increase rate of change. This indicates an 'up and coming' zip code, where the homes have consistently garnered value throughout time.\n",
        "\n",
        "\n",
        "\n"
      ]
    },
    {
      "cell_type": "code",
      "metadata": {
        "colab": {
          "base_uri": "https://localhost:8080/",
          "height": 650
        },
        "id": "MPAdvTlLS33O",
        "outputId": "ee74a266-1815-47f9-848e-6e8177b3135f"
      },
      "source": [
        "def plot_em(df, cols, zipcodes):\n",
        "  # Select target zipcodes from df and average columns\n",
        "  target_df = df.loc[df.postal_code.isin(zipcodes),cols+['postal_code']].set_index('postal_code')\n",
        "  \n",
        "  # Average the other zip codes and add to plotting dataframe\n",
        "  others_avg = df.loc[~df.postal_code.isin(zipcodes),cols].mean()\n",
        "  target_df.loc['Others',:] = others_avg.values\n",
        "  \n",
        "  # Rename and reformat axis for aesthetics\n",
        "  target_df = target_df.rename(columns={'pending_ratio_mm':'Pending Ratio', 'median_days_on_market_mm':'Days on Market'})\n",
        "  ax = target_df.plot.bar(cmap='Pastel2',figsize=(10,8))\n",
        "  ax.set_ylabel(\"Rate of Change\")\n",
        "  \n",
        "  ax.set_xticklabels(ax.get_xticklabels(), rotation=0, ha='center')\n",
        "  ax.set_xlabel('Zip Code')\n",
        "\n",
        "  \n",
        "plot_em(new.reset_index(), ['pending_ratio_mm','median_days_on_market_mm'],[84045, 98642, 28546, 80016, 80516]) "
      ],
      "execution_count": 74,
      "outputs": [
        {
          "output_type": "stream",
          "text": [
            "                                 0  median_days_on_market_mm  pending_ratio_mm\n",
            "28546                          NaN                  0.011568          0.157283\n",
            "80016                          NaN                  0.040345          0.066588\n",
            "80516                          NaN                  0.059299          0.099205\n",
            "84045                          NaN                  0.082466          0.295388\n",
            "98642                          NaN                  0.027138          0.129953\n",
            "Others                         NaN                  0.011317          0.056378\n",
            "pending_ratio_mm          0.056378                       NaN               NaN\n",
            "median_days_on_market_mm  0.011317                       NaN               NaN\n"
          ],
          "name": "stdout"
        },
        {
          "output_type": "display_data",
          "data": {
            "image/png": "[encoded data removed]",
            "text/plain": [
              "<Figure size 720x576 with 1 Axes>"
            ]
          },
          "metadata": {
            "needs_background": "light"
          }
        }
      ]
    },
    {
      "cell_type": "markdown",
      "metadata": {
        "id": "-8u4G9yrUw_V"
      },
      "source": [
        "The average days a property is on the market is not a sufficient indicator of consumer demand, because pending properties, or properties that have accepted offers, are still considered 'on the market'. \n",
        "\n",
        "To judge consumer readiness, we selected zipcodes that outpreformed the other zipcodes for increased the number of pending houses while having comparitavely lower days on market increases."
      ]
    },
    {
      "cell_type": "markdown",
      "metadata": {
        "id": "6qrkDUT0WzJz"
      },
      "source": [
        "## MPL Regression"
      ]
    },
    {
      "cell_type": "code",
      "metadata": {
        "colab": {
          "base_uri": "https://localhost:8080/"
        },
        "id": "E7RN3qQwKrR3",
        "outputId": "f7e296f3-c68d-4626-9509-d10dba6ade9d"
      },
      "source": [
        "from sklearn.neural_network import MLPRegressor\n",
        "import math\n",
        "import datetime as dt\n",
        "import pandas as pd\n",
        "import numpy as np\n",
        "\n",
        "\n",
        "def segment_data(X,y):\n",
        "    #splits data to train and test\n",
        "    index_range, split_index = np.arange(len(X)), math.ceil(len(X)*.8)\n",
        "    train_index, test_index = index_range[:split_index], index_range[split_index:]\n",
        "    \n",
        "    X_train, X_test = X.iloc[train_index,:], X.iloc[test_index,:]\n",
        "    y_train, y_test = y.iloc[train_index], y.iloc[test_index]\n",
        "    return (X_train, y_train), (X_test, y_test)\n",
        "\n",
        "def calc_rmse(y_hat,y_true):\n",
        "  # Calculates rmse\n",
        "  sum_squared_diff = np.sum([(y_pred-y)**2 for y_pred,y_true in zip(y_hat,y_true)])\n",
        "  return sum_squared_diff**0.5\n",
        "\n",
        "def mpl_regressor(X,y, model_kwargs={}):\n",
        "    # A cool regressor function\n",
        "    (X_train, y_train), (X_test,y_test) = segment_data(X,y)\n",
        "    regr = MLPRegressor(**model_kwargs).fit(X_train, y_train)\n",
        "    \n",
        "    _X_test = X_test[X_test['postal_code'] == 84045]\n",
        "    _y_test = y_test[_X_test.index]\n",
        "    \n",
        "    predictions = regr.predict(_X_test.values)\n",
        "    rmse = calc_rmse(predictions,_y_test)\n",
        "    return rmse\n",
        "\n",
        "\n",
        "\n",
        "# Gets the data ready for \n",
        "_df = _df_scaled.reset_index().copy()\n",
        "target_df = _df.sort_values(by='time').drop(columns=['time', 'index']) \n",
        "X, y = target_df.drop(columns='value'), target_df['value']\n",
        "\n",
        "mpl_regressor(X,y, {'learning_rate':'adaptive'\n",
        "                      ,'max_iter': 300\n",
        "                      ,'solver':'adam'\n",
        "                      ,'shuffle':False})"
      ],
      "execution_count": 60,
      "outputs": [
        {
          "output_type": "execute_result",
          "data": {
            "text/plain": [
              "684.009368957799"
            ]
          },
          "metadata": {},
          "execution_count": 60
        }
      ]
    }
  ]
}